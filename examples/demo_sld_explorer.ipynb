{
 "cells": [
  {
   "cell_type": "code",
   "execution_count": null,
   "id": "676b6701-3638-47f5-aa59-3d7b109ce622",
   "metadata": {},
   "outputs": [],
   "source": [
    "from pypowsybl_jupyter import sld_explorer\n",
    "import pypowsybl.network as pn"
   ]
  },
  {
   "cell_type": "code",
   "execution_count": null,
   "id": "f775ac95-c697-49a6-a163-78a63b73cc42",
   "metadata": {},
   "outputs": [],
   "source": [
    "network = pn.create_ieee9()"
   ]
  },
  {
   "cell_type": "code",
   "execution_count": null,
   "id": "02dc0a4c-35ca-4496-9e44-ff31c197422c",
   "metadata": {},
   "outputs": [],
   "source": [
    "#Display a simple explorer widget for the network\n",
    "#built by assembling the SLD widget and other basic ipywidgets.\n",
    "#Select a VL from the VL list to show its SLD diagram.\n",
    "#The Filter text box can be used to search for specific VLs.\n",
    "\n",
    "sld_explorer(network)"
   ]
  }
 ],
 "metadata": {
  "kernelspec": {
   "display_name": "Python 3 (ipykernel)",
   "language": "python",
   "name": "python3"
  },
  "language_info": {
   "codemirror_mode": {
    "name": "ipython",
    "version": 3
   },
   "file_extension": ".py",
   "mimetype": "text/x-python",
   "name": "python",
   "nbconvert_exporter": "python",
   "pygments_lexer": "ipython3",
   "version": "3.12.2"
  }
 },
 "nbformat": 4,
 "nbformat_minor": 5
}
