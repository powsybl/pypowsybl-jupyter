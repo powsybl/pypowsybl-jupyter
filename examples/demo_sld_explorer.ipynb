{
 "cells": [
  {
   "cell_type": "code",
   "execution_count": null,
   "id": "3a3c8cd6-f197-4eb8-bf73-cbd931b244bb",
   "metadata": {},
   "outputs": [],
   "source": [
    "from pypowsybl_jupyter import network_explorer_sld\n",
    "import pypowsybl as pp"
   ]
  },
  {
   "cell_type": "code",
   "execution_count": null,
   "id": "3e65bbd6-b3c8-4294-87e1-3699b47a6952",
   "metadata": {},
   "outputs": [],
   "source": [
    "network = pp.network.create_four_substations_node_breaker_network()"
   ]
  },
  {
   "cell_type": "code",
   "execution_count": null,
   "id": "1f638951-dc80-404f-a45f-abffa0b638be",
   "metadata": {},
   "outputs": [],
   "source": [
    "network_explorer_sld(network)"
   ]
  }
 ],
 "metadata": {
  "kernelspec": {
   "display_name": "Python 3 (ipykernel)",
   "language": "python",
   "name": "python3"
  },
  "language_info": {
   "codemirror_mode": {
    "name": "ipython",
    "version": 3
   },
   "file_extension": ".py",
   "mimetype": "text/x-python",
   "name": "python",
   "nbconvert_exporter": "python",
   "pygments_lexer": "ipython3",
   "version": "3.12.1"
  }
 },
 "nbformat": 4,
 "nbformat_minor": 5
}
