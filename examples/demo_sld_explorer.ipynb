{
 "cells": [
  {
   "cell_type": "code",
   "execution_count": null,
   "id": "b6d17e9b-2a42-481b-903c-a8761f1fe829",
   "metadata": {
    "tags": []
   },
   "outputs": [],
   "source": [
    "import pypowsybl as pp\n",
    "from pypowsybl_jupyter import network_explorer_sld"
   ]
  },
  {
   "cell_type": "code",
   "execution_count": null,
   "id": "54680ba9-ad57-436d-8c1b-ddaf41cba373",
   "metadata": {
    "tags": []
   },
   "outputs": [],
   "source": [
    "network = pp.network.create_four_substations_node_breaker_network()"
   ]
  },
  {
   "cell_type": "code",
   "execution_count": null,
   "id": "a41c8d0d-1340-400b-ab05-5e33657c4bf0",
   "metadata": {
    "tags": []
   },
   "outputs": [],
   "source": [
    "#display a simple SLD explorer widget for the network\n",
    "#(starting from the first network's VL, click on a VL arrow to update the widget)\n",
    "network_explorer_sld(network,  network.get_voltage_levels().index[0])"
   ]
  }
 ],
 "metadata": {
  "kernelspec": {
   "display_name": "Python 3 (ipykernel)",
   "language": "python",
   "name": "python3"
  },
  "language_info": {
   "codemirror_mode": {
    "name": "ipython",
    "version": 3
   },
   "file_extension": ".py",
   "mimetype": "text/x-python",
   "name": "python",
   "nbconvert_exporter": "python",
   "pygments_lexer": "ipython3",
   "version": "3.12.1"
  }
 },
 "nbformat": 4,
 "nbformat_minor": 5
}
