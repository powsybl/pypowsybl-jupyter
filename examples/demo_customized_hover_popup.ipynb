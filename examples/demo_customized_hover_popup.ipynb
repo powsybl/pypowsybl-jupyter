{
 "cells": [
  {
   "cell_type": "code",
   "execution_count": null,
   "id": "c8e66d69-c549-4b70-b2a5-16fe2d12bb91",
   "metadata": {},
   "outputs": [],
   "source": [
    "## This notebook shows how to create a customized popup info panel (that appears when you hover on an equipment):\n",
    "## the operational limits data is added to the popup, in addition to the default equipment's attributes."
   ]
  },
  {
   "cell_type": "code",
   "execution_count": null,
   "id": "1ca3880b-12e0-496d-a32f-36c765a4900c",
   "metadata": {},
   "outputs": [],
   "source": [
    "import pypowsybl.network as pn\n",
    "from pypowsybl_jupyter import network_explorer, display_nad"
   ]
  },
  {
   "cell_type": "code",
   "execution_count": null,
   "id": "707815cb-41c8-4e26-aa9c-163b52cecef4",
   "metadata": {},
   "outputs": [],
   "source": [
    "#network = pn.create_eurostag_tutorial_example1_network()\n",
    "network = pn.load('./data/MicroGridTestConfiguration_T4_BE_BB_Complete_v2.zip', {'iidm.import.cgmes.post-processors': 'cgmesGLImport'})"
   ]
  },
  {
   "cell_type": "code",
   "execution_count": null,
   "id": "a9bddc2c-54ec-4c45-9564-eb12534c9cb5",
   "metadata": {},
   "outputs": [],
   "source": [
    "# create a function that returns the data as html, using the pandas' style APIs\n",
    "\n",
    "def get_equipment_info_with__operational_limits(id, type):\n",
    "\n",
    "    ## retrieve the equipment's operational limits as a dataframe\n",
    "    def get_operational_limits_df(network, id):\n",
    "        operational_limits=network.get_operational_limits(attributes=[\"side\", \"name\", \"type\", \"value\", \"acceptable_duration\", \"fictitious\"])\n",
    "        limits1=None\n",
    "        if id in operational_limits.index:\n",
    "            limits1 = operational_limits.loc[id]\n",
    "        return limits1\n",
    "\n",
    "    ## return the equipment's attributes, combined with its operational limits (if they exist), in HTML\n",
    "    def format_to_html_table(row, support_df, id, type, type2):\n",
    "        table_style =  [\n",
    "                    {\n",
    "                        \"selector\": \"caption\",\n",
    "                        \"props\": \"caption-side: top; font-weight: bold; background-color: #f8f8f8; border-bottom: 1px solid #ddd; width: fit-content; white-space: nowrap;\",\n",
    "                    },\n",
    "                    {\n",
    "                        \"selector\": \"th\",\n",
    "                        \"props\": \"text-align: left; font-weight: bold; background-color: #f8f8f8;\",\n",
    "                    },\n",
    "                    {\n",
    "                        \"selector\": \"td\",\n",
    "                        \"props\": \"text-align: left;\",\n",
    "                    },\n",
    "                ]\n",
    "\n",
    "        # the equipment's attributes\n",
    "        table = (\n",
    "            row.to_frame()\n",
    "            .style.set_caption(f\"{type}: {id}\")\n",
    "            .set_table_styles(table_style)\n",
    "            .format(precision=3, thousands=\".\", decimal=\",\")\n",
    "            .set_table_attributes('border=\"0\"')\n",
    "            .hide(axis=\"columns\")\n",
    "            .to_html()\n",
    "        )\n",
    "\n",
    "        if support_df is not None:\n",
    "            html_template = \"\"\"\n",
    "                <div style='display: flex; gap: 20px;'>\n",
    "                    <div style='border-collapse: collapse; font-size: 0.9em;'>{df1_html}</div>\n",
    "                    <div style='border-collapse: collapse; font-size: 0.9em;'><br><br>{df2_html}</div>\n",
    "                </div>\n",
    "            \"\"\"\n",
    "\n",
    "            # the equipment's operational limits\n",
    "            table2 = (\n",
    "                support_df\n",
    "                .style\n",
    "                .set_caption(f\"{type2}\")\n",
    "                .set_table_styles(table_style)\n",
    "                .format({'value': lambda x: f\"{x:.3e}\" if abs(x) > 1e6 else f\"{x:.3f}\" })\n",
    "                .hide(axis=\"rows\")\n",
    "                .to_html()\n",
    "            )\n",
    "            return  html_template.format(df1_html=table, df2_html=table2)\n",
    "        else:\n",
    "            return table\n",
    "\n",
    "    # process the equipment by its type\n",
    "    if type == 'LINE':\n",
    "        line  = network.get_lines().loc[id]\n",
    "        limits_df = get_operational_limits_df(network, id)\n",
    "        return format_to_html_table(line, limits_df, id, type, 'Operational limits')\n",
    "    elif type == 'HVDC_LINE':\n",
    "        return format_to_html_table(network.get_hvdc_lines().loc[id], None,  id, type, None)\n",
    "    elif type in [ 'PHASE_SHIFT_TRANSFORMER', 'TWO_WINDINGS_TRANSFORMER']:\n",
    "        twt=network.get_2_windings_transformers().loc[id]\n",
    "        limits_df = get_operational_limits_df(network, id)\n",
    "        return format_to_html_table(twt, limits_df, id, type, 'Operational limits')\n",
    "    elif type == 'THREE_WINDINGS_TRANSFORMER':\n",
    "        three_wt = network.get_3_windings_transformers().loc[id]\n",
    "        limits_df = get_operational_limits_df(network, id)\n",
    "        return format_to_html_table(three_wt, limits_df, id, type, 'Operational limits')\n",
    "    elif type == 'DANGLING_LINE':\n",
    "        line  = network.get_dangling_lines().loc[id]\n",
    "        limits_df = get_operational_limits_df(network, id)\n",
    "        return format_to_html_table(line, limits_df, id, type, 'Operational limits')\n",
    "    return \"\""
   ]
  },
  {
   "cell_type": "code",
   "execution_count": null,
   "id": "6fd53d7a-831a-4e30-acdd-1853a14fdbac",
   "metadata": {},
   "outputs": [],
   "source": [
    "network_explorer(network, on_hover_func=get_equipment_info_with__operational_limits)"
   ]
  }
 ],
 "metadata": {
  "kernelspec": {
   "display_name": "Python 3 (ipykernel)",
   "language": "python",
   "name": "python3"
  },
  "language_info": {
   "codemirror_mode": {
    "name": "ipython",
    "version": 3
   },
   "file_extension": ".py",
   "mimetype": "text/x-python",
   "name": "python",
   "nbconvert_exporter": "python",
   "pygments_lexer": "ipython3",
   "version": "3.12.10"
  }
 },
 "nbformat": 4,
 "nbformat_minor": 5
}
