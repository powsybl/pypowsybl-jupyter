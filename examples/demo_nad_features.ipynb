{
 "cells": [
  {
   "cell_type": "code",
   "execution_count": null,
   "id": "747ca44b-4aea-461b-8046-e7ce940297f8",
   "metadata": {},
   "outputs": [],
   "source": [
    "from pypowsybl_jupyter import display_nad\n",
    "import ipywidgets as widgets\n",
    "import pypowsybl as pp"
   ]
  },
  {
   "cell_type": "code",
   "execution_count": null,
   "id": "438c80d3-bf89-4eca-af8e-b9799d903d8c",
   "metadata": {},
   "outputs": [],
   "source": [
    "network = pp.network.create_four_substations_node_breaker_network()"
   ]
  },
  {
   "cell_type": "code",
   "execution_count": null,
   "id": "aa321947-692e-4016-bf76-590628637a3e",
   "metadata": {},
   "outputs": [],
   "source": [
    "#declare some example callbacks, to simply log the events in a output box\n",
    "out1 = widgets.Output(layout=widgets.Layout(width='300px', height=\"600px\", overflow=\"auto\"))\n",
    "def print_infos(data):   \n",
    "    with out1:\n",
    "        print(data)\n",
    "print_infos('Events log:')\n",
    "\n",
    "def test_select_node_callback(event):\n",
    "        print_infos('Selected node: ' + str(event.selected_node))\n",
    "\n",
    "def test_select_menu_callback(event):\n",
    "        print_infos('Selected menu: ' + str(event.selected_menu))\n",
    "\n",
    "def test_move_node_callback(event):\n",
    "        print_infos('Moved node: ' + str(event.moved_node))\n",
    "\n",
    "def test_move_text_node_callback(event):\n",
    "        print_infos('Moved text node: ' + str(event.moved_text_node))"
   ]
  },
  {
   "cell_type": "code",
   "execution_count": null,
   "id": "e3d1c04c-b06e-4d1c-b535-6613f207b1ff",
   "metadata": {},
   "outputs": [],
   "source": [
    "#demonstrates how-to create on-hover info on supported equipments, in the NAD\n",
    "def format_to_html_table(row, id, type):\n",
    "    table = (\n",
    "        row.to_frame()\n",
    "        .style.set_caption(f\"{type}: {id}\")\n",
    "        .set_table_styles(\n",
    "            [\n",
    "                {\n",
    "                    \"selector\": \"caption\",\n",
    "                    \"props\": \"caption-side: top; font-weight: bold; background-color: #f8f8f8; border-bottom: 1px solid #ddd; width: fit-content; white-space: nowrap;\",\n",
    "                },\n",
    "                {\n",
    "                    \"selector\": \"th\",\n",
    "                    \"props\": \"text-align: left; font-weight: bold; background-color: #f8f8f8;\",\n",
    "                },\n",
    "                {\n",
    "                    \"selector\": \"td\",\n",
    "                    \"props\": \"text-align: left;\",\n",
    "                },\n",
    "            ]\n",
    "        )\n",
    "        .format(precision=3, thousands=\".\", decimal=\",\")\n",
    "        .set_table_attributes('border=\"0\"')\n",
    "        .hide(axis=\"columns\")\n",
    "        .to_html()\n",
    "    )\n",
    "    return table\n",
    "\n",
    "def get_equipment_info(id, type):\n",
    "    if type == 'LINE':\n",
    "        return format_to_html_table(network.get_lines().loc[id], id, type)\n",
    "    elif type == 'HVDC_LINE':\n",
    "        return format_to_html_table(network.get_hvdc_lines().loc[id], id, type)\n",
    "    elif type in [ 'PHASE_SHIFT_TRANSFORMER', 'TWO_WINDINGS_TRANSFORMER']:\n",
    "        return format_to_html_table(network.get_2_windings_transformers().loc[id], id, type)\n",
    "    elif type == 'THREE_WINDINGS_TRANSFORMER':\n",
    "        return format_to_html_table(network.get_3_windings_transformers().loc[id], id, type)        \n",
    "    return f\"Equipment of type '{type}' with id '{id}'\""
   ]
  },
  {
   "cell_type": "code",
   "execution_count": null,
   "id": "63745ac5-e1f2-4182-a03b-5bdbe41c3b3e",
   "metadata": {},
   "outputs": [],
   "source": [
    "#create a NAD widget for a network and activate the callbacks\n",
    "nad_widget=display_nad(network.get_network_area_diagram(depth=4), enable_callbacks=True, popup_menu_items=['Item1', 'Item2', 'Item3'], \n",
    "                       on_hover_func=get_equipment_info)\n",
    "nad_widget.on_select_node(test_select_node_callback)\n",
    "nad_widget.on_select_menu(test_select_menu_callback)\n",
    "nad_widget.on_move_node(test_move_node_callback)\n",
    "nad_widget.on_move_text_node(test_move_text_node_callback)\n",
    "\n",
    "#finally, display the widgets\n",
    "widgets.HBox([nad_widget, out1])"
   ]
  }
 ],
 "metadata": {
  "kernelspec": {
   "display_name": "Python 3 (ipykernel)",
   "language": "python",
   "name": "python3"
  },
  "language_info": {
   "codemirror_mode": {
    "name": "ipython",
    "version": 3
   },
   "file_extension": ".py",
   "mimetype": "text/x-python",
   "name": "python",
   "nbconvert_exporter": "python",
   "pygments_lexer": "ipython3",
   "version": "3.12.3"
  }
 },
 "nbformat": 4,
 "nbformat_minor": 5
}
