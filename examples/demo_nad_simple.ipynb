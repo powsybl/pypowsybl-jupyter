{
 "cells": [
  {
   "cell_type": "code",
   "execution_count": null,
   "id": "f42abf42-4718-4f92-a542-68ae289906a6",
   "metadata": {},
   "outputs": [],
   "source": [
    "import pypowsybl.network as pn\n",
    "from pypowsybl_jupyter import display_nad"
   ]
  },
  {
   "cell_type": "code",
   "execution_count": null,
   "id": "ce646543-5d2d-4933-8106-dfb7a281124e",
   "metadata": {},
   "outputs": [],
   "source": [
    "network = pn.create_ieee9()"
   ]
  },
  {
   "cell_type": "code",
   "execution_count": null,
   "id": "a8816d5e-9dc2-40ca-8efa-72386f6b6b1d",
   "metadata": {},
   "outputs": [],
   "source": [
    "vlid=network.get_voltage_levels().index[2]\n",
    "display_nad(network.get_network_area_diagram(voltage_level_ids=vlid, depth=4))"
   ]
  },
  {
   "cell_type": "code",
   "execution_count": null,
   "id": "4998ee29-21f3-45b0-9319-2a188185ad53",
   "metadata": {},
   "outputs": [],
   "source": [
    "#uses NadParameters to customize the NAD\n",
    "pars=pn.NadParameters(edge_name_displayed=True, id_displayed=True, edge_info_along_edge=True, power_value_precision=1, angle_value_precision=0, current_value_precision=1, voltage_value_precision=0, bus_legend=False, substation_description_displayed=True)\n",
    "display_nad(network.get_network_area_diagram(voltage_level_ids=vlid, depth=4, nad_parameters=pars))"
   ]
  }
 ],
 "metadata": {
  "kernelspec": {
   "display_name": "Python 3 (ipykernel)",
   "language": "python",
   "name": "python3"
  },
  "language_info": {
   "codemirror_mode": {
    "name": "ipython",
    "version": 3
   },
   "file_extension": ".py",
   "mimetype": "text/x-python",
   "name": "python",
   "nbconvert_exporter": "python",
   "pygments_lexer": "ipython3",
   "version": "3.10.12"
  }
 },
 "nbformat": 4,
 "nbformat_minor": 5
}
