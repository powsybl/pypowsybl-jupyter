{
 "cells": [
  {
   "cell_type": "code",
   "execution_count": null,
   "id": "b6d17e9b-2a42-481b-903c-a8761f1fe829",
   "metadata": {
    "tags": []
   },
   "outputs": [],
   "source": [
    "from pypowsybl_jupyter import display_svg\n",
    "import pypowsybl.network as pn"
   ]
  },
  {
   "cell_type": "code",
   "execution_count": null,
   "id": "a41c8d0d-1340-400b-ab05-5e33657c4bf0",
   "metadata": {
    "tags": []
   },
   "outputs": [],
   "source": [
    "network = pn.create_ieee9()"
   ]
  },
  {
   "cell_type": "code",
   "execution_count": null,
   "id": "4aeb5de0-94a1-464e-b561-fe0a90fc27f4",
   "metadata": {},
   "outputs": [],
   "source": [
    "#display an SVG (e.g., a single-line-diagram svg), with pan and zoom\n",
    "display_svg(network.get_single_line_diagram(network.get_voltage_levels().index[1]))"
   ]
  }
 ],
 "metadata": {
  "kernelspec": {
   "display_name": "Python 3 (ipykernel)",
   "language": "python",
   "name": "python3"
  },
  "language_info": {
   "codemirror_mode": {
    "name": "ipython",
    "version": 3
   },
   "file_extension": ".py",
   "mimetype": "text/x-python",
   "name": "python",
   "nbconvert_exporter": "python",
   "pygments_lexer": "ipython3",
   "version": "3.11.6"
  }
 },
 "nbformat": 4,
 "nbformat_minor": 5
}
