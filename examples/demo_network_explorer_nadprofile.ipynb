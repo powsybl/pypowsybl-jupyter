{
 "cells": [
  {
   "cell_type": "code",
   "execution_count": 1,
   "id": "f42abf42-4718-4f92-a542-68ae289906a6",
   "metadata": {},
   "outputs": [],
   "source": [
    "import pypowsybl.network as pn\n",
    "from pypowsybl_jupyter import network_explorer\n",
    "import pandas as pd"
   ]
  },
  {
   "cell_type": "code",
   "execution_count": 2,
   "id": "ce646543-5d2d-4933-8106-dfb7a281124e",
   "metadata": {},
   "outputs": [],
   "source": [
    "network=pn.create_four_substations_node_breaker_network()"
   ]
  },
  {
   "cell_type": "code",
   "execution_count": 3,
   "id": "d9507d67-79df-447b-87cd-f72bb370701c",
   "metadata": {},
   "outputs": [],
   "source": [
    "labels_df = pd.DataFrame.from_records(index='id', columns=['id', 'side1', 'middle', 'side2', 'arrow1', 'arrow2'],\n",
    "                                              data=[\n",
    "                                                  ('LINE_S2S3', 'L1_1', 'L1', 'L1_2', 'IN', 'IN'),\n",
    "                                                  ('LINE_S3S4', 'L2_1', 'L2', 'L2_2', 'OUT', 'IN'),\n",
    "                                                  ('TWT', 'TWT1_1', 'TWT1', 'TWT1_2', None, 'OUT')\n",
    "                                              ])\n",
    "vl_descriptions_df=pd.DataFrame.from_records(index='id',\n",
    "                                              data=[\n",
    "                                                 {'id': 'S1VL1', 'type': 'HEADER', 'description': 'VL A'},\n",
    "                                                 {'id': 'S1VL1', 'type': 'FOOTER', 'description': 'VL A footer'},\n",
    "                                                 {'id': 'S1VL2', 'type': 'HEADER', 'description': 'VL B'},\n",
    "                                                 {'id': 'S2VL1', 'type': 'HEADER', 'description': 'VL C'},\n",
    "                                                 {'id': 'S3VL1', 'type': 'HEADER', 'description': 'VL D'},\n",
    "                                                 {'id': 'S3VL1', 'type': 'FOOTER', 'description': 'VL D footer'}\n",
    "                                              ])\n",
    "bus_descriptions_df=pd.DataFrame.from_records(index='id',\n",
    "                                              data=[\n",
    "                                                  {'id': 'S1VL1_0', 'description': 'BUS A'},\n",
    "                                                  {'id': 'S1VL2_0', 'description': 'BUS B'},\n",
    "                                                  {'id': 'S2VL1_0', 'description': 'BUS C'},\n",
    "                                                  {'id': 'S3VL1_0', 'description': 'BUS D'}\n",
    "                                              ])\n",
    "\n",
    "bus_node_style_df = pd.DataFrame.from_records(index='id', \n",
    "                                              data=[\n",
    "                                                  {'id': 'S1VL1_0', 'fill': 'red', 'edge': 'black', 'edge-width': '4px'},\n",
    "                                                  {'id': 'S1VL2_0', 'fill': 'blue', 'edge': 'black', 'edge-width': '4px'},\n",
    "                                                  {'id': 'S2VL1_0', 'fill': 'yellow', 'edge': 'black', 'edge-width': '4px'},\n",
    "                                              ])\n",
    "\n",
    "edge_style_df = pd.DataFrame.from_records(index='id', \n",
    "                                          data=[\n",
    "                                              {'id': 'LINE_S2S3', 'edge1': 'blue', 'width1': '16px', 'dash1': '12,12' ,'edge2': 'blue', 'width2': '16px', 'dash2': '12,3,12'},\n",
    "                                              {'id': 'LINE_S3S4', 'edge1': 'green',  'width1': '3px', 'edge2': 'green',  'width2': '3px'},\n",
    "                                              {'id': 'TWT'      , 'edge1': 'yellow', 'width1': '4px', 'edge2': 'blue',  'width2': '4px'},\n",
    "                                          ])\n",
    "\n",
    "diagram_profile=pn.NadProfile(branch_labels=labels_df, vl_descriptions=vl_descriptions_df, bus_descriptions=bus_descriptions_df,\n",
    "                                      bus_node_styles=bus_node_style_df, edge_styles=edge_style_df)"
   ]
  },
  {
   "cell_type": "code",
   "execution_count": 4,
   "id": "74dd5af0-167d-41a2-a9a3-3ca3c701fe5d",
   "metadata": {},
   "outputs": [
    {
     "data": {
      "application/vnd.jupyter.widget-view+json": {
       "model_id": "b7d5e79f93e04090968bf39271dffc08",
       "version_major": 2,
       "version_minor": 0
      },
      "text/plain": [
       "HBox(children=(VBox(children=(Label(value='Voltage levels'), VBox(children=(Text(value='', description='Filter…"
      ]
     },
     "execution_count": 4,
     "metadata": {},
     "output_type": "execute_result"
    }
   ],
   "source": [
    "network_explorer(network, depth=4, nad_profile=diagram_profile)"
   ]
  }
 ],
 "metadata": {
  "kernelspec": {
   "display_name": "Python 3 (ipykernel)",
   "language": "python",
   "name": "python3"
  },
  "language_info": {
   "codemirror_mode": {
    "name": "ipython",
    "version": 3
   },
   "file_extension": ".py",
   "mimetype": "text/x-python",
   "name": "python",
   "nbconvert_exporter": "python",
   "pygments_lexer": "ipython3",
   "version": "3.10.12"
  }
 },
 "nbformat": 4,
 "nbformat_minor": 5
}
