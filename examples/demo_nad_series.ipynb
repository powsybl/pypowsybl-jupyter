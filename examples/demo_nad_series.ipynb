{
 "cells": [
  {
   "cell_type": "code",
   "execution_count": 1,
   "id": "f42abf42-4718-4f92-a542-68ae289906a6",
   "metadata": {
    "ExecuteTime": {
     "end_time": "2025-05-19T08:24:55.277076Z",
     "start_time": "2025-05-19T08:24:54.421813Z"
    }
   },
   "outputs": [],
   "source": [
    "import pypowsybl.network as pn\n",
    "import pypowsybl.loadflow as lf\n",
    "from pypowsybl_jupyter import nad_time_series\n",
    "from datetime import datetime, timedelta\n",
    "import pandas as pd\n",
    "import random"
   ]
  },
  {
   "cell_type": "code",
   "execution_count": 2,
   "id": "ce646543-5d2d-4933-8106-dfb7a281124e",
   "metadata": {
    "ExecuteTime": {
     "end_time": "2025-05-19T08:24:55.577321Z",
     "start_time": "2025-05-19T08:24:55.286926Z"
    }
   },
   "outputs": [],
   "source": [
    "network = pn.create_ieee118()"
   ]
  },
  {
   "cell_type": "code",
   "execution_count": 3,
   "id": "3c2ec122-3ee8-491e-83ad-a9268faa4264",
   "metadata": {},
   "outputs": [],
   "source": [
    "#let's run a LF so that active powers are included in the diagram\n",
    "lfres=lf.run_ac(network, parameters=lf.Parameters(distributed_slack=False))"
   ]
  },
  {
   "metadata": {},
   "cell_type": "code",
   "outputs": [],
   "execution_count": null,
   "source": [
    "# Get some line IDs from the network to use in our time series data\n",
    "lines = network.get_lines()\n",
    "all_branch_ids = list(lines.index)\n",
    "\n",
    "# Create a simple time series DataFrame\n",
    "# This needs to have a 'timestamp' column at minimum\n",
    "start_time = datetime.now()\n",
    "timestamps = [start_time + timedelta(hours=i) for i in range(24)]  # 24 hours of data\n",
    "\n",
    "# Create branch data with varying values for each timestamp\n",
    "branch_data = []\n",
    "for ts in timestamps:\n",
    "    for branch_id in all_branch_ids:\n",
    "        branch_data.append({\n",
    "            'timestamp': ts,\n",
    "            'branch_id': branch_id,\n",
    "            'value1': random.uniform(50, 100),  \n",
    "            'value2': random.uniform(-100, -50), \n",
    "            'connected1' : True,\n",
    "            'connected2' : True\n",
    "        })\n",
    "# Create a DataFrame with the branch data\n",
    "time_series = pd.DataFrame(branch_data)\n",
    "\n",
    "# Display the first few rows to see the structure\n",
    "time_series.head()"
   ],
   "id": "1aeb6a868e87a4bf"
  },
  {
   "metadata": {},
   "cell_type": "code",
   "outputs": [],
   "execution_count": null,
   "source": [
    "# Display the animated diagram\n",
    "# The diagram will update when you move the time slider\n",
    "nad_time_series(network, time_series_data=time_series)"
   ],
   "id": "d3a5b06b4d5313d2"
  },
  {
   "cell_type": "code",
   "execution_count": null,
   "id": "34e4215171008e30",
   "metadata": {},
   "outputs": [],
   "source": []
  },
  {
   "cell_type": "code",
   "execution_count": null,
   "id": "75cab7f3c6f8a63e",
   "metadata": {},
   "outputs": [],
   "source": []
  },
  {
   "cell_type": "code",
   "execution_count": null,
   "id": "c03be88d-55ad-425f-8bbf-e4eefe7ea2fc",
   "metadata": {},
   "outputs": [],
   "source": []
  },
  {
   "cell_type": "code",
   "execution_count": null,
   "id": "835879a7-6c7c-4d72-aeea-4b38fcc6fdcf",
   "metadata": {},
   "outputs": [],
   "source": []
  },
  {
   "cell_type": "code",
   "execution_count": null,
   "id": "cb52b5f2-36c3-435c-a633-6d0415e5432d",
   "metadata": {},
   "outputs": [],
   "source": []
  }
 ],
 "metadata": {
  "kernelspec": {
   "display_name": "Python 3 (ipykernel)",
   "language": "python",
   "name": "python3"
  },
  "language_info": {
   "codemirror_mode": {
    "name": "ipython",
    "version": 3
   },
   "file_extension": ".py",
   "mimetype": "text/x-python",
   "name": "python",
   "nbconvert_exporter": "python",
   "pygments_lexer": "ipython3",
   "version": "3.10.12"
  }
 },
 "nbformat": 4,
 "nbformat_minor": 5
}
