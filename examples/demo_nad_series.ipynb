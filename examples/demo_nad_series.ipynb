{
 "cells": [
  {
   "cell_type": "code",
   "execution_count": 1,
   "id": "f42abf42-4718-4f92-a542-68ae289906a6",
   "metadata": {
    "ExecuteTime": {
     "end_time": "2025-05-19T08:24:55.277076Z",
     "start_time": "2025-05-19T08:24:54.421813Z"
    }
   },
   "outputs": [],
   "source": [
    "import pypowsybl.network as pn\n",
    "import pypowsybl.loadflow as lf\n",
    "from pypowsybl_jupyter import nad_time_series\n",
    "from datetime import datetime, timedelta\n",
    "import pandas as pd\n",
    "import random"
   ]
  },
  {
   "cell_type": "code",
   "execution_count": 2,
   "id": "ce646543-5d2d-4933-8106-dfb7a281124e",
   "metadata": {
    "ExecuteTime": {
     "end_time": "2025-05-19T08:24:55.577321Z",
     "start_time": "2025-05-19T08:24:55.286926Z"
    }
   },
   "outputs": [],
   "source": [
    "network = pn.create_ieee118()"
   ]
  },
  {
   "cell_type": "code",
   "execution_count": 3,
   "id": "3c2ec122-3ee8-491e-83ad-a9268faa4264",
   "metadata": {},
   "outputs": [],
   "source": [
    "#let's run a LF so that active powers are included in the diagram\n",
    "lfres=lf.run_ac(network, parameters=lf.Parameters(distributed_slack=False))"
   ]
  },
  {
   "cell_type": "code",
   "execution_count": 4,
   "id": "46b5e17b-fda0-4293-8ab1-70462ef5ccae",
   "metadata": {},
   "outputs": [
    {
     "data": {
      "text/html": [
       "<div>\n",
       "<style scoped>\n",
       "    .dataframe tbody tr th:only-of-type {\n",
       "        vertical-align: middle;\n",
       "    }\n",
       "\n",
       "    .dataframe tbody tr th {\n",
       "        vertical-align: top;\n",
       "    }\n",
       "\n",
       "    .dataframe thead th {\n",
       "        text-align: right;\n",
       "    }\n",
       "</style>\n",
       "<table border=\"1\" class=\"dataframe\">\n",
       "  <thead>\n",
       "    <tr style=\"text-align: right;\">\n",
       "      <th></th>\n",
       "      <th>timestamp</th>\n",
       "      <th>branch_id</th>\n",
       "      <th>p1</th>\n",
       "      <th>p2</th>\n",
       "      <th>connected1</th>\n",
       "      <th>connected2</th>\n",
       "    </tr>\n",
       "  </thead>\n",
       "  <tbody>\n",
       "    <tr>\n",
       "      <th>0</th>\n",
       "      <td>2025-05-27 14:22:35.240120</td>\n",
       "      <td>L1-2-1</td>\n",
       "      <td>90.753496</td>\n",
       "      <td>-81.810626</td>\n",
       "      <td>True</td>\n",
       "      <td>False</td>\n",
       "    </tr>\n",
       "    <tr>\n",
       "      <th>1</th>\n",
       "      <td>2025-05-27 14:22:35.240120</td>\n",
       "      <td>L1-3-1</td>\n",
       "      <td>59.066460</td>\n",
       "      <td>-81.136340</td>\n",
       "      <td>True</td>\n",
       "      <td>False</td>\n",
       "    </tr>\n",
       "    <tr>\n",
       "      <th>2</th>\n",
       "      <td>2025-05-27 14:22:35.240120</td>\n",
       "      <td>L4-5-1</td>\n",
       "      <td>85.986362</td>\n",
       "      <td>-83.307087</td>\n",
       "      <td>True</td>\n",
       "      <td>False</td>\n",
       "    </tr>\n",
       "    <tr>\n",
       "      <th>3</th>\n",
       "      <td>2025-05-27 14:22:35.240120</td>\n",
       "      <td>L3-5-1</td>\n",
       "      <td>56.556648</td>\n",
       "      <td>-71.284730</td>\n",
       "      <td>True</td>\n",
       "      <td>False</td>\n",
       "    </tr>\n",
       "    <tr>\n",
       "      <th>4</th>\n",
       "      <td>2025-05-27 14:22:35.240120</td>\n",
       "      <td>L5-6-1</td>\n",
       "      <td>77.992758</td>\n",
       "      <td>-96.297868</td>\n",
       "      <td>True</td>\n",
       "      <td>False</td>\n",
       "    </tr>\n",
       "  </tbody>\n",
       "</table>\n",
       "</div>"
      ],
      "text/plain": [
       "                   timestamp branch_id         p1         p2  connected1  \\\n",
       "0 2025-05-27 14:22:35.240120    L1-2-1  90.753496 -81.810626        True   \n",
       "1 2025-05-27 14:22:35.240120    L1-3-1  59.066460 -81.136340        True   \n",
       "2 2025-05-27 14:22:35.240120    L4-5-1  85.986362 -83.307087        True   \n",
       "3 2025-05-27 14:22:35.240120    L3-5-1  56.556648 -71.284730        True   \n",
       "4 2025-05-27 14:22:35.240120    L5-6-1  77.992758 -96.297868        True   \n",
       "\n",
       "   connected2  \n",
       "0       False  \n",
       "1       False  \n",
       "2       False  \n",
       "3       False  \n",
       "4       False  "
      ]
     },
     "execution_count": 4,
     "metadata": {},
     "output_type": "execute_result"
    }
   ],
   "source": [
    "# Get some line IDs from the network to use in our time series data\n",
    "lines = network.get_lines()\n",
    "all_branch_ids = list(lines.index)\n",
    "\n",
    "# Create a simple time series DataFrame\n",
    "# This needs to have a 'timestamp' column at minimum\n",
    "start_time = datetime.now()\n",
    "timestamps = [start_time + timedelta(hours=i) for i in range(24)]  # 24 hours of data\n",
    "\n",
    "# Create branch data with varying values for each timestamp\n",
    "branch_data = []\n",
    "for ts in timestamps:\n",
    "    for branch_id in all_branch_ids:\n",
    "        # Generate some varying values for each branch at each timestamp\n",
    "        # In a real application, these would be actual values from simulations or measurements\n",
    "        branch_data.append({\n",
    "            'timestamp': ts,\n",
    "            'branch_id': branch_id,\n",
    "            'p1': random.uniform(50, 100),  # Active power at side 1 (MW)\n",
    "            'p2': random.uniform(-100, -50),  # Active power at side 2 (MW)\n",
    "            'connected1' : False,\n",
    "            'connected2' : False\n",
    "\n",
    "        })\n",
    "# Create a DataFrame with the branch data\n",
    "time_series_data = pd.DataFrame(branch_data)\n",
    "\n",
    "# Display the first few rows to see the structure\n",
    "time_series_data.head()"
   ]
  },
  {
   "cell_type": "code",
   "execution_count": 5,
   "id": "98db64b2-0490-4380-be32-16cc5f367ad1",
   "metadata": {},
   "outputs": [
    {
     "data": {
      "application/vnd.jupyter.widget-view+json": {
       "model_id": "8ef1ef51b6d24963ac680bb0d8acb88d",
       "version_major": 2,
       "version_minor": 0
      },
      "text/plain": [
       "HBox(children=(VBox(children=(Label(value='Voltage levels'), Text(value='', description='Filter', placeholder=…"
      ]
     },
     "execution_count": 5,
     "metadata": {},
     "output_type": "execute_result"
    }
   ],
   "source": [
    "# Display the animated diagram\n",
    "# The diagram will update when you move the time slider\n",
    "nad_time_series(network, time_series_data=time_series_data)"
   ]
  },
  {
   "cell_type": "code",
   "execution_count": null,
   "id": "34e4215171008e30",
   "metadata": {},
   "outputs": [],
   "source": []
  },
  {
   "cell_type": "code",
   "execution_count": null,
   "id": "75cab7f3c6f8a63e",
   "metadata": {},
   "outputs": [],
   "source": []
  },
  {
   "cell_type": "code",
   "execution_count": null,
   "id": "c03be88d-55ad-425f-8bbf-e4eefe7ea2fc",
   "metadata": {},
   "outputs": [],
   "source": []
  },
  {
   "cell_type": "code",
   "execution_count": null,
   "id": "835879a7-6c7c-4d72-aeea-4b38fcc6fdcf",
   "metadata": {},
   "outputs": [],
   "source": []
  }
 ],
 "metadata": {
  "kernelspec": {
   "display_name": "Python 3 (ipykernel)",
   "language": "python",
   "name": "python3"
  },
  "language_info": {
   "codemirror_mode": {
    "name": "ipython",
    "version": 3
   },
   "file_extension": ".py",
   "mimetype": "text/x-python",
   "name": "python",
   "nbconvert_exporter": "python",
   "pygments_lexer": "ipython3",
   "version": "3.10.12"
  }
 },
 "nbformat": 4,
 "nbformat_minor": 5
}
