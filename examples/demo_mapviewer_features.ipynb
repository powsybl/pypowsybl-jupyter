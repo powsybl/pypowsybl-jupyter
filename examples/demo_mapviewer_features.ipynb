{
 "cells": [
  {
   "cell_type": "code",
   "execution_count": null,
   "metadata": {},
   "outputs": [],
   "source": [
    "import pypowsybl.network as pn\n",
    "import pypowsybl.loadflow as lf\n",
    "import ipywidgets as widgets"
   ]
  },
  {
   "cell_type": "code",
   "execution_count": null,
   "metadata": {},
   "outputs": [],
   "source": [
    "from pypowsybl_jupyter import NetworkMapWidget"
   ]
  },
  {
   "cell_type": "code",
   "execution_count": null,
   "metadata": {},
   "outputs": [],
   "source": [
    "# Example 1\n",
    "# load a CGMES file containing a GL profile (Graphical Layout) and run a LF\n",
    "network1 = pn.load('./data/MicroGridTestConfiguration_T4_BE_BB_Complete_v2.zip', {'iidm.import.cgmes.post-processors': 'cgmesGLImport'})\n",
    "network_lf_results=lf.run_ac(network1)"
   ]
  },
  {
   "cell_type": "code",
   "execution_count": null,
   "metadata": {},
   "outputs": [],
   "source": [
    "#declare a text place where events data will be displayed\n",
    "out_events = widgets.Output()\n",
    "def print_infos(data):   \n",
    "    with out_events:\n",
    "        print(data)\n",
    "print_infos('Events log:')"
   ]
  },
  {
   "cell_type": "code",
   "execution_count": null,
   "metadata": {},
   "outputs": [],
   "source": [
    "#create a map widget for the network and activate a callback on the selected VL event\n",
    "map_widget1 = NetworkMapWidget(network1)\n",
    "map_widget1.on_selectvl(lambda event : print_infos('Selected VL : ' + event.selected_vl))"
   ]
  },
  {
   "cell_type": "code",
   "execution_count": null,
   "metadata": {},
   "outputs": [],
   "source": [
    "#finally, display the widget\n",
    "widgets.HBox([map_widget1, out_events])"
   ]
  },
  {
   "cell_type": "code",
   "execution_count": null,
   "metadata": {},
   "outputs": [],
   "source": [
    "# Example 2\n",
    "# load a network that includes geographical data extensions, run a LF and display the network with the NetworkMap widget"
   ]
  },
  {
   "cell_type": "code",
   "execution_count": null,
   "metadata": {},
   "outputs": [],
   "source": [
    "network2=pn.load('./data/demo_geo1.xml')\n",
    "lf_results2=lf.run_ac(network2)"
   ]
  },
  {
   "cell_type": "code",
   "execution_count": null,
   "metadata": {},
   "outputs": [],
   "source": [
    "network_map2=NetworkMapWidget(network2)"
   ]
  },
  {
   "cell_type": "code",
   "execution_count": null,
   "metadata": {},
   "outputs": [],
   "source": [
    "display(network_map2)"
   ]
  },
  {
   "cell_type": "code",
   "execution_count": null,
   "metadata": {},
   "outputs": [],
   "source": [
    "# center the map on a specific substation\n",
    "network_map2.center_on_substation('P1')"
   ]
  },
  {
   "cell_type": "code",
   "execution_count": null,
   "metadata": {},
   "outputs": [],
   "source": [
    "# Example 3\n",
    "# creates a network that contains lines and HVDC lines, and adds a substation and a tie line.\n",
    "# Then, adds some geographical data extensions, not present in the original network (fictitious coordinates).\n",
    "# Finally, display the network using the mapviewer widget\n",
    "\n",
    "network3 = pn.create_four_substations_node_breaker_network()\n",
    "\n",
    "import pandas as pd\n",
    "network3.create_substations(id='S5')\n",
    "network3.create_voltage_levels(id='S5VL1', substation_id='S5', topology_kind='BUS_BREAKER', nominal_v=400)\n",
    "network3.create_buses(id='S5VL1B1', voltage_level_id='S5VL1')\n",
    "network3.create_dangling_lines(id='d1', voltage_level_id='S4VL1', node=1, p0=10, q0=3, r=0, x=5, g=0, b=1e-6)\n",
    "network3.create_dangling_lines(id='d2', voltage_level_id='S5VL1', bus_id='S5VL1B1', p0=10, q0=3, r=0, x=5, g=0, b=1e-6)\n",
    "network3.create_tie_lines(id='t1', dangling_line1_id='d1', dangling_line2_id='d2')\n",
    "coords = pd.DataFrame(\n",
    "    [\n",
    "        ['S1', 46.648820589226624, 2.9653506942899255],\n",
    "        ['S2', 45.224159481986970, 4.4868965299190675],\n",
    "        ['S3', 44.090773206380350, 2.4022589283484335],\n",
    "        ['S4', 44.279779791063575, 6.0803264207747825],\n",
    "        ['S5', 44.279779791063575, 7.4221621183374900]\n",
    "    ], columns=['id', 'latitude', 'longitude']\n",
    ").set_index('id')\n",
    "network3.create_extensions('substationPosition', coords[['latitude', 'longitude']])\n",
    "\n",
    "network_map3=NetworkMapWidget(network3)\n",
    "display(network_map3)"
   ]
  }
 ],
 "metadata": {
  "kernelspec": {
   "display_name": "Python 3 (ipykernel)",
   "language": "python",
   "name": "python3"
  },
  "language_info": {
   "codemirror_mode": {
    "name": "ipython",
    "version": 3
   },
   "file_extension": ".py",
   "mimetype": "text/x-python",
   "name": "python",
   "nbconvert_exporter": "python",
   "pygments_lexer": "ipython3",
   "version": "3.12.3"
  }
 },
 "nbformat": 4,
 "nbformat_minor": 4
}
