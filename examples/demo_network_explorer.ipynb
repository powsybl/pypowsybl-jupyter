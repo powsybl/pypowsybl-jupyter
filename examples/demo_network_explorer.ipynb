{
 "cells": [
  {
   "cell_type": "code",
   "execution_count": 1,
   "id": "f42abf42-4718-4f92-a542-68ae289906a6",
   "metadata": {},
   "outputs": [],
   "source": [
    "import pypowsybl.network as pn\n",
    "from pypowsybl_jupyter import network_explorer"
   ]
  },
  {
   "cell_type": "code",
   "execution_count": 2,
   "id": "ce646543-5d2d-4933-8106-dfb7a281124e",
   "metadata": {},
   "outputs": [],
   "source": [
    "network=pn.load('/home/dupuyflo/Data/LFE_2025/fr_0700.xiidm')"
   ]
  },
  {
   "cell_type": "code",
   "execution_count": 3,
   "id": "c0f04493-8f25-409e-95a2-39bb3a331f6f",
   "metadata": {},
   "outputs": [
    {
     "data": {
      "application/vnd.jupyter.widget-view+json": {
       "model_id": "e90e1d89ade94da099dcd93244eb0787",
       "version_major": 2,
       "version_minor": 0
      },
      "text/plain": [
       "HBox(children=(VBox(children=(Label(value='Voltage levels'), VBox(children=(Text(value='', description='Filter…"
      ]
     },
     "execution_count": 3,
     "metadata": {},
     "output_type": "execute_result"
    }
   ],
   "source": [
    "#uses NadParameters and SldParameters to customize the diagrams\n",
    "network_explorer(network, depth=2, sld_parameters=pn.SldParameters(nodes_infos=True), nad_parameters=pn.NadParameters(injections_added=True))"
   ]
  },
  {
   "cell_type": "code",
   "execution_count": null,
   "id": "60adc5dd-111e-4f18-8ec4-7f3eace0dfff",
   "metadata": {},
   "outputs": [],
   "source": []
  }
 ],
 "metadata": {
  "kernelspec": {
   "display_name": "Python 3 (ipykernel)",
   "language": "python",
   "name": "python3"
  },
  "language_info": {
   "codemirror_mode": {
    "name": "ipython",
    "version": 3
   },
   "file_extension": ".py",
   "mimetype": "text/x-python",
   "name": "python",
   "nbconvert_exporter": "python",
   "pygments_lexer": "ipython3",
   "version": "3.10.12"
  }
 },
 "nbformat": 4,
 "nbformat_minor": 5
}
