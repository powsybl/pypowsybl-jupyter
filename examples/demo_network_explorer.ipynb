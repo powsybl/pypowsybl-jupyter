{
 "cells": [
  {
   "cell_type": "code",
   "execution_count": null,
   "id": "f42abf42-4718-4f92-a542-68ae289906a6",
   "metadata": {},
   "outputs": [],
   "source": [
    "import pypowsybl.network as pn\n",
    "from pypowsybl_jupyter import network_explorer"
   ]
  },
  {
   "cell_type": "code",
   "execution_count": null,
   "id": "ce646543-5d2d-4933-8106-dfb7a281124e",
   "metadata": {},
   "outputs": [],
   "source": [
    "network=pn.create_four_substations_node_breaker_network()"
   ]
  },
  {
   "cell_type": "code",
   "execution_count": null,
   "id": "74dd5af0-167d-41a2-a9a3-3ca3c701fe5d",
   "metadata": {},
   "outputs": [],
   "source": [
    "#activate the network explorer. Note that, since the network doesn't include geo data, the Network map tab is empty.\n",
    "network_explorer(network, depth=4)"
   ]
  },
  {
   "cell_type": "code",
   "execution_count": null,
   "id": "c0f04493-8f25-409e-95a2-39bb3a331f6f",
   "metadata": {},
   "outputs": [],
   "source": [
    "#uses NadParameters and SldParameters to customize the diagrams\n",
    "network_explorer(network, depth=0, sld_parameters=pn.SldParameters(nodes_infos=True), nad_parameters=pn.NadParameters(edge_info_along_edge=True))"
   ]
  },
  {
   "cell_type": "code",
   "execution_count": null,
   "id": "ae309429-9898-46b9-831f-df285a08ad5a",
   "metadata": {},
   "outputs": [],
   "source": [
    "#load a network containing geo data, imported from a CGMES file containing a GL profile (Graphical Layout)\n",
    "network_microgrid = pn.load('./data/MicroGridTestConfiguration_T4_BE_BB_Complete_v2.zip', {'iidm.import.cgmes.post-processors': 'cgmesGLImport'})"
   ]
  },
  {
   "cell_type": "code",
   "execution_count": null,
   "id": "bf3c4d2f-cc7a-463b-b879-c2ac392888a0",
   "metadata": {},
   "outputs": [],
   "source": [
    "#explore the network. Apply a filter in the map to show the two top tier nominal voltage (filter can be changed, later, through the widget)\n",
    "network_explorer(network_microgrid, nominal_voltages_top_tiers_filter=2)"
   ]
  }
 ],
 "metadata": {
  "kernelspec": {
   "display_name": "Python 3 (ipykernel)",
   "language": "python",
   "name": "python3"
  },
  "language_info": {
   "codemirror_mode": {
    "name": "ipython",
    "version": 3
   },
   "file_extension": ".py",
   "mimetype": "text/x-python",
   "name": "python",
   "nbconvert_exporter": "python",
   "pygments_lexer": "ipython3",
   "version": "3.12.3"
  }
 },
 "nbformat": 4,
 "nbformat_minor": 5
}
