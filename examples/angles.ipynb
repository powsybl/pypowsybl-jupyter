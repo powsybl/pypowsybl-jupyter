{
 "cells": [
  {
   "cell_type": "code",
   "execution_count": 1,
   "id": "80b8715a-0302-4e38-9cb7-5b2ca93447b1",
   "metadata": {
    "ExecuteTime": {
     "end_time": "2025-09-06T22:57:01.997909Z",
     "start_time": "2025-09-06T22:57:01.084100Z"
    }
   },
   "outputs": [],
   "source": [
    "import pypowsybl.network as pn\n",
    "network = pn.load('/home/dupuyflo/Data/LFE_2025/fr_1850.xiidm')"
   ]
  },
  {
   "cell_type": "code",
   "execution_count": 2,
   "id": "8aaf8d97-e530-40c3-88ce-af66cb8c701a",
   "metadata": {},
   "outputs": [
    {
     "data": {
      "text/plain": [
       "[ComponentResult(connected_component_num=0, synchronous_component_num=0, status=CONVERGED, status_text=Converged, iteration_count=7, reference_bus_id='CHAFFP7_0', slack_bus_results=[SlackBusResult(id='CHAFFP7_0', active_power_mismatch=-0.5088339270259201)], distributed_active_power=28.570841706134765)]"
      ]
     },
     "execution_count": 2,
     "metadata": {},
     "output_type": "execute_result"
    }
   ],
   "source": [
    "import pypowsybl.loadflow as lf\n",
    "lf.run_ac(network)"
   ]
  },
  {
   "cell_type": "code",
   "execution_count": 3,
   "id": "7097ac23-42a7-490a-9149-8cd6dab5bb4e",
   "metadata": {
    "ExecuteTime": {
     "end_time": "2025-09-06T22:57:02.986632Z",
     "start_time": "2025-09-06T22:57:02.054676Z"
    }
   },
   "outputs": [
    {
     "data": {
      "application/vnd.jupyter.widget-view+json": {
       "model_id": "91c41413fa7b4470a1b0faad7338e393",
       "version_major": 2,
       "version_minor": 0
      },
      "text/plain": [
       "HBox(children=(VBox(children=(Label(value='Voltage levels'), VBox(children=(Text(value='', description='Filter…"
      ]
     },
     "execution_count": 3,
     "metadata": {},
     "output_type": "execute_result"
    }
   ],
   "source": [
    "from pypowsybl_jupyter import network_explorer\n",
    "network_explorer(network, depth=2, vl_id='STRASP3', nad_parameters=pn.NadParameters(injections_added=True))"
   ]
  },
  {
   "cell_type": "code",
   "execution_count": 4,
   "id": "5a52b0b6-319d-4ccd-a360-085dafae7997",
   "metadata": {
    "ExecuteTime": {
     "end_time": "2025-09-06T22:57:03.530477Z",
     "start_time": "2025-09-06T22:57:03.499966Z"
    }
   },
   "outputs": [
    {
     "data": {
      "text/html": [
       "<div>\n",
       "<style scoped>\n",
       "    .dataframe tbody tr th:only-of-type {\n",
       "        vertical-align: middle;\n",
       "    }\n",
       "\n",
       "    .dataframe tbody tr th {\n",
       "        vertical-align: top;\n",
       "    }\n",
       "\n",
       "    .dataframe thead th {\n",
       "        text-align: right;\n",
       "    }\n",
       "</style>\n",
       "<table border=\"1\" class=\"dataframe\">\n",
       "  <thead>\n",
       "    <tr style=\"text-align: right;\">\n",
       "      <th></th>\n",
       "      <th>bus1_id</th>\n",
       "      <th>bus2_id</th>\n",
       "    </tr>\n",
       "    <tr>\n",
       "      <th>id</th>\n",
       "      <th></th>\n",
       "      <th></th>\n",
       "    </tr>\n",
       "  </thead>\n",
       "  <tbody>\n",
       "    <tr>\n",
       "      <th>.CTLHL31.CTLO</th>\n",
       "      <td>.CTLHP3_0</td>\n",
       "      <td></td>\n",
       "    </tr>\n",
       "    <tr>\n",
       "      <th>.CTLHL32.CTLO</th>\n",
       "      <td>.CTLHP3_1</td>\n",
       "      <td>.CTLOP3_3</td>\n",
       "    </tr>\n",
       "    <tr>\n",
       "      <th>.CTLOL31FINS</th>\n",
       "      <td>.CTLOP3_0</td>\n",
       "      <td>FINS P3_0</td>\n",
       "    </tr>\n",
       "    <tr>\n",
       "      <th>.CTLOL31ZLIEB</th>\n",
       "      <td>.CTLOP3_0</td>\n",
       "      <td>ZLIEBP3_0</td>\n",
       "    </tr>\n",
       "    <tr>\n",
       "      <th>.G.ROL51HOSPI</th>\n",
       "      <td></td>\n",
       "      <td>HOSPIP5_0</td>\n",
       "    </tr>\n",
       "    <tr>\n",
       "      <th>...</th>\n",
       "      <td>...</td>\n",
       "      <td>...</td>\n",
       "    </tr>\n",
       "    <tr>\n",
       "      <th>WARANY763</th>\n",
       "      <td>WARANP6_0</td>\n",
       "      <td>WARANP7_0</td>\n",
       "    </tr>\n",
       "    <tr>\n",
       "      <th>WARANY764</th>\n",
       "      <td>WARANP6_0</td>\n",
       "      <td>WARANP7_0</td>\n",
       "    </tr>\n",
       "    <tr>\n",
       "      <th>WEPPEY761</th>\n",
       "      <td>WEPPEP6_0</td>\n",
       "      <td>WEPPEP7_0</td>\n",
       "    </tr>\n",
       "    <tr>\n",
       "      <th>WEPPEY762</th>\n",
       "      <td>WEPPEP6_0</td>\n",
       "      <td>WEPPEP7_0</td>\n",
       "    </tr>\n",
       "    <tr>\n",
       "      <th>YAINVY642</th>\n",
       "      <td>YAINVP4_0</td>\n",
       "      <td>YAINVP6_0</td>\n",
       "    </tr>\n",
       "  </tbody>\n",
       "</table>\n",
       "<p>9406 rows × 2 columns</p>\n",
       "</div>"
      ],
      "text/plain": [
       "                 bus1_id    bus2_id\n",
       "id                                 \n",
       ".CTLHL31.CTLO  .CTLHP3_0           \n",
       ".CTLHL32.CTLO  .CTLHP3_1  .CTLOP3_3\n",
       ".CTLOL31FINS   .CTLOP3_0  FINS P3_0\n",
       ".CTLOL31ZLIEB  .CTLOP3_0  ZLIEBP3_0\n",
       ".G.ROL51HOSPI             HOSPIP5_0\n",
       "...                  ...        ...\n",
       "WARANY763      WARANP6_0  WARANP7_0\n",
       "WARANY764      WARANP6_0  WARANP7_0\n",
       "WEPPEY761      WEPPEP6_0  WEPPEP7_0\n",
       "WEPPEY762      WEPPEP6_0  WEPPEP7_0\n",
       "YAINVY642      YAINVP4_0  YAINVP6_0\n",
       "\n",
       "[9406 rows x 2 columns]"
      ]
     },
     "execution_count": 4,
     "metadata": {},
     "output_type": "execute_result"
    }
   ],
   "source": [
    "branches = network.get_branches(attributes=['bus1_id', 'bus2_id'])\n",
    "branches"
   ]
  },
  {
   "cell_type": "code",
   "execution_count": 5,
   "id": "e813d894-e96c-401d-8953-12071854777b",
   "metadata": {
    "ExecuteTime": {
     "end_time": "2025-09-06T22:57:04.222845Z",
     "start_time": "2025-09-06T22:57:04.203564Z"
    }
   },
   "outputs": [
    {
     "data": {
      "text/html": [
       "<div>\n",
       "<style scoped>\n",
       "    .dataframe tbody tr th:only-of-type {\n",
       "        vertical-align: middle;\n",
       "    }\n",
       "\n",
       "    .dataframe tbody tr th {\n",
       "        vertical-align: top;\n",
       "    }\n",
       "\n",
       "    .dataframe thead th {\n",
       "        text-align: right;\n",
       "    }\n",
       "</style>\n",
       "<table border=\"1\" class=\"dataframe\">\n",
       "  <thead>\n",
       "    <tr style=\"text-align: right;\">\n",
       "      <th></th>\n",
       "      <th>v_angle</th>\n",
       "    </tr>\n",
       "    <tr>\n",
       "      <th>id</th>\n",
       "      <th></th>\n",
       "    </tr>\n",
       "  </thead>\n",
       "  <tbody>\n",
       "    <tr>\n",
       "      <th>.CTLHP3_0</th>\n",
       "      <td>NaN</td>\n",
       "    </tr>\n",
       "    <tr>\n",
       "      <th>.CTLHP3_1</th>\n",
       "      <td>NaN</td>\n",
       "    </tr>\n",
       "    <tr>\n",
       "      <th>.CTLOP3_0</th>\n",
       "      <td>-20.777324</td>\n",
       "    </tr>\n",
       "    <tr>\n",
       "      <th>.CTLOP3_3</th>\n",
       "      <td>NaN</td>\n",
       "    </tr>\n",
       "    <tr>\n",
       "      <th>.G.ROP6_0</th>\n",
       "      <td>-5.962930</td>\n",
       "    </tr>\n",
       "    <tr>\n",
       "      <th>...</th>\n",
       "      <td>...</td>\n",
       "    </tr>\n",
       "    <tr>\n",
       "      <th>ZVOUZP4_0</th>\n",
       "      <td>-12.216735</td>\n",
       "    </tr>\n",
       "    <tr>\n",
       "      <th>ZWOESP6_0</th>\n",
       "      <td>-13.896940</td>\n",
       "    </tr>\n",
       "    <tr>\n",
       "      <th>ZY.EVP4_0</th>\n",
       "      <td>-19.844704</td>\n",
       "    </tr>\n",
       "    <tr>\n",
       "      <th>ZYVE5P4_0</th>\n",
       "      <td>-14.281237</td>\n",
       "    </tr>\n",
       "    <tr>\n",
       "      <th>ZYZEUP3_0</th>\n",
       "      <td>-8.160971</td>\n",
       "    </tr>\n",
       "  </tbody>\n",
       "</table>\n",
       "<p>6374 rows × 1 columns</p>\n",
       "</div>"
      ],
      "text/plain": [
       "             v_angle\n",
       "id                  \n",
       ".CTLHP3_0        NaN\n",
       ".CTLHP3_1        NaN\n",
       ".CTLOP3_0 -20.777324\n",
       ".CTLOP3_3        NaN\n",
       ".G.ROP6_0  -5.962930\n",
       "...              ...\n",
       "ZVOUZP4_0 -12.216735\n",
       "ZWOESP6_0 -13.896940\n",
       "ZY.EVP4_0 -19.844704\n",
       "ZYVE5P4_0 -14.281237\n",
       "ZYZEUP3_0  -8.160971\n",
       "\n",
       "[6374 rows x 1 columns]"
      ]
     },
     "execution_count": 5,
     "metadata": {},
     "output_type": "execute_result"
    }
   ],
   "source": [
    "angles = network.get_buses(attributes=['v_angle'])\n",
    "angles"
   ]
  },
  {
   "cell_type": "code",
   "execution_count": 6,
   "id": "0b119200-9cfe-48c0-8e43-b9dcd91ec4cb",
   "metadata": {
    "ExecuteTime": {
     "end_time": "2025-09-06T22:57:04.308207Z",
     "start_time": "2025-09-06T22:57:04.301994Z"
    }
   },
   "outputs": [
    {
     "data": {
      "text/plain": [
       "(np.float64(-13.48711380601302), np.float64(9.17423845091857))"
      ]
     },
     "execution_count": 6,
     "metadata": {},
     "output_type": "execute_result"
    }
   ],
   "source": [
    "branches['delta_angle'] = branches['bus1_id'].map(angles['v_angle']) - branches['bus2_id'].map(angles['v_angle'])\n",
    "branches['delta_angle'].min(), branches['delta_angle'].max()"
   ]
  },
  {
   "cell_type": "code",
   "execution_count": 7,
   "id": "2f826c56-0485-4e32-a091-342b221ae40e",
   "metadata": {},
   "outputs": [
    {
     "data": {
      "text/plain": [
       "bus1_id            DEPHTP6_0\n",
       "bus2_id            PRAGNP6_0\n",
       "delta_angle       -13.487114\n",
       "abs_delta_angle    13.487114\n",
       "Name: PRAGNL61DEPHG, dtype: object"
      ]
     },
     "execution_count": 7,
     "metadata": {},
     "output_type": "execute_result"
    }
   ],
   "source": [
    "branches['abs_delta_angle'] = abs(branches['delta_angle'])\n",
    "max_row = branches.loc[branches['abs_delta_angle'].idxmax()]\n",
    "max_row"
   ]
  },
  {
   "cell_type": "code",
   "execution_count": 8,
   "id": "1161301a575cb6da",
   "metadata": {
    "ExecuteTime": {
     "end_time": "2025-09-06T22:57:04.460933Z",
     "start_time": "2025-09-06T22:57:04.444923Z"
    }
   },
   "outputs": [
    {
     "data": {
      "text/html": [
       "<div>\n",
       "<style scoped>\n",
       "    .dataframe tbody tr th:only-of-type {\n",
       "        vertical-align: middle;\n",
       "    }\n",
       "\n",
       "    .dataframe tbody tr th {\n",
       "        vertical-align: top;\n",
       "    }\n",
       "\n",
       "    .dataframe thead th {\n",
       "        text-align: right;\n",
       "    }\n",
       "</style>\n",
       "<table border=\"1\" class=\"dataframe\">\n",
       "  <thead>\n",
       "    <tr style=\"text-align: right;\">\n",
       "      <th></th>\n",
       "      <th>bus1_id</th>\n",
       "      <th>bus2_id</th>\n",
       "      <th>delta_angle</th>\n",
       "      <th>abs_delta_angle</th>\n",
       "      <th>da_idx</th>\n",
       "    </tr>\n",
       "    <tr>\n",
       "      <th>id</th>\n",
       "      <th></th>\n",
       "      <th></th>\n",
       "      <th></th>\n",
       "      <th></th>\n",
       "      <th></th>\n",
       "    </tr>\n",
       "  </thead>\n",
       "  <tbody>\n",
       "    <tr>\n",
       "      <th>.CTLHL31.CTLO</th>\n",
       "      <td>.CTLHP3_0</td>\n",
       "      <td></td>\n",
       "      <td>NaN</td>\n",
       "      <td>NaN</td>\n",
       "      <td>-1</td>\n",
       "    </tr>\n",
       "    <tr>\n",
       "      <th>.CTLHL32.CTLO</th>\n",
       "      <td>.CTLHP3_1</td>\n",
       "      <td>.CTLOP3_3</td>\n",
       "      <td>NaN</td>\n",
       "      <td>NaN</td>\n",
       "      <td>-1</td>\n",
       "    </tr>\n",
       "    <tr>\n",
       "      <th>.CTLOL31FINS</th>\n",
       "      <td>.CTLOP3_0</td>\n",
       "      <td>FINS P3_0</td>\n",
       "      <td>0.633007</td>\n",
       "      <td>0.633007</td>\n",
       "      <td>12</td>\n",
       "    </tr>\n",
       "    <tr>\n",
       "      <th>.CTLOL31ZLIEB</th>\n",
       "      <td>.CTLOP3_0</td>\n",
       "      <td>ZLIEBP3_0</td>\n",
       "      <td>-1.207184</td>\n",
       "      <td>1.207184</td>\n",
       "      <td>23</td>\n",
       "    </tr>\n",
       "    <tr>\n",
       "      <th>.G.ROL51HOSPI</th>\n",
       "      <td></td>\n",
       "      <td>HOSPIP5_0</td>\n",
       "      <td>NaN</td>\n",
       "      <td>NaN</td>\n",
       "      <td>-1</td>\n",
       "    </tr>\n",
       "    <tr>\n",
       "      <th>...</th>\n",
       "      <td>...</td>\n",
       "      <td>...</td>\n",
       "      <td>...</td>\n",
       "      <td>...</td>\n",
       "      <td>...</td>\n",
       "    </tr>\n",
       "    <tr>\n",
       "      <th>WARANY763</th>\n",
       "      <td>WARANP6_0</td>\n",
       "      <td>WARANP7_0</td>\n",
       "      <td>-3.301007</td>\n",
       "      <td>3.301007</td>\n",
       "      <td>65</td>\n",
       "    </tr>\n",
       "    <tr>\n",
       "      <th>WARANY764</th>\n",
       "      <td>WARANP6_0</td>\n",
       "      <td>WARANP7_0</td>\n",
       "      <td>-3.301007</td>\n",
       "      <td>3.301007</td>\n",
       "      <td>65</td>\n",
       "    </tr>\n",
       "    <tr>\n",
       "      <th>WEPPEY761</th>\n",
       "      <td>WEPPEP6_0</td>\n",
       "      <td>WEPPEP7_0</td>\n",
       "      <td>-2.830137</td>\n",
       "      <td>2.830137</td>\n",
       "      <td>56</td>\n",
       "    </tr>\n",
       "    <tr>\n",
       "      <th>WEPPEY762</th>\n",
       "      <td>WEPPEP6_0</td>\n",
       "      <td>WEPPEP7_0</td>\n",
       "      <td>-2.830137</td>\n",
       "      <td>2.830137</td>\n",
       "      <td>56</td>\n",
       "    </tr>\n",
       "    <tr>\n",
       "      <th>YAINVY642</th>\n",
       "      <td>YAINVP4_0</td>\n",
       "      <td>YAINVP6_0</td>\n",
       "      <td>-2.541269</td>\n",
       "      <td>2.541269</td>\n",
       "      <td>50</td>\n",
       "    </tr>\n",
       "  </tbody>\n",
       "</table>\n",
       "<p>9406 rows × 5 columns</p>\n",
       "</div>"
      ],
      "text/plain": [
       "                 bus1_id    bus2_id  delta_angle  abs_delta_angle  da_idx\n",
       "id                                                                       \n",
       ".CTLHL31.CTLO  .CTLHP3_0                     NaN              NaN      -1\n",
       ".CTLHL32.CTLO  .CTLHP3_1  .CTLOP3_3          NaN              NaN      -1\n",
       ".CTLOL31FINS   .CTLOP3_0  FINS P3_0     0.633007         0.633007      12\n",
       ".CTLOL31ZLIEB  .CTLOP3_0  ZLIEBP3_0    -1.207184         1.207184      23\n",
       ".G.ROL51HOSPI             HOSPIP5_0          NaN              NaN      -1\n",
       "...                  ...        ...          ...              ...     ...\n",
       "WARANY763      WARANP6_0  WARANP7_0    -3.301007         3.301007      65\n",
       "WARANY764      WARANP6_0  WARANP7_0    -3.301007         3.301007      65\n",
       "WEPPEY761      WEPPEP6_0  WEPPEP7_0    -2.830137         2.830137      56\n",
       "WEPPEY762      WEPPEP6_0  WEPPEP7_0    -2.830137         2.830137      56\n",
       "YAINVY642      YAINVP4_0  YAINVP6_0    -2.541269         2.541269      50\n",
       "\n",
       "[9406 rows x 5 columns]"
      ]
     },
     "execution_count": 8,
     "metadata": {},
     "output_type": "execute_result"
    }
   ],
   "source": [
    "import pandas as pd\n",
    "import numpy as np\n",
    "\n",
    "def create_style_gradient(n_colors=100):\n",
    "    r = np.linspace(118, 255, n_colors)\n",
    "    g = np.linspace(150, 0, n_colors)\n",
    "    b = np.linspace(86, 0, n_colors)\n",
    "\n",
    "    colors = ['#{:02x}{:02x}{:02x}'.format(int(r[i]), int(g[i]), int(b[i])) \n",
    "              for i in range(n_colors)]\n",
    "\n",
    "    numeric_widths = np.linspace(1, 15, n_colors)\n",
    "    width_strings = [f\"{int(width)}px\" for width in numeric_widths]\n",
    "\n",
    "    return pd.DataFrame({\n",
    "        'width': width_strings,\n",
    "        'hex_color': colors\n",
    "    })\n",
    "\n",
    "style_df = create_style_gradient(100)\n",
    "\n",
    "def map_index(value):\n",
    "    if pd.isna(value):\n",
    "        return -1\n",
    "    return min(int(abs(value) / 5 * 99), 99)\n",
    "\n",
    "\n",
    "branches['da_idx'] = branches['delta_angle'].apply(map_index)\n",
    "branches"
   ]
  },
  {
   "cell_type": "code",
   "execution_count": 9,
   "id": "d0f12ed66653d3f6",
   "metadata": {
    "ExecuteTime": {
     "end_time": "2025-09-06T22:57:04.920736Z",
     "start_time": "2025-09-06T22:57:04.835052Z"
    }
   },
   "outputs": [
    {
     "data": {
      "text/html": [
       "<div>\n",
       "<style scoped>\n",
       "    .dataframe tbody tr th:only-of-type {\n",
       "        vertical-align: middle;\n",
       "    }\n",
       "\n",
       "    .dataframe tbody tr th {\n",
       "        vertical-align: top;\n",
       "    }\n",
       "\n",
       "    .dataframe thead th {\n",
       "        text-align: right;\n",
       "    }\n",
       "</style>\n",
       "<table border=\"1\" class=\"dataframe\">\n",
       "  <thead>\n",
       "    <tr style=\"text-align: right;\">\n",
       "      <th></th>\n",
       "      <th>edge1</th>\n",
       "      <th>edge2</th>\n",
       "      <th>width1</th>\n",
       "      <th>width2</th>\n",
       "    </tr>\n",
       "    <tr>\n",
       "      <th>id</th>\n",
       "      <th></th>\n",
       "      <th></th>\n",
       "      <th></th>\n",
       "      <th></th>\n",
       "    </tr>\n",
       "  </thead>\n",
       "  <tbody>\n",
       "    <tr>\n",
       "      <th>.CTLHL31.CTLO</th>\n",
       "      <td>gray</td>\n",
       "      <td>gray</td>\n",
       "      <td>1px</td>\n",
       "      <td>1px</td>\n",
       "    </tr>\n",
       "    <tr>\n",
       "      <th>.CTLHL32.CTLO</th>\n",
       "      <td>gray</td>\n",
       "      <td>gray</td>\n",
       "      <td>1px</td>\n",
       "      <td>1px</td>\n",
       "    </tr>\n",
       "    <tr>\n",
       "      <th>.CTLOL31FINS</th>\n",
       "      <td>#86834b</td>\n",
       "      <td>#86834b</td>\n",
       "      <td>2px</td>\n",
       "      <td>2px</td>\n",
       "    </tr>\n",
       "    <tr>\n",
       "      <th>.CTLOL31ZLIEB</th>\n",
       "      <td>#957342</td>\n",
       "      <td>#957342</td>\n",
       "      <td>4px</td>\n",
       "      <td>4px</td>\n",
       "    </tr>\n",
       "    <tr>\n",
       "      <th>.G.ROL51HOSPI</th>\n",
       "      <td>gray</td>\n",
       "      <td>gray</td>\n",
       "      <td>1px</td>\n",
       "      <td>1px</td>\n",
       "    </tr>\n",
       "    <tr>\n",
       "      <th>...</th>\n",
       "      <td>...</td>\n",
       "      <td>...</td>\n",
       "      <td>...</td>\n",
       "      <td>...</td>\n",
       "    </tr>\n",
       "    <tr>\n",
       "      <th>WARANY763</th>\n",
       "      <td>#cf331d</td>\n",
       "      <td>#cf331d</td>\n",
       "      <td>10px</td>\n",
       "      <td>10px</td>\n",
       "    </tr>\n",
       "    <tr>\n",
       "      <th>WARANY764</th>\n",
       "      <td>#cf331d</td>\n",
       "      <td>#cf331d</td>\n",
       "      <td>10px</td>\n",
       "      <td>10px</td>\n",
       "    </tr>\n",
       "    <tr>\n",
       "      <th>WEPPEY761</th>\n",
       "      <td>#c34125</td>\n",
       "      <td>#c34125</td>\n",
       "      <td>8px</td>\n",
       "      <td>8px</td>\n",
       "    </tr>\n",
       "    <tr>\n",
       "      <th>WEPPEY762</th>\n",
       "      <td>#c34125</td>\n",
       "      <td>#c34125</td>\n",
       "      <td>8px</td>\n",
       "      <td>8px</td>\n",
       "    </tr>\n",
       "    <tr>\n",
       "      <th>YAINVY642</th>\n",
       "      <td>#bb4a2a</td>\n",
       "      <td>#bb4a2a</td>\n",
       "      <td>8px</td>\n",
       "      <td>8px</td>\n",
       "    </tr>\n",
       "  </tbody>\n",
       "</table>\n",
       "<p>9406 rows × 4 columns</p>\n",
       "</div>"
      ],
      "text/plain": [
       "                 edge1    edge2 width1 width2\n",
       "id                                           \n",
       ".CTLHL31.CTLO     gray     gray    1px    1px\n",
       ".CTLHL32.CTLO     gray     gray    1px    1px\n",
       ".CTLOL31FINS   #86834b  #86834b    2px    2px\n",
       ".CTLOL31ZLIEB  #957342  #957342    4px    4px\n",
       ".G.ROL51HOSPI     gray     gray    1px    1px\n",
       "...                ...      ...    ...    ...\n",
       "WARANY763      #cf331d  #cf331d   10px   10px\n",
       "WARANY764      #cf331d  #cf331d   10px   10px\n",
       "WEPPEY761      #c34125  #c34125    8px    8px\n",
       "WEPPEY762      #c34125  #c34125    8px    8px\n",
       "YAINVY642      #bb4a2a  #bb4a2a    8px    8px\n",
       "\n",
       "[9406 rows x 4 columns]"
      ]
     },
     "execution_count": 9,
     "metadata": {},
     "output_type": "execute_result"
    }
   ],
   "source": [
    "color = branches['da_idx'].apply(lambda idx: 'gray' if idx == -1 else style_df['hex_color'].iloc[idx])\n",
    "width = branches['da_idx'].apply(lambda idx: '1px' if idx == -1 else style_df['width'].iloc[idx])\n",
    "edges_styles_df = pd.DataFrame({\n",
    "    'edge1': color,\n",
    "    'edge2': color,\n",
    "    'width1': width,\n",
    "    'width2': width\n",
    "})\n",
    "edges_styles_df"
   ]
  },
  {
   "cell_type": "code",
   "execution_count": 10,
   "id": "9599e349-07f6-497b-a27f-66416f3fc2b7",
   "metadata": {
    "ExecuteTime": {
     "end_time": "2025-09-06T22:57:06.702728Z",
     "start_time": "2025-09-06T22:57:06.686808Z"
    }
   },
   "outputs": [
    {
     "data": {
      "text/html": [
       "<div>\n",
       "<style scoped>\n",
       "    .dataframe tbody tr th:only-of-type {\n",
       "        vertical-align: middle;\n",
       "    }\n",
       "\n",
       "    .dataframe tbody tr th {\n",
       "        vertical-align: top;\n",
       "    }\n",
       "\n",
       "    .dataframe thead th {\n",
       "        text-align: right;\n",
       "    }\n",
       "</style>\n",
       "<table border=\"1\" class=\"dataframe\">\n",
       "  <thead>\n",
       "    <tr style=\"text-align: right;\">\n",
       "      <th></th>\n",
       "      <th>x</th>\n",
       "      <th>y</th>\n",
       "    </tr>\n",
       "    <tr>\n",
       "      <th>id</th>\n",
       "      <th></th>\n",
       "      <th></th>\n",
       "    </tr>\n",
       "  </thead>\n",
       "  <tbody>\n",
       "    <tr>\n",
       "      <th>.CTLHP3</th>\n",
       "      <td>21643.45</td>\n",
       "      <td>-140477.91</td>\n",
       "    </tr>\n",
       "    <tr>\n",
       "      <th>.CTLOP3</th>\n",
       "      <td>22073.05</td>\n",
       "      <td>-140487.02</td>\n",
       "    </tr>\n",
       "    <tr>\n",
       "      <th>.G.ROP5</th>\n",
       "      <td>3716.32</td>\n",
       "      <td>-122101.20</td>\n",
       "    </tr>\n",
       "    <tr>\n",
       "      <th>.G.ROP6</th>\n",
       "      <td>3723.98</td>\n",
       "      <td>-121206.74</td>\n",
       "    </tr>\n",
       "    <tr>\n",
       "      <th>.NAVAP3</th>\n",
       "      <td>28524.29</td>\n",
       "      <td>-127163.51</td>\n",
       "    </tr>\n",
       "    <tr>\n",
       "      <th>...</th>\n",
       "      <td>...</td>\n",
       "      <td>...</td>\n",
       "    </tr>\n",
       "    <tr>\n",
       "      <th>.ENSDL71VIGY</th>\n",
       "      <td>18020.45</td>\n",
       "      <td>-149029.21</td>\n",
       "    </tr>\n",
       "    <tr>\n",
       "      <th>.ENSDL72VIGY</th>\n",
       "      <td>17480.23</td>\n",
       "      <td>-149366.71</td>\n",
       "    </tr>\n",
       "    <tr>\n",
       "      <th>.VENAL71VLARO</th>\n",
       "      <td>19278.83</td>\n",
       "      <td>-132401.36</td>\n",
       "    </tr>\n",
       "    <tr>\n",
       "      <th>.EICHL61VOGEL</th>\n",
       "      <td>24167.06</td>\n",
       "      <td>-144544.95</td>\n",
       "    </tr>\n",
       "    <tr>\n",
       "      <th>.CAMPL61ZMENT</th>\n",
       "      <td>24097.45</td>\n",
       "      <td>-125158.24</td>\n",
       "    </tr>\n",
       "  </tbody>\n",
       "</table>\n",
       "<p>5828 rows × 2 columns</p>\n",
       "</div>"
      ],
      "text/plain": [
       "                      x          y\n",
       "id                                \n",
       ".CTLHP3        21643.45 -140477.91\n",
       ".CTLOP3        22073.05 -140487.02\n",
       ".G.ROP5         3716.32 -122101.20\n",
       ".G.ROP6         3723.98 -121206.74\n",
       ".NAVAP3        28524.29 -127163.51\n",
       "...                 ...        ...\n",
       ".ENSDL71VIGY   18020.45 -149029.21\n",
       ".ENSDL72VIGY   17480.23 -149366.71\n",
       ".VENAL71VLARO  19278.83 -132401.36\n",
       ".EICHL61VOGEL  24167.06 -144544.95\n",
       ".CAMPL61ZMENT  24097.45 -125158.24\n",
       "\n",
       "[5828 rows x 2 columns]"
      ]
     },
     "execution_count": 10,
     "metadata": {},
     "output_type": "execute_result"
    }
   ],
   "source": [
    "metadata = pd.read_json('/home/dupuyflo/Documents/LFE_2025/france_metadata.json')\n",
    "fixed_positions = pd.DataFrame({\n",
    "    \"id\": metadata[\"equipmentId\"],\n",
    "    \"x\": metadata[\"x\"],\n",
    "    \"y\": metadata[\"y\"]\n",
    "})\n",
    "fixed_positions.set_index('id', drop=True, inplace=True)\n",
    "fixed_positions"
   ]
  },
  {
   "cell_type": "code",
   "execution_count": 11,
   "id": "434b252ab414e95d",
   "metadata": {
    "ExecuteTime": {
     "end_time": "2025-09-06T22:57:06.554878Z",
     "start_time": "2025-09-06T22:57:05.517235Z"
    }
   },
   "outputs": [],
   "source": [
    "default_pf = network.get_default_nad_profile()\n",
    "vl_descriptions_df = default_pf.vl_descriptions[default_pf.vl_descriptions['type'] != 'FOOTER']\n",
    "labels_df = pd.DataFrame({\n",
    "    'middle': branches['delta_angle']\n",
    "})\n",
    "labels_df['middle'] = labels_df['middle'].apply(lambda x: f\"{x:.1f}\" if pd.notna(x) else \"\")\n",
    "\n",
    "diagram_profile=pn.NadProfile(branch_labels=labels_df, vl_descriptions=vl_descriptions_df, bus_descriptions=default_pf.bus_descriptions,\n",
    "                                      bus_node_styles=default_pf.bus_node_styles, edge_styles=edges_styles_df)"
   ]
  },
  {
   "cell_type": "code",
   "execution_count": 12,
   "id": "8124e1a1-fc12-4355-b394-50a4439b77a8",
   "metadata": {
    "ExecuteTime": {
     "end_time": "2025-09-06T22:57:08.977694Z",
     "start_time": "2025-09-06T22:57:08.972824Z"
    }
   },
   "outputs": [
    {
     "data": {
      "image/png": "[encoded data removed]",
      "text/plain": [
       "<Figure size 600x120 with 2 Axes>"
      ]
     },
     "metadata": {},
     "output_type": "display_data"
    },
    {
     "data": {
      "application/vnd.jupyter.widget-view+json": {
       "model_id": "62885d1ada704810818e2819ef5402e8",
       "version_major": 2,
       "version_minor": 0
      },
      "text/plain": [
       "HBox(children=(VBox(children=(Label(value='Voltage levels'), VBox(children=(Text(value='', description='Filter…"
      ]
     },
     "execution_count": 12,
     "metadata": {},
     "output_type": "execute_result"
    }
   ],
   "source": [
    "import matplotlib.pyplot as plt\n",
    "from matplotlib.colors import ListedColormap, Normalize\n",
    "from matplotlib.cm import ScalarMappable\n",
    "from matplotlib.patches import Patch\n",
    "\n",
    "angle_max_deg = 5.0\n",
    "\n",
    "cmap = ListedColormap(style_df[\"hex_color\"].tolist())\n",
    "norm = Normalize(vmin=0.0, vmax=angle_max_deg)\n",
    "\n",
    "fig, ax = plt.subplots(figsize=(6, 1.2))\n",
    "fig.subplots_adjust(bottom=0.5)\n",
    "\n",
    "sm = ScalarMappable(norm=norm, cmap=cmap)\n",
    "sm.set_array([])\n",
    "\n",
    "cbar = plt.colorbar(sm, ax=ax, orientation=\"horizontal\", fraction=0.3, pad=0.25)\n",
    "cbar.set_label(\"|delta_v_angle| [deg]\")\n",
    "\n",
    "tick_vals = np.linspace(0, angle_max_deg, 6)\n",
    "cbar.set_ticks(tick_vals)\n",
    "cbar.set_ticklabels([f\"{v:.1f}°\" for v in tick_vals])\n",
    "\n",
    "ax.axis(\"off\")\n",
    "ax.legend(handles=[Patch(facecolor=\"gray\", edgecolor=\"none\", label=\"NaN / unavailable\")],\n",
    "          loc=\"upper center\", bbox_to_anchor=(0.5, 1.6), ncol=1, frameon=False)\n",
    "\n",
    "plt.show()\n",
    "\n",
    "network_explorer(network, depth=2, vl_id='STRASP3', nad_profile=diagram_profile, fixed_nad_positions=fixed_positions)"
   ]
  },
  {
   "cell_type": "code",
   "execution_count": null,
   "id": "d0cd400a-c4f0-406c-a8a2-7e0b7bd1876c",
   "metadata": {},
   "outputs": [],
   "source": []
  },
  {
   "cell_type": "code",
   "execution_count": null,
   "id": "8517e30c-2847-4bd0-a0d7-cebf3ea1b4b2",
   "metadata": {},
   "outputs": [],
   "source": []
  }
 ],
 "metadata": {
  "kernelspec": {
   "display_name": "Python 3 (ipykernel)",
   "language": "python",
   "name": "python3"
  },
  "language_info": {
   "codemirror_mode": {
    "name": "ipython",
    "version": 3
   },
   "file_extension": ".py",
   "mimetype": "text/x-python",
   "name": "python",
   "nbconvert_exporter": "python",
   "pygments_lexer": "ipython3",
   "version": "3.10.12"
  }
 },
 "nbformat": 4,
 "nbformat_minor": 5
}
