{
 "cells": [
  {
   "cell_type": "markdown",
   "id": "cd771be5-d4a8-4a23-a665-44acb6c3d19e",
   "metadata": {},
   "source": [
    "## Animating the network-area-diagram: bringing the grid to life!\n",
    "  - This notebook demonstrates how to **visualize network states over time**.\n",
    "  - We will build a time-indexed dataset and drive a diagram with a time slider."
   ]
  },
  {
   "cell_type": "markdown",
   "id": "040a7768-a486-473b-9df9-950bedde2bcd",
   "metadata": {
    "jp-MarkdownHeadingCollapsed": true
   },
   "source": [
    "#### 1. Load the network snapshots\n",
    "- We load about 30 snapshots of the french network, starting two hours before the 7pm peak hour and ending 15 minutes after.\n",
    "- We build a timestamp dataframe based on\n",
    "   - p1, p2 values\n",
    "   - connected1, connected2 values\n",
    "- For efficiency purpose, biidm is used instead of xiidm/jiidm"
   ]
  },
  {
   "cell_type": "code",
   "execution_count": 1,
   "id": "d9e118cf-be38-47b6-a806-dae2385f6ca3",
   "metadata": {},
   "outputs": [
    {
     "data": {
      "text/html": [
       "<div>\n",
       "<style scoped>\n",
       "    .dataframe tbody tr th:only-of-type {\n",
       "        vertical-align: middle;\n",
       "    }\n",
       "\n",
       "    .dataframe tbody tr th {\n",
       "        vertical-align: top;\n",
       "    }\n",
       "\n",
       "    .dataframe thead th {\n",
       "        text-align: right;\n",
       "    }\n",
       "</style>\n",
       "<table border=\"1\" class=\"dataframe\">\n",
       "  <thead>\n",
       "    <tr style=\"text-align: right;\">\n",
       "      <th></th>\n",
       "      <th>branch_id</th>\n",
       "      <th>timestamp</th>\n",
       "      <th>value1</th>\n",
       "      <th>value2</th>\n",
       "      <th>connected1</th>\n",
       "      <th>connected2</th>\n",
       "    </tr>\n",
       "  </thead>\n",
       "  <tbody>\n",
       "    <tr>\n",
       "      <th>0</th>\n",
       "      <td>.CTLHL31.CTLO</td>\n",
       "      <td>1900-01-01 16:45:00</td>\n",
       "      <td>0.000000</td>\n",
       "      <td>0.000000</td>\n",
       "      <td>True</td>\n",
       "      <td>False</td>\n",
       "    </tr>\n",
       "    <tr>\n",
       "      <th>1</th>\n",
       "      <td>.CTLHL32.CTLO</td>\n",
       "      <td>1900-01-01 16:45:00</td>\n",
       "      <td>0.000000</td>\n",
       "      <td>0.000000</td>\n",
       "      <td>True</td>\n",
       "      <td>True</td>\n",
       "    </tr>\n",
       "    <tr>\n",
       "      <th>2</th>\n",
       "      <td>.CTLOL31FINS</td>\n",
       "      <td>1900-01-01 16:45:00</td>\n",
       "      <td>9.227890</td>\n",
       "      <td>-9.181527</td>\n",
       "      <td>True</td>\n",
       "      <td>True</td>\n",
       "    </tr>\n",
       "    <tr>\n",
       "      <th>3</th>\n",
       "      <td>.CTLOL31ZLIEB</td>\n",
       "      <td>1900-01-01 16:45:00</td>\n",
       "      <td>-9.227890</td>\n",
       "      <td>9.311742</td>\n",
       "      <td>True</td>\n",
       "      <td>True</td>\n",
       "    </tr>\n",
       "    <tr>\n",
       "      <th>4</th>\n",
       "      <td>.G.ROL51HOSPI</td>\n",
       "      <td>1900-01-01 16:45:00</td>\n",
       "      <td>0.000000</td>\n",
       "      <td>0.000023</td>\n",
       "      <td>False</td>\n",
       "      <td>True</td>\n",
       "    </tr>\n",
       "    <tr>\n",
       "      <th>...</th>\n",
       "      <td>...</td>\n",
       "      <td>...</td>\n",
       "      <td>...</td>\n",
       "      <td>...</td>\n",
       "      <td>...</td>\n",
       "      <td>...</td>\n",
       "    </tr>\n",
       "    <tr>\n",
       "      <th>291581</th>\n",
       "      <td>WARANY763</td>\n",
       "      <td>1900-01-01 19:15:00</td>\n",
       "      <td>-247.733219</td>\n",
       "      <td>247.928738</td>\n",
       "      <td>True</td>\n",
       "      <td>True</td>\n",
       "    </tr>\n",
       "    <tr>\n",
       "      <th>291582</th>\n",
       "      <td>WARANY764</td>\n",
       "      <td>1900-01-01 19:15:00</td>\n",
       "      <td>-240.771758</td>\n",
       "      <td>240.952718</td>\n",
       "      <td>True</td>\n",
       "      <td>True</td>\n",
       "    </tr>\n",
       "    <tr>\n",
       "      <th>291583</th>\n",
       "      <td>WEPPEY761</td>\n",
       "      <td>1900-01-01 19:15:00</td>\n",
       "      <td>-208.978923</td>\n",
       "      <td>209.114225</td>\n",
       "      <td>True</td>\n",
       "      <td>True</td>\n",
       "    </tr>\n",
       "    <tr>\n",
       "      <th>291584</th>\n",
       "      <td>WEPPEY762</td>\n",
       "      <td>1900-01-01 19:15:00</td>\n",
       "      <td>-210.034189</td>\n",
       "      <td>210.165402</td>\n",
       "      <td>True</td>\n",
       "      <td>True</td>\n",
       "    </tr>\n",
       "    <tr>\n",
       "      <th>291585</th>\n",
       "      <td>YAINVY642</td>\n",
       "      <td>1900-01-01 19:15:00</td>\n",
       "      <td>-43.600849</td>\n",
       "      <td>43.651546</td>\n",
       "      <td>True</td>\n",
       "      <td>True</td>\n",
       "    </tr>\n",
       "  </tbody>\n",
       "</table>\n",
       "<p>291586 rows × 6 columns</p>\n",
       "</div>"
      ],
      "text/plain": [
       "            branch_id           timestamp      value1      value2  connected1  \\\n",
       "0       .CTLHL31.CTLO 1900-01-01 16:45:00    0.000000    0.000000        True   \n",
       "1       .CTLHL32.CTLO 1900-01-01 16:45:00    0.000000    0.000000        True   \n",
       "2        .CTLOL31FINS 1900-01-01 16:45:00    9.227890   -9.181527        True   \n",
       "3       .CTLOL31ZLIEB 1900-01-01 16:45:00   -9.227890    9.311742        True   \n",
       "4       .G.ROL51HOSPI 1900-01-01 16:45:00    0.000000    0.000023       False   \n",
       "...               ...                 ...         ...         ...         ...   \n",
       "291581      WARANY763 1900-01-01 19:15:00 -247.733219  247.928738        True   \n",
       "291582      WARANY764 1900-01-01 19:15:00 -240.771758  240.952718        True   \n",
       "291583      WEPPEY761 1900-01-01 19:15:00 -208.978923  209.114225        True   \n",
       "291584      WEPPEY762 1900-01-01 19:15:00 -210.034189  210.165402        True   \n",
       "291585      YAINVY642 1900-01-01 19:15:00  -43.600849   43.651546        True   \n",
       "\n",
       "        connected2  \n",
       "0            False  \n",
       "1             True  \n",
       "2             True  \n",
       "3             True  \n",
       "4             True  \n",
       "...            ...  \n",
       "291581        True  \n",
       "291582        True  \n",
       "291583        True  \n",
       "291584        True  \n",
       "291585        True  \n",
       "\n",
       "[291586 rows x 6 columns]"
      ]
     },
     "execution_count": 1,
     "metadata": {},
     "output_type": "execute_result"
    }
   ],
   "source": [
    "import pypowsybl.network as pn\n",
    "import pandas as pd\n",
    "\n",
    "def filepath(ts: str) -> str:\n",
    "    return base_dir + '/fr_' + ts + '.biidm'\n",
    "\n",
    "base_dir = '/home/dupuyflo/Data/LFE_2025'\n",
    "timestamps = ['1645', '1650', '1655',\n",
    "              '1700', '1705', '1710', '1715', '1720', '1725', '1730', '1735', '1740', '1745', '1750', '1755',\n",
    "              '1800', '1805', '1810', '1815', '1820', '1825', '1830', '1835', '1840', '1845', '1850', '1855',\n",
    "              '1900', '1905', '1910', '1915']\n",
    "\n",
    "rows = []\n",
    "for ts in timestamps:\n",
    "    path = filepath(ts)\n",
    "    network = pn.load(path)\n",
    "    branches = network.get_branches(attributes=[\"p1\", \"p2\", \"connected1\", \"connected2\"])\n",
    "    branches = branches.reset_index()\n",
    "    timestamp_df = pd.DataFrame({\n",
    "        'branch_id': branches['id'],\n",
    "        'timestamp': pd.to_datetime(ts, format=\"%H%M\"),\n",
    "        'value1': branches['p1'].fillna(0.0),\n",
    "        'value2': branches['p2'].fillna(0.0),\n",
    "        'connected1': branches['connected1'],\n",
    "        'connected2': branches['connected2']\n",
    "    })\n",
    "    rows.append(timestamp_df)\n",
    "\n",
    "time_series_df = pd.concat(rows, ignore_index=True)\n",
    "time_series_df"
   ]
  },
  {
   "cell_type": "markdown",
   "id": "c8f15fd5-5a9f-4495-950c-999a854f18f2",
   "metadata": {},
   "source": [
    "- searching the branches whose connection state changes during the studied time slot"
   ]
  },
  {
   "cell_type": "code",
   "execution_count": 2,
   "id": "9bb6bfc5-8bf5-4114-aadb-69cdbee30722",
   "metadata": {},
   "outputs": [
    {
     "data": {
      "text/plain": [
       "['ANOULL31SSDIE',\n",
       " 'ARNAGY641',\n",
       " 'ARNAGY643',\n",
       " 'BAIXAL32I.TET',\n",
       " 'BENODL31CONCA',\n",
       " 'BREN5L61VERFE',\n",
       " 'CHEV6L41CPFL5',\n",
       " 'CONCAL61SQUIV',\n",
       " 'COTONL42R.LES',\n",
       " 'COUDOL31SIGNE',\n",
       " 'CROZEL31ZCAP5',\n",
       " 'EPER5L41RAMBO',\n",
       " 'ESCO2L31ESCOU',\n",
       " 'FOYAUL42P.SAM',\n",
       " 'LAFIGL61ZLAFI',\n",
       " 'LANG5L31ZKERS',\n",
       " 'MAGN5L41SOUTE',\n",
       " 'MARL6L61MOLSH',\n",
       " 'MOLSHY631',\n",
       " 'MTIGNL41ZC.LA',\n",
       " 'P.GASY763',\n",
       " 'P.GASY765',\n",
       " 'PRRTTL61VERTE',\n",
       " 'QUIMPL31ZKERA',\n",
       " 'SSCROY611']"
      ]
     },
     "execution_count": 2,
     "metadata": {},
     "output_type": "execute_result"
    }
   ],
   "source": [
    "changing_c1 = time_series_df.groupby('branch_id')['connected1'].nunique() > 1\n",
    "changing_c2 = time_series_df.groupby('branch_id')['connected2'].nunique() > 1\n",
    "changing_branches = (changing_c1 | changing_c2)\n",
    "changing_branches[changing_branches].index.tolist()"
   ]
  },
  {
   "cell_type": "markdown",
   "id": "1b156fcf-3fae-4dda-ab33-12e42287fa07",
   "metadata": {
    "jp-MarkdownHeadingCollapsed": true
   },
   "source": [
    "#### 2. Displaying the results\n",
    "- Again, we use the pseudo-geographical fixed nad positions\n",
    "- Two limitations:\n",
    "    - the time slider is only available in nad_explorer widget so far\n",
    "    - only active power values are updated so far "
   ]
  },
  {
   "cell_type": "markdown",
   "id": "d5c25292-51d9-4458-89aa-359e41f5ace9",
   "metadata": {},
   "source": [
    "- Reading the pseudo-geographical nad positions "
   ]
  },
  {
   "cell_type": "code",
   "execution_count": 3,
   "id": "5d9912ab-f23a-4636-a35b-23239b372157",
   "metadata": {},
   "outputs": [],
   "source": [
    "metadata = pd.read_json('/home/dupuyflo/Documents/LFE_2025/france_metadata.json')\n",
    "fixed_positions = pd.DataFrame({\n",
    "    \"id\": metadata[\"equipmentId\"],\n",
    "    \"x\": metadata[\"x\"],\n",
    "    \"y\": metadata[\"y\"]\n",
    "})\n",
    "fixed_positions.set_index('id', drop=True, inplace=True)"
   ]
  },
  {
   "cell_type": "markdown",
   "id": "5e4a2c22-bded-491e-b0d4-edfb3cfac6c5",
   "metadata": {},
   "source": [
    "- Displaying the nad_explorer widget"
   ]
  },
  {
   "cell_type": "code",
   "execution_count": 4,
   "id": "ee7817da-ef22-4f6f-b5de-28a653eda0a4",
   "metadata": {},
   "outputs": [
    {
     "data": {
      "application/vnd.jupyter.widget-view+json": {
       "model_id": "394ee62e42494c31b3eb8749264ad638",
       "version_major": 2,
       "version_minor": 0
      },
      "text/plain": [
       "HBox(children=(VBox(children=(Label(value='Voltage levels'), Text(value='', description='Filter', placeholder=…"
      ]
     },
     "execution_count": 4,
     "metadata": {},
     "output_type": "execute_result"
    }
   ],
   "source": [
    "from pypowsybl_jupyter import nad_explorer\n",
    "\n",
    "nad_explorer(network,voltage_level_ids= ['CONCAP6'], depth=3, time_series_data=time_series_df, fixed_nad_positions=fixed_positions)"
   ]
  }
 ],
 "metadata": {
  "kernelspec": {
   "display_name": "Python 3 (ipykernel)",
   "language": "python",
   "name": "python3"
  },
  "language_info": {
   "codemirror_mode": {
    "name": "ipython",
    "version": 3
   },
   "file_extension": ".py",
   "mimetype": "text/x-python",
   "name": "python",
   "nbconvert_exporter": "python",
   "pygments_lexer": "ipython3",
   "version": "3.10.12"
  }
 },
 "nbformat": 4,
 "nbformat_minor": 5
}
