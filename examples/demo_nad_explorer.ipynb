{
 "cells": [
  {
   "cell_type": "code",
   "execution_count": 1,
   "id": "f42abf42-4718-4f92-a542-68ae289906a6",
   "metadata": {},
   "outputs": [],
   "source": [
    "import pypowsybl.network as pn\n",
    "import pypowsybl.loadflow as lf\n",
    "from pypowsybl_jupyter import nad_explorer"
   ]
  },
  {
   "cell_type": "code",
   "execution_count": 2,
   "id": "ce646543-5d2d-4933-8106-dfb7a281124e",
   "metadata": {},
   "outputs": [],
   "source": [
    "network = pn.create_ieee118()"
   ]
  },
  {
   "cell_type": "code",
   "execution_count": 3,
   "id": "3c2ec122-3ee8-491e-83ad-a9268faa4264",
   "metadata": {},
   "outputs": [],
   "source": [
    "#let's run a LF so that active powers are included in  the diagram\n",
    "lfres=lf.run_ac(network, parameters=lf.Parameters(distributed_slack=False))"
   ]
  },
  {
   "cell_type": "code",
   "execution_count": 4,
   "id": "38eb2042-6fe8-4a30-b46d-b14784119312",
   "metadata": {},
   "outputs": [
    {
     "data": {
      "application/vnd.jupyter.widget-view+json": {
       "model_id": "eae66be3f79d46f09c7c7e012ec90d6c",
       "version_major": 2,
       "version_minor": 0
      },
      "text/plain": [
       "HBox(children=(VBox(children=(Label(value='Voltage levels'), Text(value='', description='Filter', placeholder=…"
      ]
     },
     "execution_count": 4,
     "metadata": {},
     "output_type": "execute_result"
    }
   ],
   "source": [
    "nad_explorer(network)"
   ]
  },
  {
   "cell_type": "code",
   "execution_count": null,
   "id": "2d9bc8ae-a581-4e7f-81f7-579e7580250d",
   "metadata": {},
   "outputs": [],
   "source": []
  }
 ],
 "metadata": {
  "kernelspec": {
   "display_name": "Python 3 (ipykernel)",
   "language": "python",
   "name": "python3"
  },
  "language_info": {
   "codemirror_mode": {
    "name": "ipython",
    "version": 3
   },
   "file_extension": ".py",
   "mimetype": "text/x-python",
   "name": "python",
   "nbconvert_exporter": "python",
   "pygments_lexer": "ipython3",
   "version": "3.10.12"
  }
 },
 "nbformat": 4,
 "nbformat_minor": 5
}
