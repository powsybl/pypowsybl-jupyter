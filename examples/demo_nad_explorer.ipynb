{
 "cells": [
  {
   "cell_type": "code",
   "execution_count": null,
   "id": "f42abf42-4718-4f92-a542-68ae289906a6",
   "metadata": {},
   "outputs": [],
   "source": [
    "import pypowsybl.network as pn\n",
    "import pypowsybl.loadflow as lf\n",
    "from pypowsybl_jupyter import nad_explorer"
   ]
  },
  {
   "cell_type": "code",
   "execution_count": null,
   "id": "ce646543-5d2d-4933-8106-dfb7a281124e",
   "metadata": {},
   "outputs": [],
   "source": [
    "network = pn.create_ieee118()"
   ]
  },
  {
   "cell_type": "code",
   "execution_count": null,
   "id": "3c2ec122-3ee8-491e-83ad-a9268faa4264",
   "metadata": {},
   "outputs": [],
   "source": [
    "#let's run a LF so that active powers are included in  the diagram\n",
    "lfres=lf.run_ac(network, parameters=lf.Parameters(distributed_slack=False))"
   ]
  },
  {
   "cell_type": "code",
   "execution_count": null,
   "id": "38eb2042-6fe8-4a30-b46d-b14784119312",
   "metadata": {},
   "outputs": [],
   "source": [
    "nad_explorer(network)"
   ]
  }
 ],
 "metadata": {
  "kernelspec": {
   "display_name": "Python 3 (ipykernel)",
   "language": "python",
   "name": "python3"
  },
  "language_info": {
   "codemirror_mode": {
    "name": "ipython",
    "version": 3
   },
   "file_extension": ".py",
   "mimetype": "text/x-python",
   "name": "python",
   "nbconvert_exporter": "python",
   "pygments_lexer": "ipython3",
   "version": "3.12.2"
  }
 },
 "nbformat": 4,
 "nbformat_minor": 5
}
