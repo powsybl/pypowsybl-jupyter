{
 "cells": [
  {
   "cell_type": "code",
   "execution_count": null,
   "id": "6ce368c8-5321-473a-a650-bacb1af6b7dd",
   "metadata": {},
   "outputs": [],
   "source": [
    "from pypowsybl_jupyter import display_sld\n",
    "import pypowsybl.network as pn"
   ]
  },
  {
   "cell_type": "code",
   "execution_count": null,
   "id": "3cfb1076-b5b3-4d4a-a18c-89f306b4d79c",
   "metadata": {},
   "outputs": [],
   "source": [
    "network = pn.create_ieee9()"
   ]
  },
  {
   "cell_type": "code",
   "execution_count": null,
   "id": "0b5457fe-c536-4eb6-9638-83196c04ddc7",
   "metadata": {},
   "outputs": [],
   "source": [
    "#display a SLD for a network's VL, with pan and zoom\n",
    "display_sld(network.get_single_line_diagram(network.get_voltage_levels().index[1]))"
   ]
  },
  {
   "cell_type": "code",
   "execution_count": null,
   "id": "f81ed51d-906f-4c80-8c4e-e89712a82a3c",
   "metadata": {},
   "outputs": [],
   "source": [
    "##uses SldParameters to customize the SLD\n",
    "pars=pn.SldParameters(diagonal_label=True, nodes_infos=True)\n",
    "display_sld(network.get_single_line_diagram(network.get_voltage_levels().index[1], parameters=pars))"
   ]
  }
 ],
 "metadata": {
  "kernelspec": {
   "display_name": "Python 3 (ipykernel)",
   "language": "python",
   "name": "python3"
  },
  "language_info": {
   "codemirror_mode": {
    "name": "ipython",
    "version": 3
   },
   "file_extension": ".py",
   "mimetype": "text/x-python",
   "name": "python",
   "nbconvert_exporter": "python",
   "pygments_lexer": "ipython3",
   "version": "3.12.3"
  }
 },
 "nbformat": 4,
 "nbformat_minor": 5
}
