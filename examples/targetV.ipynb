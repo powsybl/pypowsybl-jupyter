{
 "cells": [
  {
   "cell_type": "markdown",
   "id": "52dea5b5-fb96-4eac-b66a-3e7013ebad09",
   "metadata": {},
   "source": [
    "## Investigating problematic voltage setpoints with pypowsybl-jupyter\n",
    "- This notebook demonstrates how to **investigate faulty voltage setpoints** with the help of the **network explorer widget**.\n",
    "- It compares **target voltage** and **calculated voltage** on each generator.\n",
    "- We will visualize differences by providing the widget a **custom styling** to apply on bus nodes."
   ]
  },
  {
   "cell_type": "markdown",
   "id": "da9b4a62-2056-40b5-ac51-158a78ff77a4",
   "metadata": {
    "jp-MarkdownHeadingCollapsed": true
   },
   "source": [
    "#### 1. Loading networks\n",
    "- We load a french network snapshot, near to the 7pm peak hour.\n",
    "- We then run an AC loadflow on that snapshot."
   ]
  },
  {
   "cell_type": "code",
   "execution_count": 1,
   "id": "78b1dbb6-391c-4aa3-8902-56760641ce43",
   "metadata": {},
   "outputs": [],
   "source": [
    "import pypowsybl.network as pn\n",
    "network = pn.load('/home/dupuyflo/Data/LFE_2025/fr_1850.xiidm')"
   ]
  },
  {
   "cell_type": "code",
   "execution_count": 2,
   "id": "221a2b30-6f57-46c5-a1e2-531afba6e7af",
   "metadata": {},
   "outputs": [
    {
     "data": {
      "text/plain": [
       "[ComponentResult(connected_component_num=0, synchronous_component_num=0, status=CONVERGED, status_text=Converged, iteration_count=7, reference_bus_id='CHAFFP7_0', slack_bus_results=[SlackBusResult(id='CHAFFP7_0', active_power_mismatch=-0.5088339270259201)], distributed_active_power=28.570841706134765)]"
      ]
     },
     "execution_count": 2,
     "metadata": {},
     "output_type": "execute_result"
    }
   ],
   "source": [
    "import pypowsybl.loadflow as lf\n",
    "lf.run_ac(network)"
   ]
  },
  {
   "cell_type": "markdown",
   "id": "de7a716d-d042-40df-abb0-50d4de236969",
   "metadata": {
    "jp-MarkdownHeadingCollapsed": true
   },
   "source": [
    "#### 2. Compute voltage differences\n",
    "- We're constructing the dataframe containing the delta between target_v and calculated v for each generator.\n",
    "- We're then aggregating that dataframe to have the maximum difference for each bus."
   ]
  },
  {
   "cell_type": "markdown",
   "id": "96a70272-2a1a-4d18-9d30-e694dbdc3c31",
   "metadata": {},
   "source": [
    "- getting the generators dataframe"
   ]
  },
  {
   "cell_type": "code",
   "execution_count": 3,
   "id": "618664df-fe52-4d33-a2dc-b32d35698b2c",
   "metadata": {},
   "outputs": [
    {
     "data": {
      "text/html": [
       "<div>\n",
       "<style scoped>\n",
       "    .dataframe tbody tr th:only-of-type {\n",
       "        vertical-align: middle;\n",
       "    }\n",
       "\n",
       "    .dataframe tbody tr th {\n",
       "        vertical-align: top;\n",
       "    }\n",
       "\n",
       "    .dataframe thead th {\n",
       "        text-align: right;\n",
       "    }\n",
       "</style>\n",
       "<table border=\"1\" class=\"dataframe\">\n",
       "  <thead>\n",
       "    <tr style=\"text-align: right;\">\n",
       "      <th></th>\n",
       "      <th>target_v</th>\n",
       "      <th>bus_id</th>\n",
       "    </tr>\n",
       "    <tr>\n",
       "      <th>id</th>\n",
       "      <th></th>\n",
       "      <th></th>\n",
       "    </tr>\n",
       "  </thead>\n",
       "  <tbody>\n",
       "    <tr>\n",
       "      <th>.CTLO3GROUP.1</th>\n",
       "      <td>66.150002</td>\n",
       "      <td>.CTLHP3_0</td>\n",
       "    </tr>\n",
       "    <tr>\n",
       "      <th>.CTLO3GROUP.2</th>\n",
       "      <td>66.150002</td>\n",
       "      <td>.CTLHP3_1</td>\n",
       "    </tr>\n",
       "    <tr>\n",
       "      <th>ARGOEIN2</th>\n",
       "      <td>94.637794</td>\n",
       "      <td>ARGOEP4_0</td>\n",
       "    </tr>\n",
       "    <tr>\n",
       "      <th>ARGOEIN1</th>\n",
       "      <td>240.139236</td>\n",
       "      <td>ARGOEP6_0</td>\n",
       "    </tr>\n",
       "    <tr>\n",
       "      <th>EGUZO4EGUZOH1+2+3</th>\n",
       "      <td>92.643967</td>\n",
       "      <td>EGUZOP4_0</td>\n",
       "    </tr>\n",
       "    <tr>\n",
       "      <th>...</th>\n",
       "      <td>...</td>\n",
       "      <td>...</td>\n",
       "    </tr>\n",
       "    <tr>\n",
       "      <th>VOVESIN3</th>\n",
       "      <td>94.162010</td>\n",
       "      <td>VOVESP4_0</td>\n",
       "    </tr>\n",
       "    <tr>\n",
       "      <th>WALDIIN1</th>\n",
       "      <td>65.063324</td>\n",
       "      <td>WALDIP3_0</td>\n",
       "    </tr>\n",
       "    <tr>\n",
       "      <th>WALDIIN3</th>\n",
       "      <td>65.063324</td>\n",
       "      <td>WALDIP3_0</td>\n",
       "    </tr>\n",
       "    <tr>\n",
       "      <th>YQUELIN1</th>\n",
       "      <td>92.394417</td>\n",
       "      <td>YQUELP4_0</td>\n",
       "    </tr>\n",
       "    <tr>\n",
       "      <th>YZEURIN1</th>\n",
       "      <td>62.752071</td>\n",
       "      <td>YZEURP3_0</td>\n",
       "    </tr>\n",
       "  </tbody>\n",
       "</table>\n",
       "<p>2442 rows × 2 columns</p>\n",
       "</div>"
      ],
      "text/plain": [
       "                     target_v     bus_id\n",
       "id                                      \n",
       ".CTLO3GROUP.1       66.150002  .CTLHP3_0\n",
       ".CTLO3GROUP.2       66.150002  .CTLHP3_1\n",
       "ARGOEIN2            94.637794  ARGOEP4_0\n",
       "ARGOEIN1           240.139236  ARGOEP6_0\n",
       "EGUZO4EGUZOH1+2+3   92.643967  EGUZOP4_0\n",
       "...                       ...        ...\n",
       "VOVESIN3            94.162010  VOVESP4_0\n",
       "WALDIIN1            65.063324  WALDIP3_0\n",
       "WALDIIN3            65.063324  WALDIP3_0\n",
       "YQUELIN1            92.394417  YQUELP4_0\n",
       "YZEURIN1            62.752071  YZEURP3_0\n",
       "\n",
       "[2442 rows x 2 columns]"
      ]
     },
     "execution_count": 3,
     "metadata": {},
     "output_type": "execute_result"
    }
   ],
   "source": [
    "gens = network.get_generators(attributes=['target_v', 'bus_id'])\n",
    "gens"
   ]
  },
  {
   "cell_type": "markdown",
   "id": "9f010be3-02f2-4581-870e-3a185dc5359b",
   "metadata": {},
   "source": [
    "- getting the buses dataframe"
   ]
  },
  {
   "cell_type": "code",
   "execution_count": 4,
   "id": "f6dfd816-51c2-4f9f-9699-357e5a951d5a",
   "metadata": {},
   "outputs": [
    {
     "data": {
      "text/html": [
       "<div>\n",
       "<style scoped>\n",
       "    .dataframe tbody tr th:only-of-type {\n",
       "        vertical-align: middle;\n",
       "    }\n",
       "\n",
       "    .dataframe tbody tr th {\n",
       "        vertical-align: top;\n",
       "    }\n",
       "\n",
       "    .dataframe thead th {\n",
       "        text-align: right;\n",
       "    }\n",
       "</style>\n",
       "<table border=\"1\" class=\"dataframe\">\n",
       "  <thead>\n",
       "    <tr style=\"text-align: right;\">\n",
       "      <th></th>\n",
       "      <th>v_mag</th>\n",
       "    </tr>\n",
       "    <tr>\n",
       "      <th>id</th>\n",
       "      <th></th>\n",
       "    </tr>\n",
       "  </thead>\n",
       "  <tbody>\n",
       "    <tr>\n",
       "      <th>.CTLHP3_0</th>\n",
       "      <td>NaN</td>\n",
       "    </tr>\n",
       "    <tr>\n",
       "      <th>.CTLHP3_1</th>\n",
       "      <td>NaN</td>\n",
       "    </tr>\n",
       "    <tr>\n",
       "      <th>.CTLOP3_0</th>\n",
       "      <td>63.416170</td>\n",
       "    </tr>\n",
       "    <tr>\n",
       "      <th>.CTLOP3_3</th>\n",
       "      <td>NaN</td>\n",
       "    </tr>\n",
       "    <tr>\n",
       "      <th>.G.ROP6_0</th>\n",
       "      <td>237.940593</td>\n",
       "    </tr>\n",
       "    <tr>\n",
       "      <th>...</th>\n",
       "      <td>...</td>\n",
       "    </tr>\n",
       "    <tr>\n",
       "      <th>ZVOUZP4_0</th>\n",
       "      <td>94.888962</td>\n",
       "    </tr>\n",
       "    <tr>\n",
       "      <th>ZWOESP6_0</th>\n",
       "      <td>235.745697</td>\n",
       "    </tr>\n",
       "    <tr>\n",
       "      <th>ZY.EVP4_0</th>\n",
       "      <td>89.873197</td>\n",
       "    </tr>\n",
       "    <tr>\n",
       "      <th>ZYVE5P4_0</th>\n",
       "      <td>93.667411</td>\n",
       "    </tr>\n",
       "    <tr>\n",
       "      <th>ZYZEUP3_0</th>\n",
       "      <td>62.949261</td>\n",
       "    </tr>\n",
       "  </tbody>\n",
       "</table>\n",
       "<p>6374 rows × 1 columns</p>\n",
       "</div>"
      ],
      "text/plain": [
       "                v_mag\n",
       "id                   \n",
       ".CTLHP3_0         NaN\n",
       ".CTLHP3_1         NaN\n",
       ".CTLOP3_0   63.416170\n",
       ".CTLOP3_3         NaN\n",
       ".G.ROP6_0  237.940593\n",
       "...               ...\n",
       "ZVOUZP4_0   94.888962\n",
       "ZWOESP6_0  235.745697\n",
       "ZY.EVP4_0   89.873197\n",
       "ZYVE5P4_0   93.667411\n",
       "ZYZEUP3_0   62.949261\n",
       "\n",
       "[6374 rows x 1 columns]"
      ]
     },
     "execution_count": 4,
     "metadata": {},
     "output_type": "execute_result"
    }
   ],
   "source": [
    "bus_v = network.get_buses(attributes=['v_mag'])\n",
    "bus_v"
   ]
  },
  {
   "cell_type": "markdown",
   "id": "3ab77b9a-a570-4794-a601-1ba74ad40464",
   "metadata": {},
   "source": [
    "- constructing the `delta_v` column"
   ]
  },
  {
   "cell_type": "code",
   "execution_count": 5,
   "id": "30340645-b9f4-45d9-92ac-9ec17e0a823a",
   "metadata": {},
   "outputs": [
    {
     "data": {
      "text/html": [
       "<div>\n",
       "<style scoped>\n",
       "    .dataframe tbody tr th:only-of-type {\n",
       "        vertical-align: middle;\n",
       "    }\n",
       "\n",
       "    .dataframe tbody tr th {\n",
       "        vertical-align: top;\n",
       "    }\n",
       "\n",
       "    .dataframe thead th {\n",
       "        text-align: right;\n",
       "    }\n",
       "</style>\n",
       "<table border=\"1\" class=\"dataframe\">\n",
       "  <thead>\n",
       "    <tr style=\"text-align: right;\">\n",
       "      <th></th>\n",
       "      <th>target_v</th>\n",
       "      <th>bus_id</th>\n",
       "      <th>delta_v</th>\n",
       "    </tr>\n",
       "    <tr>\n",
       "      <th>id</th>\n",
       "      <th></th>\n",
       "      <th></th>\n",
       "      <th></th>\n",
       "    </tr>\n",
       "  </thead>\n",
       "  <tbody>\n",
       "    <tr>\n",
       "      <th>.CTLO3GROUP.1</th>\n",
       "      <td>66.150002</td>\n",
       "      <td>.CTLHP3_0</td>\n",
       "      <td>NaN</td>\n",
       "    </tr>\n",
       "    <tr>\n",
       "      <th>.CTLO3GROUP.2</th>\n",
       "      <td>66.150002</td>\n",
       "      <td>.CTLHP3_1</td>\n",
       "      <td>NaN</td>\n",
       "    </tr>\n",
       "    <tr>\n",
       "      <th>ARGOEIN2</th>\n",
       "      <td>94.637794</td>\n",
       "      <td>ARGOEP4_0</td>\n",
       "      <td>0.002372</td>\n",
       "    </tr>\n",
       "    <tr>\n",
       "      <th>ARGOEIN1</th>\n",
       "      <td>240.139236</td>\n",
       "      <td>ARGOEP6_0</td>\n",
       "      <td>0.003580</td>\n",
       "    </tr>\n",
       "    <tr>\n",
       "      <th>EGUZO4EGUZOH1+2+3</th>\n",
       "      <td>92.643967</td>\n",
       "      <td>EGUZOP4_0</td>\n",
       "      <td>0.000000</td>\n",
       "    </tr>\n",
       "    <tr>\n",
       "      <th>...</th>\n",
       "      <td>...</td>\n",
       "      <td>...</td>\n",
       "      <td>...</td>\n",
       "    </tr>\n",
       "    <tr>\n",
       "      <th>VOVESIN3</th>\n",
       "      <td>94.162010</td>\n",
       "      <td>VOVESP4_0</td>\n",
       "      <td>0.001405</td>\n",
       "    </tr>\n",
       "    <tr>\n",
       "      <th>WALDIIN1</th>\n",
       "      <td>65.063324</td>\n",
       "      <td>WALDIP3_0</td>\n",
       "      <td>0.084915</td>\n",
       "    </tr>\n",
       "    <tr>\n",
       "      <th>WALDIIN3</th>\n",
       "      <td>65.063324</td>\n",
       "      <td>WALDIP3_0</td>\n",
       "      <td>0.084915</td>\n",
       "    </tr>\n",
       "    <tr>\n",
       "      <th>YQUELIN1</th>\n",
       "      <td>92.394417</td>\n",
       "      <td>YQUELP4_0</td>\n",
       "      <td>0.270119</td>\n",
       "    </tr>\n",
       "    <tr>\n",
       "      <th>YZEURIN1</th>\n",
       "      <td>62.752071</td>\n",
       "      <td>YZEURP3_0</td>\n",
       "      <td>0.000580</td>\n",
       "    </tr>\n",
       "  </tbody>\n",
       "</table>\n",
       "<p>2442 rows × 3 columns</p>\n",
       "</div>"
      ],
      "text/plain": [
       "                     target_v     bus_id   delta_v\n",
       "id                                                \n",
       ".CTLO3GROUP.1       66.150002  .CTLHP3_0       NaN\n",
       ".CTLO3GROUP.2       66.150002  .CTLHP3_1       NaN\n",
       "ARGOEIN2            94.637794  ARGOEP4_0  0.002372\n",
       "ARGOEIN1           240.139236  ARGOEP6_0  0.003580\n",
       "EGUZO4EGUZOH1+2+3   92.643967  EGUZOP4_0  0.000000\n",
       "...                       ...        ...       ...\n",
       "VOVESIN3            94.162010  VOVESP4_0  0.001405\n",
       "WALDIIN1            65.063324  WALDIP3_0  0.084915\n",
       "WALDIIN3            65.063324  WALDIP3_0  0.084915\n",
       "YQUELIN1            92.394417  YQUELP4_0  0.270119\n",
       "YZEURIN1            62.752071  YZEURP3_0  0.000580\n",
       "\n",
       "[2442 rows x 3 columns]"
      ]
     },
     "execution_count": 5,
     "metadata": {},
     "output_type": "execute_result"
    }
   ],
   "source": [
    "gens['delta_v'] = gens['bus_id'].map(bus_v['v_mag']) - gens['target_v']\n",
    "gens"
   ]
  },
  {
   "cell_type": "markdown",
   "id": "f20a56d5-a603-4e32-a747-2c1ff0b5805c",
   "metadata": {},
   "source": [
    "- looking at extreme values"
   ]
  },
  {
   "cell_type": "code",
   "execution_count": 6,
   "id": "28f38dc1-a965-4340-b601-ba7812bca4d6",
   "metadata": {},
   "outputs": [
    {
     "data": {
      "text/plain": [
       "(np.float64(-0.17822187459366035), np.float64(1.5594544290956094))"
      ]
     },
     "execution_count": 6,
     "metadata": {},
     "output_type": "execute_result"
    }
   ],
   "source": [
    "gens['delta_v'].min(), gens['delta_v'].max()"
   ]
  },
  {
   "cell_type": "code",
   "execution_count": 7,
   "id": "82e1241f-4cd6-4524-947c-5e681d4844ba",
   "metadata": {},
   "outputs": [
    {
     "data": {
      "text/html": [
       "<div>\n",
       "<style scoped>\n",
       "    .dataframe tbody tr th:only-of-type {\n",
       "        vertical-align: middle;\n",
       "    }\n",
       "\n",
       "    .dataframe tbody tr th {\n",
       "        vertical-align: top;\n",
       "    }\n",
       "\n",
       "    .dataframe thead th {\n",
       "        text-align: right;\n",
       "    }\n",
       "</style>\n",
       "<table border=\"1\" class=\"dataframe\">\n",
       "  <thead>\n",
       "    <tr style=\"text-align: right;\">\n",
       "      <th></th>\n",
       "      <th>target_v</th>\n",
       "      <th>bus_id</th>\n",
       "      <th>delta_v</th>\n",
       "    </tr>\n",
       "    <tr>\n",
       "      <th>id</th>\n",
       "      <th></th>\n",
       "      <th></th>\n",
       "      <th></th>\n",
       "    </tr>\n",
       "  </thead>\n",
       "  <tbody>\n",
       "    <tr>\n",
       "      <th>H.PUIIN1</th>\n",
       "      <td>93.017090</td>\n",
       "      <td>H.PUIP4_0</td>\n",
       "      <td>1.559454</td>\n",
       "    </tr>\n",
       "    <tr>\n",
       "      <th>PERIEIN1</th>\n",
       "      <td>93.179733</td>\n",
       "      <td>PERIEP4_0</td>\n",
       "      <td>0.977998</td>\n",
       "    </tr>\n",
       "    <tr>\n",
       "      <th>TOLMEIN1</th>\n",
       "      <td>93.623184</td>\n",
       "      <td>TOLMEP4_1#0</td>\n",
       "      <td>0.589754</td>\n",
       "    </tr>\n",
       "    <tr>\n",
       "      <th>VLEDIIN1</th>\n",
       "      <td>92.060165</td>\n",
       "      <td>VLEDIP4_0</td>\n",
       "      <td>0.564439</td>\n",
       "    </tr>\n",
       "    <tr>\n",
       "      <th>AGNEAIN1</th>\n",
       "      <td>93.026337</td>\n",
       "      <td>AGNEAP4_0</td>\n",
       "      <td>0.555663</td>\n",
       "    </tr>\n",
       "    <tr>\n",
       "      <th>ALERIIN1</th>\n",
       "      <td>93.321419</td>\n",
       "      <td>ALERIP4_0</td>\n",
       "      <td>0.550395</td>\n",
       "    </tr>\n",
       "    <tr>\n",
       "      <th>MESNIIN1</th>\n",
       "      <td>92.942345</td>\n",
       "      <td>MESNIP4_0</td>\n",
       "      <td>0.522404</td>\n",
       "    </tr>\n",
       "    <tr>\n",
       "      <th>VALCAIN1</th>\n",
       "      <td>93.386345</td>\n",
       "      <td>VALCAP4_0</td>\n",
       "      <td>0.438143</td>\n",
       "    </tr>\n",
       "    <tr>\n",
       "      <th>COUTAIN1</th>\n",
       "      <td>92.106506</td>\n",
       "      <td>COUTAP4_0</td>\n",
       "      <td>0.410341</td>\n",
       "    </tr>\n",
       "    <tr>\n",
       "      <th>CSLET.HG01</th>\n",
       "      <td>19.542150</td>\n",
       "      <td>CSLETP1_1#0</td>\n",
       "      <td>0.336053</td>\n",
       "    </tr>\n",
       "  </tbody>\n",
       "</table>\n",
       "</div>"
      ],
      "text/plain": [
       "             target_v       bus_id   delta_v\n",
       "id                                          \n",
       "H.PUIIN1    93.017090    H.PUIP4_0  1.559454\n",
       "PERIEIN1    93.179733    PERIEP4_0  0.977998\n",
       "TOLMEIN1    93.623184  TOLMEP4_1#0  0.589754\n",
       "VLEDIIN1    92.060165    VLEDIP4_0  0.564439\n",
       "AGNEAIN1    93.026337    AGNEAP4_0  0.555663\n",
       "ALERIIN1    93.321419    ALERIP4_0  0.550395\n",
       "MESNIIN1    92.942345    MESNIP4_0  0.522404\n",
       "VALCAIN1    93.386345    VALCAP4_0  0.438143\n",
       "COUTAIN1    92.106506    COUTAP4_0  0.410341\n",
       "CSLET.HG01  19.542150  CSLETP1_1#0  0.336053"
      ]
     },
     "execution_count": 7,
     "metadata": {},
     "output_type": "execute_result"
    }
   ],
   "source": [
    "gens.sort_values(by='delta_v', key=abs, ascending=False).head(10)"
   ]
  },
  {
   "cell_type": "markdown",
   "id": "6a7c33aa-e7f9-492e-bd95-653471b4ea03",
   "metadata": {},
   "source": [
    "- Taking the maximum value for each bus to aggregate the values"
   ]
  },
  {
   "cell_type": "code",
   "execution_count": 8,
   "id": "6ca9e38e-cb7d-4ada-bc6b-6681c550f1d7",
   "metadata": {},
   "outputs": [
    {
     "data": {
      "text/html": [
       "<div>\n",
       "<style scoped>\n",
       "    .dataframe tbody tr th:only-of-type {\n",
       "        vertical-align: middle;\n",
       "    }\n",
       "\n",
       "    .dataframe tbody tr th {\n",
       "        vertical-align: top;\n",
       "    }\n",
       "\n",
       "    .dataframe thead th {\n",
       "        text-align: right;\n",
       "    }\n",
       "</style>\n",
       "<table border=\"1\" class=\"dataframe\">\n",
       "  <thead>\n",
       "    <tr style=\"text-align: right;\">\n",
       "      <th></th>\n",
       "      <th>target_v</th>\n",
       "      <th>delta_v</th>\n",
       "    </tr>\n",
       "    <tr>\n",
       "      <th>bus_id</th>\n",
       "      <th></th>\n",
       "      <th></th>\n",
       "    </tr>\n",
       "  </thead>\n",
       "  <tbody>\n",
       "    <tr>\n",
       "      <th></th>\n",
       "      <td>0.000000</td>\n",
       "      <td>NaN</td>\n",
       "    </tr>\n",
       "    <tr>\n",
       "      <th>.CTLHP3_0</th>\n",
       "      <td>66.150002</td>\n",
       "      <td>NaN</td>\n",
       "    </tr>\n",
       "    <tr>\n",
       "      <th>.CTLHP3_1</th>\n",
       "      <td>66.150002</td>\n",
       "      <td>NaN</td>\n",
       "    </tr>\n",
       "    <tr>\n",
       "      <th>A.ADOP3_0</th>\n",
       "      <td>62.077320</td>\n",
       "      <td>-0.052657</td>\n",
       "    </tr>\n",
       "    <tr>\n",
       "      <th>A.COMP6_0</th>\n",
       "      <td>240.099899</td>\n",
       "      <td>0.003744</td>\n",
       "    </tr>\n",
       "    <tr>\n",
       "      <th>...</th>\n",
       "      <td>...</td>\n",
       "      <td>...</td>\n",
       "    </tr>\n",
       "    <tr>\n",
       "      <th>VOUZIP3_0</th>\n",
       "      <td>66.227478</td>\n",
       "      <td>-0.000847</td>\n",
       "    </tr>\n",
       "    <tr>\n",
       "      <th>VOVESP4_0</th>\n",
       "      <td>94.162010</td>\n",
       "      <td>0.001405</td>\n",
       "    </tr>\n",
       "    <tr>\n",
       "      <th>WALDIP3_0</th>\n",
       "      <td>65.063324</td>\n",
       "      <td>0.084915</td>\n",
       "    </tr>\n",
       "    <tr>\n",
       "      <th>YQUELP4_0</th>\n",
       "      <td>92.394417</td>\n",
       "      <td>0.270119</td>\n",
       "    </tr>\n",
       "    <tr>\n",
       "      <th>YZEURP3_0</th>\n",
       "      <td>62.752071</td>\n",
       "      <td>0.000580</td>\n",
       "    </tr>\n",
       "  </tbody>\n",
       "</table>\n",
       "<p>1260 rows × 2 columns</p>\n",
       "</div>"
      ],
      "text/plain": [
       "             target_v   delta_v\n",
       "bus_id                         \n",
       "             0.000000       NaN\n",
       ".CTLHP3_0   66.150002       NaN\n",
       ".CTLHP3_1   66.150002       NaN\n",
       "A.ADOP3_0   62.077320 -0.052657\n",
       "A.COMP6_0  240.099899  0.003744\n",
       "...               ...       ...\n",
       "VOUZIP3_0   66.227478 -0.000847\n",
       "VOVESP4_0   94.162010  0.001405\n",
       "WALDIP3_0   65.063324  0.084915\n",
       "YQUELP4_0   92.394417  0.270119\n",
       "YZEURP3_0   62.752071  0.000580\n",
       "\n",
       "[1260 rows x 2 columns]"
      ]
     },
     "execution_count": 8,
     "metadata": {},
     "output_type": "execute_result"
    }
   ],
   "source": [
    "gens = gens.groupby('bus_id').max()\n",
    "gens"
   ]
  },
  {
   "cell_type": "markdown",
   "id": "93a5933c-4dea-49b6-b06a-4b5456cd2fac",
   "metadata": {
    "jp-MarkdownHeadingCollapsed": true
   },
   "source": [
    "#### 3. Construct a style dataframe\n",
    "  - Green/Red gradient indicate small/big changes\n",
    "  - Gray indicate NaN values (buses without generators)"
   ]
  },
  {
   "cell_type": "code",
   "execution_count": 9,
   "id": "1dc6152a-4bd8-4656-b8ac-da38cf591571",
   "metadata": {},
   "outputs": [
    {
     "data": {
      "text/html": [
       "<div>\n",
       "<style scoped>\n",
       "    .dataframe tbody tr th:only-of-type {\n",
       "        vertical-align: middle;\n",
       "    }\n",
       "\n",
       "    .dataframe tbody tr th {\n",
       "        vertical-align: top;\n",
       "    }\n",
       "\n",
       "    .dataframe thead th {\n",
       "        text-align: right;\n",
       "    }\n",
       "</style>\n",
       "<table border=\"1\" class=\"dataframe\">\n",
       "  <thead>\n",
       "    <tr style=\"text-align: right;\">\n",
       "      <th></th>\n",
       "      <th>target_v</th>\n",
       "      <th>delta_v</th>\n",
       "      <th>dv_idx</th>\n",
       "    </tr>\n",
       "    <tr>\n",
       "      <th>bus_id</th>\n",
       "      <th></th>\n",
       "      <th></th>\n",
       "      <th></th>\n",
       "    </tr>\n",
       "  </thead>\n",
       "  <tbody>\n",
       "    <tr>\n",
       "      <th></th>\n",
       "      <td>0.000000</td>\n",
       "      <td>NaN</td>\n",
       "      <td>-1</td>\n",
       "    </tr>\n",
       "    <tr>\n",
       "      <th>.CTLHP3_0</th>\n",
       "      <td>66.150002</td>\n",
       "      <td>NaN</td>\n",
       "      <td>-1</td>\n",
       "    </tr>\n",
       "    <tr>\n",
       "      <th>.CTLHP3_1</th>\n",
       "      <td>66.150002</td>\n",
       "      <td>NaN</td>\n",
       "      <td>-1</td>\n",
       "    </tr>\n",
       "    <tr>\n",
       "      <th>A.ADOP3_0</th>\n",
       "      <td>62.077320</td>\n",
       "      <td>-0.052657</td>\n",
       "      <td>17</td>\n",
       "    </tr>\n",
       "    <tr>\n",
       "      <th>A.COMP6_0</th>\n",
       "      <td>240.099899</td>\n",
       "      <td>0.003744</td>\n",
       "      <td>1</td>\n",
       "    </tr>\n",
       "    <tr>\n",
       "      <th>...</th>\n",
       "      <td>...</td>\n",
       "      <td>...</td>\n",
       "      <td>...</td>\n",
       "    </tr>\n",
       "    <tr>\n",
       "      <th>VOUZIP3_0</th>\n",
       "      <td>66.227478</td>\n",
       "      <td>-0.000847</td>\n",
       "      <td>0</td>\n",
       "    </tr>\n",
       "    <tr>\n",
       "      <th>VOVESP4_0</th>\n",
       "      <td>94.162010</td>\n",
       "      <td>0.001405</td>\n",
       "      <td>0</td>\n",
       "    </tr>\n",
       "    <tr>\n",
       "      <th>WALDIP3_0</th>\n",
       "      <td>65.063324</td>\n",
       "      <td>0.084915</td>\n",
       "      <td>28</td>\n",
       "    </tr>\n",
       "    <tr>\n",
       "      <th>YQUELP4_0</th>\n",
       "      <td>92.394417</td>\n",
       "      <td>0.270119</td>\n",
       "      <td>89</td>\n",
       "    </tr>\n",
       "    <tr>\n",
       "      <th>YZEURP3_0</th>\n",
       "      <td>62.752071</td>\n",
       "      <td>0.000580</td>\n",
       "      <td>0</td>\n",
       "    </tr>\n",
       "  </tbody>\n",
       "</table>\n",
       "<p>1260 rows × 3 columns</p>\n",
       "</div>"
      ],
      "text/plain": [
       "             target_v   delta_v  dv_idx\n",
       "bus_id                                 \n",
       "             0.000000       NaN      -1\n",
       ".CTLHP3_0   66.150002       NaN      -1\n",
       ".CTLHP3_1   66.150002       NaN      -1\n",
       "A.ADOP3_0   62.077320 -0.052657      17\n",
       "A.COMP6_0  240.099899  0.003744       1\n",
       "...               ...       ...     ...\n",
       "VOUZIP3_0   66.227478 -0.000847       0\n",
       "VOVESP4_0   94.162010  0.001405       0\n",
       "WALDIP3_0   65.063324  0.084915      28\n",
       "YQUELP4_0   92.394417  0.270119      89\n",
       "YZEURP3_0   62.752071  0.000580       0\n",
       "\n",
       "[1260 rows x 3 columns]"
      ]
     },
     "execution_count": 9,
     "metadata": {},
     "output_type": "execute_result"
    }
   ],
   "source": [
    "import pandas as pd\n",
    "import numpy as np\n",
    "\n",
    "red_value_legend = 0.3\n",
    "\n",
    "def create_style_gradient(n_colors=100):\n",
    "    r = np.linspace(91, 255, n_colors)\n",
    "    g = np.linspace(217, 0, n_colors)\n",
    "    b = np.linspace(179, 0, n_colors)\n",
    "\n",
    "    colors = ['#{:02x}{:02x}{:02x}'.format(int(r[i]), int(g[i]), int(b[i])) \n",
    "              for i in range(n_colors)]\n",
    "\n",
    "    numeric_widths = np.linspace(1, 15, n_colors)\n",
    "    width_strings = [f\"{int(width)}px\" for width in numeric_widths]\n",
    "\n",
    "    return pd.DataFrame({\n",
    "        'width': width_strings,\n",
    "        'hex_color': colors\n",
    "    })\n",
    "\n",
    "style_df = create_style_gradient(100)\n",
    "\n",
    "def map_index(value):\n",
    "    if pd.isna(value):\n",
    "        return -1\n",
    "    return min(int(abs(value) / red_value_legend * 99), 99)\n",
    "\n",
    "\n",
    "gens['dv_idx'] = gens['delta_v'].apply(map_index)\n",
    "gens"
   ]
  },
  {
   "cell_type": "markdown",
   "id": "8f25be4c-0785-4cfb-bf2c-f6c1b72ee35f",
   "metadata": {},
   "source": [
    "#### 4. Construct the custom style profile"
   ]
  },
  {
   "cell_type": "markdown",
   "id": "af5f389f-ca79-4bd2-a9e8-94f8039d69e5",
   "metadata": {},
   "source": [
    "- first taking the default style profile"
   ]
  },
  {
   "cell_type": "code",
   "execution_count": 10,
   "id": "09f1d980-ec45-4b71-99ac-b67aa87c1996",
   "metadata": {},
   "outputs": [],
   "source": [
    "default_pf = network.get_default_nad_profile()"
   ]
  },
  {
   "cell_type": "markdown",
   "id": "47bb46a0-a372-4366-9747-1fe54f1a0b80",
   "metadata": {},
   "source": [
    "- then overriding the bus nodes styles based on the `delta_v` column and on the style dataframe"
   ]
  },
  {
   "cell_type": "code",
   "execution_count": 11,
   "id": "10c53fbb-6431-4bba-bb43-50d9b668915e",
   "metadata": {},
   "outputs": [
    {
     "data": {
      "text/html": [
       "<div>\n",
       "<style scoped>\n",
       "    .dataframe tbody tr th:only-of-type {\n",
       "        vertical-align: middle;\n",
       "    }\n",
       "\n",
       "    .dataframe tbody tr th {\n",
       "        vertical-align: top;\n",
       "    }\n",
       "\n",
       "    .dataframe thead th {\n",
       "        text-align: right;\n",
       "    }\n",
       "</style>\n",
       "<table border=\"1\" class=\"dataframe\">\n",
       "  <thead>\n",
       "    <tr style=\"text-align: right;\">\n",
       "      <th></th>\n",
       "      <th>fill</th>\n",
       "    </tr>\n",
       "    <tr>\n",
       "      <th>id</th>\n",
       "      <th></th>\n",
       "    </tr>\n",
       "  </thead>\n",
       "  <tbody>\n",
       "    <tr>\n",
       "      <th></th>\n",
       "      <td>gray</td>\n",
       "    </tr>\n",
       "    <tr>\n",
       "      <th>.CTLHP3_0</th>\n",
       "      <td>gray</td>\n",
       "    </tr>\n",
       "    <tr>\n",
       "      <th>.CTLHP3_1</th>\n",
       "      <td>gray</td>\n",
       "    </tr>\n",
       "    <tr>\n",
       "      <th>A.ADOP3_0</th>\n",
       "      <td>#77b394</td>\n",
       "    </tr>\n",
       "    <tr>\n",
       "      <th>A.COMP6_0</th>\n",
       "      <td>#5cd6b1</td>\n",
       "    </tr>\n",
       "    <tr>\n",
       "      <th>...</th>\n",
       "      <td>...</td>\n",
       "    </tr>\n",
       "    <tr>\n",
       "      <th>VOUZIP3_0</th>\n",
       "      <td>#5bd9b3</td>\n",
       "    </tr>\n",
       "    <tr>\n",
       "      <th>VOVESP4_0</th>\n",
       "      <td>#5bd9b3</td>\n",
       "    </tr>\n",
       "    <tr>\n",
       "      <th>WALDIP3_0</th>\n",
       "      <td>#899b80</td>\n",
       "    </tr>\n",
       "    <tr>\n",
       "      <th>YQUELP4_0</th>\n",
       "      <td>#ee1512</td>\n",
       "    </tr>\n",
       "    <tr>\n",
       "      <th>YZEURP3_0</th>\n",
       "      <td>#5bd9b3</td>\n",
       "    </tr>\n",
       "  </tbody>\n",
       "</table>\n",
       "<p>1260 rows × 1 columns</p>\n",
       "</div>"
      ],
      "text/plain": [
       "              fill\n",
       "id                \n",
       "              gray\n",
       ".CTLHP3_0     gray\n",
       ".CTLHP3_1     gray\n",
       "A.ADOP3_0  #77b394\n",
       "A.COMP6_0  #5cd6b1\n",
       "...            ...\n",
       "VOUZIP3_0  #5bd9b3\n",
       "VOVESP4_0  #5bd9b3\n",
       "WALDIP3_0  #899b80\n",
       "YQUELP4_0  #ee1512\n",
       "YZEURP3_0  #5bd9b3\n",
       "\n",
       "[1260 rows x 1 columns]"
      ]
     },
     "execution_count": 11,
     "metadata": {},
     "output_type": "execute_result"
    }
   ],
   "source": [
    "color = gens['dv_idx'].apply(lambda idx: 'gray' if idx == -1 else style_df['hex_color'].iloc[idx])\n",
    "width = gens['dv_idx'].apply(lambda idx: '1px' if idx == -1 else style_df['width'].iloc[idx])\n",
    "bus_nodes_styles_df = pd.DataFrame({\n",
    "    'fill': color\n",
    "})\n",
    "bus_nodes_styles_df.index.name = 'id'\n",
    "bus_nodes_styles_df"
   ]
  },
  {
   "cell_type": "markdown",
   "id": "bee7250d-533b-4da2-8e61-3028c9b0b3d5",
   "metadata": {},
   "source": [
    "- overriding the bus description to see only the calculated v"
   ]
  },
  {
   "cell_type": "code",
   "execution_count": 12,
   "id": "849e0130-de34-4a13-b4d0-cf58ac2fafe4",
   "metadata": {},
   "outputs": [],
   "source": [
    "bus_descriptions_df = pd.DataFrame({\n",
    "    'description': bus_v['v_mag'].apply(lambda x: f\"{x:.3f}kV\")\n",
    "})"
   ]
  },
  {
   "cell_type": "markdown",
   "id": "450c9ba7-b1e6-49f5-a0cf-616dd2b2394f",
   "metadata": {},
   "source": [
    "- remove unneeded branch labels and voltage level descriptions"
   ]
  },
  {
   "cell_type": "code",
   "execution_count": 13,
   "id": "90bd36ec-35d1-415c-aff4-30dbd5ec3b9f",
   "metadata": {},
   "outputs": [],
   "source": [
    "vl_descriptions_df = default_pf.vl_descriptions[default_pf.vl_descriptions['type'] != 'FOOTER']\n",
    "labels_df = pd.DataFrame()"
   ]
  },
  {
   "cell_type": "markdown",
   "id": "623a63fe-42c7-4453-b4b5-6a05065d0b72",
   "metadata": {},
   "source": [
    "- creating the custom NAD style profile"
   ]
  },
  {
   "cell_type": "code",
   "execution_count": 14,
   "id": "eec40076-b930-478a-894f-ab6606463ac1",
   "metadata": {},
   "outputs": [],
   "source": [
    "diagram_profile=pn.NadProfile(branch_labels=labels_df, vl_descriptions=vl_descriptions_df, bus_descriptions=bus_descriptions_df,\n",
    "                                      bus_node_styles=bus_nodes_styles_df, edge_styles=default_pf.edge_styles)"
   ]
  },
  {
   "cell_type": "markdown",
   "id": "905ebb56-222a-4252-9d80-2355aa7e0e07",
   "metadata": {},
   "source": [
    "#### 5. Display the results!"
   ]
  },
  {
   "cell_type": "markdown",
   "id": "b29fdf6d-8349-4a81-a532-c250e04d9c68",
   "metadata": {
    "jp-MarkdownHeadingCollapsed": true
   },
   "source": [
    "##### _Load the fixed nad positions_"
   ]
  },
  {
   "cell_type": "code",
   "execution_count": 15,
   "id": "41e9ed58-53ff-4d21-bc98-98c9a9a8bb35",
   "metadata": {},
   "outputs": [],
   "source": [
    "metadata = pd.read_json('/home/dupuyflo/Documents/LFE_2025/france_metadata.json')\n",
    "fixed_positions = pd.DataFrame({\n",
    "    \"id\": metadata[\"equipmentId\"],\n",
    "    \"x\": metadata[\"x\"],\n",
    "    \"y\": metadata[\"y\"]\n",
    "})\n",
    "fixed_positions.set_index('id', drop=True, inplace=True)"
   ]
  },
  {
   "cell_type": "markdown",
   "id": "0031bb3d-9c87-4b21-8eca-9a19941ee9d2",
   "metadata": {
    "jp-MarkdownHeadingCollapsed": true
   },
   "source": [
    "##### _Construct a colorbar to display the color legend_"
   ]
  },
  {
   "cell_type": "code",
   "execution_count": 16,
   "id": "2ae14cbf-ee37-4a11-956b-0e2b1e778844",
   "metadata": {},
   "outputs": [],
   "source": [
    "import matplotlib.pyplot as plt\n",
    "from matplotlib.colors import ListedColormap, Normalize\n",
    "from matplotlib.cm import ScalarMappable\n",
    "from matplotlib.patches import Patch\n",
    "\n",
    "def display_legend(max_value):\n",
    "    cmap = ListedColormap(style_df[\"hex_color\"].tolist())\n",
    "    norm = Normalize(vmin=0.0, vmax=max_value)\n",
    "    \n",
    "    fig, ax = plt.subplots(figsize=(6, 1.2))\n",
    "    fig.subplots_adjust(bottom=0.5)\n",
    "    \n",
    "    sm = ScalarMappable(norm=norm, cmap=cmap)\n",
    "    sm.set_array([])  # required for older matplotlib\n",
    "\n",
    "    cbar = plt.colorbar(sm, ax=ax, orientation=\"horizontal\", fraction=0.3, pad=0.25)\n",
    "    cbar.set_label(\"|delta_v|\")\n",
    "\n",
    "    tick_vals = np.linspace(0, max_value, 5)\n",
    "    cbar.set_ticks(tick_vals)\n",
    "    cbar.set_ticklabels([f\"{v*1e3:.2f} V\" for v in tick_vals])  # convert kV -> V for readability\n",
    "\n",
    "    ax.axis(\"off\")\n",
    "\n",
    "    ax.legend(handles=[Patch(facecolor=\"gray\", edgecolor=\"none\", label=\"NaN / unavailable\")],\n",
    "              loc=\"upper center\", bbox_to_anchor=(0.5, 1.6), ncol=1, frameon=False)\n",
    "\n",
    "    plt.show()"
   ]
  },
  {
   "cell_type": "markdown",
   "id": "dbc652c1-4e8f-4af1-b7a3-b096f4c8a472",
   "metadata": {
    "jp-MarkdownHeadingCollapsed": true
   },
   "source": [
    "##### _Display the widget_"
   ]
  },
  {
   "cell_type": "code",
   "execution_count": 17,
   "id": "5750fc1c-c2a7-4e30-8b8d-236d59e0efd7",
   "metadata": {},
   "outputs": [
    {
     "data": {
      "image/png": "[encoded data removed]",
      "text/plain": [
       "<Figure size 600x120 with 2 Axes>"
      ]
     },
     "metadata": {},
     "output_type": "display_data"
    },
    {
     "data": {
      "application/vnd.jupyter.widget-view+json": {
       "model_id": "138314c04b4141e1b1ab40a654197fe9",
       "version_major": 2,
       "version_minor": 0
      },
      "text/plain": [
       "HBox(children=(VBox(children=(Label(value='Voltage levels'), VBox(children=(Text(value='', description='Filter…"
      ]
     },
     "execution_count": 17,
     "metadata": {},
     "output_type": "execute_result"
    }
   ],
   "source": [
    "from pypowsybl_jupyter import network_explorer\n",
    "\n",
    "display_legend(red_value_legend)\n",
    "network_explorer(network, depth=2, vl_id='PERIEP4', nad_profile=diagram_profile, fixed_nad_positions=fixed_positions, nad_parameters=pn.NadParameters(injections_added=True))"
   ]
  }
 ],
 "metadata": {
  "kernelspec": {
   "display_name": "Python 3 (ipykernel)",
   "language": "python",
   "name": "python3"
  },
  "language_info": {
   "codemirror_mode": {
    "name": "ipython",
    "version": 3
   },
   "file_extension": ".py",
   "mimetype": "text/x-python",
   "name": "python",
   "nbconvert_exporter": "python",
   "pygments_lexer": "ipython3",
   "version": "3.10.12"
  }
 },
 "nbformat": 4,
 "nbformat_minor": 5
}
