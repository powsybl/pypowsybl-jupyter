{
 "cells": [
  {
   "cell_type": "code",
   "execution_count": 1,
   "id": "80b8715a-0302-4e38-9cb7-5b2ca93447b1",
   "metadata": {
    "ExecuteTime": {
     "end_time": "2025-09-09T15:20:27.240991Z",
     "start_time": "2025-09-09T15:20:26.462571Z"
    }
   },
   "outputs": [],
   "source": [
    "import pypowsybl.network as pn\n",
    "network1 = pn.load('/home/dupuyflo/Data/LFE_2025/fr_1850.biidm')\n",
    "network2 = pn.load('/home/dupuyflo/Data/LFE_2025/fr_1900.biidm')"
   ]
  },
  {
   "cell_type": "code",
   "execution_count": 2,
   "id": "8aaf8d97-e530-40c3-88ce-af66cb8c701a",
   "metadata": {
    "ExecuteTime": {
     "end_time": "2025-09-09T15:20:48.856185Z",
     "start_time": "2025-09-09T15:20:48.297641Z"
    }
   },
   "outputs": [
    {
     "data": {
      "text/plain": [
       "[ComponentResult(connected_component_num=0, synchronous_component_num=0, status=CONVERGED, status_text=Converged, iteration_count=7, reference_bus_id='CHAFFP7_0', slack_bus_results=[SlackBusResult(id='CHAFFP7_0', active_power_mismatch=-0.5088339270259201)], distributed_active_power=28.570841706134765)]"
      ]
     },
     "execution_count": 2,
     "metadata": {},
     "output_type": "execute_result"
    }
   ],
   "source": [
    "import pypowsybl.loadflow as lf\n",
    "lf.run_ac(network1)"
   ]
  },
  {
   "cell_type": "code",
   "execution_count": 3,
   "id": "81c593c2eea322f4",
   "metadata": {
    "ExecuteTime": {
     "end_time": "2025-09-09T15:20:57.193785Z",
     "start_time": "2025-09-09T15:20:56.731289Z"
    }
   },
   "outputs": [
    {
     "data": {
      "text/plain": [
       "[ComponentResult(connected_component_num=0, synchronous_component_num=0, status=CONVERGED, status_text=Converged, iteration_count=7, reference_bus_id='CHAFFP7_0', slack_bus_results=[SlackBusResult(id='CHAFFP7_0', active_power_mismatch=-0.5743598570195352)], distributed_active_power=28.229321211999693)]"
      ]
     },
     "execution_count": 3,
     "metadata": {},
     "output_type": "execute_result"
    }
   ],
   "source": [
    "lf.run_ac(network2)"
   ]
  },
  {
   "cell_type": "code",
   "execution_count": 4,
   "id": "7097ac23-42a7-490a-9149-8cd6dab5bb4e",
   "metadata": {
    "ExecuteTime": {
     "end_time": "2025-09-09T15:21:15.917968Z",
     "start_time": "2025-09-09T15:21:14.733321Z"
    }
   },
   "outputs": [
    {
     "data": {
      "application/vnd.jupyter.widget-view+json": {
       "model_id": "a3a6834d2928457a921cef4c6e04b1a7",
       "version_major": 2,
       "version_minor": 0
      },
      "text/plain": [
       "HBox(children=(VBox(children=(Label(value='Voltage levels'), VBox(children=(Text(value='', description='Filter…"
      ]
     },
     "execution_count": 4,
     "metadata": {},
     "output_type": "execute_result"
    }
   ],
   "source": [
    "from pypowsybl_jupyter import network_explorer\n",
    "network_explorer(network1, depth=2, vl_id='STRASP3', nad_parameters=pn.NadParameters(injections_added=True))"
   ]
  },
  {
   "cell_type": "code",
   "execution_count": 5,
   "id": "5a52b0b6-319d-4ccd-a360-085dafae7997",
   "metadata": {
    "ExecuteTime": {
     "end_time": "2025-09-09T15:43:18.105434Z",
     "start_time": "2025-09-09T15:43:18.091332Z"
    }
   },
   "outputs": [
    {
     "data": {
      "text/html": [
       "<div>\n",
       "<style scoped>\n",
       "    .dataframe tbody tr th:only-of-type {\n",
       "        vertical-align: middle;\n",
       "    }\n",
       "\n",
       "    .dataframe tbody tr th {\n",
       "        vertical-align: top;\n",
       "    }\n",
       "\n",
       "    .dataframe thead th {\n",
       "        text-align: right;\n",
       "    }\n",
       "</style>\n",
       "<table border=\"1\" class=\"dataframe\">\n",
       "  <thead>\n",
       "    <tr style=\"text-align: right;\">\n",
       "      <th></th>\n",
       "      <th>p1</th>\n",
       "      <th>p2</th>\n",
       "    </tr>\n",
       "    <tr>\n",
       "      <th>id</th>\n",
       "      <th></th>\n",
       "      <th></th>\n",
       "    </tr>\n",
       "  </thead>\n",
       "  <tbody>\n",
       "    <tr>\n",
       "      <th>.CTLHL31.CTLO</th>\n",
       "      <td>NaN</td>\n",
       "      <td>NaN</td>\n",
       "    </tr>\n",
       "    <tr>\n",
       "      <th>.CTLHL32.CTLO</th>\n",
       "      <td>NaN</td>\n",
       "      <td>NaN</td>\n",
       "    </tr>\n",
       "    <tr>\n",
       "      <th>.CTLOL31FINS</th>\n",
       "      <td>10.099362</td>\n",
       "      <td>-10.044028</td>\n",
       "    </tr>\n",
       "    <tr>\n",
       "      <th>.CTLOL31ZLIEB</th>\n",
       "      <td>-10.099362</td>\n",
       "      <td>10.199464</td>\n",
       "    </tr>\n",
       "    <tr>\n",
       "      <th>.G.ROL51HOSPI</th>\n",
       "      <td>0.000000</td>\n",
       "      <td>0.000023</td>\n",
       "    </tr>\n",
       "    <tr>\n",
       "      <th>...</th>\n",
       "      <td>...</td>\n",
       "      <td>...</td>\n",
       "    </tr>\n",
       "    <tr>\n",
       "      <th>WARANY763</th>\n",
       "      <td>-244.487931</td>\n",
       "      <td>244.680044</td>\n",
       "    </tr>\n",
       "    <tr>\n",
       "      <th>WARANY764</th>\n",
       "      <td>-237.615525</td>\n",
       "      <td>237.793333</td>\n",
       "    </tr>\n",
       "    <tr>\n",
       "      <th>WEPPEY761</th>\n",
       "      <td>-203.338081</td>\n",
       "      <td>203.466271</td>\n",
       "    </tr>\n",
       "    <tr>\n",
       "      <th>WEPPEY762</th>\n",
       "      <td>-204.364961</td>\n",
       "      <td>204.489277</td>\n",
       "    </tr>\n",
       "    <tr>\n",
       "      <th>YAINVY642</th>\n",
       "      <td>-42.808819</td>\n",
       "      <td>42.857905</td>\n",
       "    </tr>\n",
       "  </tbody>\n",
       "</table>\n",
       "<p>9406 rows × 2 columns</p>\n",
       "</div>"
      ],
      "text/plain": [
       "                       p1          p2\n",
       "id                                   \n",
       ".CTLHL31.CTLO         NaN         NaN\n",
       ".CTLHL32.CTLO         NaN         NaN\n",
       ".CTLOL31FINS    10.099362  -10.044028\n",
       ".CTLOL31ZLIEB  -10.099362   10.199464\n",
       ".G.ROL51HOSPI    0.000000    0.000023\n",
       "...                   ...         ...\n",
       "WARANY763     -244.487931  244.680044\n",
       "WARANY764     -237.615525  237.793333\n",
       "WEPPEY761     -203.338081  203.466271\n",
       "WEPPEY762     -204.364961  204.489277\n",
       "YAINVY642      -42.808819   42.857905\n",
       "\n",
       "[9406 rows x 2 columns]"
      ]
     },
     "execution_count": 5,
     "metadata": {},
     "output_type": "execute_result"
    }
   ],
   "source": [
    "branches1 = network1.get_branches(attributes=['p1', 'p2'])\n",
    "branches1"
   ]
  },
  {
   "cell_type": "code",
   "execution_count": 6,
   "id": "db932a7729198d18",
   "metadata": {
    "ExecuteTime": {
     "end_time": "2025-09-09T15:46:18.732820Z",
     "start_time": "2025-09-09T15:46:18.715972Z"
    }
   },
   "outputs": [
    {
     "data": {
      "text/html": [
       "<div>\n",
       "<style scoped>\n",
       "    .dataframe tbody tr th:only-of-type {\n",
       "        vertical-align: middle;\n",
       "    }\n",
       "\n",
       "    .dataframe tbody tr th {\n",
       "        vertical-align: top;\n",
       "    }\n",
       "\n",
       "    .dataframe thead th {\n",
       "        text-align: right;\n",
       "    }\n",
       "</style>\n",
       "<table border=\"1\" class=\"dataframe\">\n",
       "  <thead>\n",
       "    <tr style=\"text-align: right;\">\n",
       "      <th></th>\n",
       "      <th>p1</th>\n",
       "      <th>p2</th>\n",
       "    </tr>\n",
       "    <tr>\n",
       "      <th>id</th>\n",
       "      <th></th>\n",
       "      <th></th>\n",
       "    </tr>\n",
       "  </thead>\n",
       "  <tbody>\n",
       "    <tr>\n",
       "      <th>.CTLHL31.CTLO</th>\n",
       "      <td>NaN</td>\n",
       "      <td>NaN</td>\n",
       "    </tr>\n",
       "    <tr>\n",
       "      <th>.CTLHL32.CTLO</th>\n",
       "      <td>NaN</td>\n",
       "      <td>NaN</td>\n",
       "    </tr>\n",
       "    <tr>\n",
       "      <th>.CTLOL31FINS</th>\n",
       "      <td>10.510379</td>\n",
       "      <td>-10.450125</td>\n",
       "    </tr>\n",
       "    <tr>\n",
       "      <th>.CTLOL31ZLIEB</th>\n",
       "      <td>-10.510379</td>\n",
       "      <td>10.619313</td>\n",
       "    </tr>\n",
       "    <tr>\n",
       "      <th>.G.ROL51HOSPI</th>\n",
       "      <td>0.000000</td>\n",
       "      <td>0.000023</td>\n",
       "    </tr>\n",
       "    <tr>\n",
       "      <th>...</th>\n",
       "      <td>...</td>\n",
       "      <td>...</td>\n",
       "    </tr>\n",
       "    <tr>\n",
       "      <th>WARANY763</th>\n",
       "      <td>-249.333843</td>\n",
       "      <td>249.532736</td>\n",
       "    </tr>\n",
       "    <tr>\n",
       "      <th>WARANY764</th>\n",
       "      <td>-242.326396</td>\n",
       "      <td>242.510478</td>\n",
       "    </tr>\n",
       "    <tr>\n",
       "      <th>WEPPEY761</th>\n",
       "      <td>-207.645618</td>\n",
       "      <td>207.778965</td>\n",
       "    </tr>\n",
       "    <tr>\n",
       "      <th>WEPPEY762</th>\n",
       "      <td>-208.694880</td>\n",
       "      <td>208.824197</td>\n",
       "    </tr>\n",
       "    <tr>\n",
       "      <th>YAINVY642</th>\n",
       "      <td>-43.118500</td>\n",
       "      <td>43.168120</td>\n",
       "    </tr>\n",
       "  </tbody>\n",
       "</table>\n",
       "<p>9406 rows × 2 columns</p>\n",
       "</div>"
      ],
      "text/plain": [
       "                       p1          p2\n",
       "id                                   \n",
       ".CTLHL31.CTLO         NaN         NaN\n",
       ".CTLHL32.CTLO         NaN         NaN\n",
       ".CTLOL31FINS    10.510379  -10.450125\n",
       ".CTLOL31ZLIEB  -10.510379   10.619313\n",
       ".G.ROL51HOSPI    0.000000    0.000023\n",
       "...                   ...         ...\n",
       "WARANY763     -249.333843  249.532736\n",
       "WARANY764     -242.326396  242.510478\n",
       "WEPPEY761     -207.645618  207.778965\n",
       "WEPPEY762     -208.694880  208.824197\n",
       "YAINVY642      -43.118500   43.168120\n",
       "\n",
       "[9406 rows x 2 columns]"
      ]
     },
     "execution_count": 6,
     "metadata": {},
     "output_type": "execute_result"
    }
   ],
   "source": [
    "branches2 = network2.get_branches(attributes=['p1', 'p2'])\n",
    "branches2"
   ]
  },
  {
   "cell_type": "code",
   "id": "e813d894-e96c-401d-8953-12071854777b",
   "metadata": {
    "ExecuteTime": {
     "end_time": "2025-09-09T17:10:49.380629Z",
     "start_time": "2025-09-09T17:10:49.362760Z"
    }
   },
   "source": [
    "import pandas as pd\n",
    "delta_p = pd.DataFrame()\n",
    "branches1.fillna(0, inplace=True)\n",
    "branches2.fillna(0, inplace=True)\n",
    "delta_p['delta_p1'] = abs(branches2['p1']) - abs(branches1['p1'])\n",
    "delta_p['delta_p2'] = abs(branches2['p2']) - abs(branches1['p2'])\n",
    "delta_p"
   ],
   "outputs": [
    {
     "data": {
      "text/plain": [
       "               delta_p1      delta_p2\n",
       "id                                   \n",
       ".CTLHL31.CTLO  0.000000  0.000000e+00\n",
       ".CTLHL32.CTLO  0.000000  0.000000e+00\n",
       ".CTLOL31FINS   0.411016  4.060968e-01\n",
       ".CTLOL31ZLIEB  0.411016  4.198489e-01\n",
       ".G.ROL51HOSPI  0.000000  1.137859e-08\n",
       "...                 ...           ...\n",
       "WARANY763      4.845912  4.852692e+00\n",
       "WARANY764      4.710871  4.717146e+00\n",
       "WEPPEY761      4.307537  4.312694e+00\n",
       "WEPPEY762      4.329918  4.334920e+00\n",
       "YAINVY642      0.309681  3.102156e-01\n",
       "\n",
       "[9406 rows x 2 columns]"
      ],
      "text/html": [
       "<div>\n",
       "<style scoped>\n",
       "    .dataframe tbody tr th:only-of-type {\n",
       "        vertical-align: middle;\n",
       "    }\n",
       "\n",
       "    .dataframe tbody tr th {\n",
       "        vertical-align: top;\n",
       "    }\n",
       "\n",
       "    .dataframe thead th {\n",
       "        text-align: right;\n",
       "    }\n",
       "</style>\n",
       "<table border=\"1\" class=\"dataframe\">\n",
       "  <thead>\n",
       "    <tr style=\"text-align: right;\">\n",
       "      <th></th>\n",
       "      <th>delta_p1</th>\n",
       "      <th>delta_p2</th>\n",
       "    </tr>\n",
       "    <tr>\n",
       "      <th>id</th>\n",
       "      <th></th>\n",
       "      <th></th>\n",
       "    </tr>\n",
       "  </thead>\n",
       "  <tbody>\n",
       "    <tr>\n",
       "      <th>.CTLHL31.CTLO</th>\n",
       "      <td>0.000000</td>\n",
       "      <td>0.000000e+00</td>\n",
       "    </tr>\n",
       "    <tr>\n",
       "      <th>.CTLHL32.CTLO</th>\n",
       "      <td>0.000000</td>\n",
       "      <td>0.000000e+00</td>\n",
       "    </tr>\n",
       "    <tr>\n",
       "      <th>.CTLOL31FINS</th>\n",
       "      <td>0.411016</td>\n",
       "      <td>4.060968e-01</td>\n",
       "    </tr>\n",
       "    <tr>\n",
       "      <th>.CTLOL31ZLIEB</th>\n",
       "      <td>0.411016</td>\n",
       "      <td>4.198489e-01</td>\n",
       "    </tr>\n",
       "    <tr>\n",
       "      <th>.G.ROL51HOSPI</th>\n",
       "      <td>0.000000</td>\n",
       "      <td>1.137859e-08</td>\n",
       "    </tr>\n",
       "    <tr>\n",
       "      <th>...</th>\n",
       "      <td>...</td>\n",
       "      <td>...</td>\n",
       "    </tr>\n",
       "    <tr>\n",
       "      <th>WARANY763</th>\n",
       "      <td>4.845912</td>\n",
       "      <td>4.852692e+00</td>\n",
       "    </tr>\n",
       "    <tr>\n",
       "      <th>WARANY764</th>\n",
       "      <td>4.710871</td>\n",
       "      <td>4.717146e+00</td>\n",
       "    </tr>\n",
       "    <tr>\n",
       "      <th>WEPPEY761</th>\n",
       "      <td>4.307537</td>\n",
       "      <td>4.312694e+00</td>\n",
       "    </tr>\n",
       "    <tr>\n",
       "      <th>WEPPEY762</th>\n",
       "      <td>4.329918</td>\n",
       "      <td>4.334920e+00</td>\n",
       "    </tr>\n",
       "    <tr>\n",
       "      <th>YAINVY642</th>\n",
       "      <td>0.309681</td>\n",
       "      <td>3.102156e-01</td>\n",
       "    </tr>\n",
       "  </tbody>\n",
       "</table>\n",
       "<p>9406 rows × 2 columns</p>\n",
       "</div>"
      ]
     },
     "execution_count": 61,
     "metadata": {},
     "output_type": "execute_result"
    }
   ],
   "execution_count": 61
  },
  {
   "cell_type": "code",
   "id": "93b3ede4f62cadce",
   "metadata": {
    "ExecuteTime": {
     "end_time": "2025-09-09T17:10:50.025436Z",
     "start_time": "2025-09-09T17:10:50.020846Z"
    }
   },
   "source": [
    "delta_p['delta_p1'].min(), delta_p['delta_p1'].max()"
   ],
   "outputs": [
    {
     "data": {
      "text/plain": [
       "(np.float64(-69.88298216782897), np.float64(103.24684411231583))"
      ]
     },
     "execution_count": 62,
     "metadata": {},
     "output_type": "execute_result"
    }
   ],
   "execution_count": 62
  },
  {
   "cell_type": "code",
   "id": "2f826c56-0485-4e32-a091-342b221ae40e",
   "metadata": {
    "ExecuteTime": {
     "end_time": "2025-09-09T17:10:51.321545Z",
     "start_time": "2025-09-09T17:10:51.310469Z"
    }
   },
   "source": [
    "max_row = delta_p.loc[delta_p['delta_p1'].idxmax()]\n",
    "max_row"
   ],
   "outputs": [
    {
     "data": {
      "text/plain": [
       "delta_p1    103.246844\n",
       "delta_p2    103.159368\n",
       "Name: MOUGUL61TARN5, dtype: float64"
      ]
     },
     "execution_count": 63,
     "metadata": {},
     "output_type": "execute_result"
    }
   ],
   "execution_count": 63
  },
  {
   "cell_type": "code",
   "id": "1161301a575cb6da",
   "metadata": {
    "ExecuteTime": {
     "end_time": "2025-09-09T22:14:54.143804Z",
     "start_time": "2025-09-09T22:14:53.866697Z"
    }
   },
   "source": [
    "import numpy as np\n",
    "import pandas as pd\n",
    "\n",
    "def create_style_bigradient(n_colors: int = 101) -> pd.DataFrame:\n",
    "    center = (n_colors - 1) // 2\n",
    "\n",
    "    colors = np.empty(n_colors, dtype='<U7')\n",
    "    colors[:center-2] = '#0000ff'\n",
    "    colors[center-2:center+2] = 'gray'\n",
    "    colors[center+3:] = '#ff0000'\n",
    "\n",
    "    width_neg = np.linspace(50, 1, center)                   # indices 0..49\n",
    "    width_zero = np.array([1.0])                           # index 50\n",
    "    width_pos = np.linspace(1, 50, center)                   # indices 51..100\n",
    "    width_num = np.concatenate([width_neg, width_zero, width_pos])\n",
    "    width = np.char.add(width_num.astype(int).astype(str), 'px')\n",
    "\n",
    "    return pd.DataFrame({'hex_color': colors, 'width': width})\n",
    "\n",
    "def map_index(value: float, n_colors: int)  -> int:\n",
    "    center = (n_colors - 1) // 2\n",
    "    v = float(np.clip(value, -50.0, 50.0))\n",
    "    if v < 0:\n",
    "        return int(round((center - 1) * (1 - abs(v) / 50.0)))\n",
    "    if v > 0:\n",
    "        return int(round(center + (center * (v / 50.0))))\n",
    "    return center\n",
    "\n",
    "gradient_size = 101\n",
    "style = create_style_bigradient(gradient_size)\n",
    "idx = pd.DataFrame({\n",
    "    'idx_1': delta_p['delta_p1'].apply(lambda x: map_index(x, gradient_size)),\n",
    "    'idx_2': delta_p['delta_p2'].apply(lambda x: map_index(x, gradient_size)),\n",
    "})\n",
    "\n",
    "edges_styles_df = pd.DataFrame({\n",
    "    'edge1': idx['idx_1'].apply(lambda idx: style['hex_color'].iloc[idx]),\n",
    "    'edge2': idx['idx_2'].apply(lambda idx: style['hex_color'].iloc[idx]),\n",
    "    'width1': idx['idx_1'].apply(lambda idx: style['width'].iloc[idx]),\n",
    "    'width2': idx['idx_2'].apply(lambda idx: style['width'].iloc[idx]),\n",
    "})\n",
    "edges_styles_df"
   ],
   "outputs": [
    {
     "data": {
      "text/plain": [
       "                 edge1    edge2 width1 width2\n",
       "id                                           \n",
       ".CTLHL31.CTLO     gray     gray    1px    1px\n",
       ".CTLHL32.CTLO     gray     gray    1px    1px\n",
       ".CTLOL31FINS      gray     gray    1px    1px\n",
       ".CTLOL31ZLIEB     gray     gray    1px    1px\n",
       ".G.ROL51HOSPI     gray     gray    1px    1px\n",
       "...                ...      ...    ...    ...\n",
       "WARANY763      #ff0000  #ff0000    5px    5px\n",
       "WARANY764      #ff0000  #ff0000    5px    5px\n",
       "WEPPEY761      #ff0000  #ff0000    4px    4px\n",
       "WEPPEY762      #ff0000  #ff0000    4px    4px\n",
       "YAINVY642         gray     gray    1px    1px\n",
       "\n",
       "[9406 rows x 4 columns]"
      ],
      "text/html": [
       "<div>\n",
       "<style scoped>\n",
       "    .dataframe tbody tr th:only-of-type {\n",
       "        vertical-align: middle;\n",
       "    }\n",
       "\n",
       "    .dataframe tbody tr th {\n",
       "        vertical-align: top;\n",
       "    }\n",
       "\n",
       "    .dataframe thead th {\n",
       "        text-align: right;\n",
       "    }\n",
       "</style>\n",
       "<table border=\"1\" class=\"dataframe\">\n",
       "  <thead>\n",
       "    <tr style=\"text-align: right;\">\n",
       "      <th></th>\n",
       "      <th>edge1</th>\n",
       "      <th>edge2</th>\n",
       "      <th>width1</th>\n",
       "      <th>width2</th>\n",
       "    </tr>\n",
       "    <tr>\n",
       "      <th>id</th>\n",
       "      <th></th>\n",
       "      <th></th>\n",
       "      <th></th>\n",
       "      <th></th>\n",
       "    </tr>\n",
       "  </thead>\n",
       "  <tbody>\n",
       "    <tr>\n",
       "      <th>.CTLHL31.CTLO</th>\n",
       "      <td>gray</td>\n",
       "      <td>gray</td>\n",
       "      <td>1px</td>\n",
       "      <td>1px</td>\n",
       "    </tr>\n",
       "    <tr>\n",
       "      <th>.CTLHL32.CTLO</th>\n",
       "      <td>gray</td>\n",
       "      <td>gray</td>\n",
       "      <td>1px</td>\n",
       "      <td>1px</td>\n",
       "    </tr>\n",
       "    <tr>\n",
       "      <th>.CTLOL31FINS</th>\n",
       "      <td>gray</td>\n",
       "      <td>gray</td>\n",
       "      <td>1px</td>\n",
       "      <td>1px</td>\n",
       "    </tr>\n",
       "    <tr>\n",
       "      <th>.CTLOL31ZLIEB</th>\n",
       "      <td>gray</td>\n",
       "      <td>gray</td>\n",
       "      <td>1px</td>\n",
       "      <td>1px</td>\n",
       "    </tr>\n",
       "    <tr>\n",
       "      <th>.G.ROL51HOSPI</th>\n",
       "      <td>gray</td>\n",
       "      <td>gray</td>\n",
       "      <td>1px</td>\n",
       "      <td>1px</td>\n",
       "    </tr>\n",
       "    <tr>\n",
       "      <th>...</th>\n",
       "      <td>...</td>\n",
       "      <td>...</td>\n",
       "      <td>...</td>\n",
       "      <td>...</td>\n",
       "    </tr>\n",
       "    <tr>\n",
       "      <th>WARANY763</th>\n",
       "      <td>#ff0000</td>\n",
       "      <td>#ff0000</td>\n",
       "      <td>5px</td>\n",
       "      <td>5px</td>\n",
       "    </tr>\n",
       "    <tr>\n",
       "      <th>WARANY764</th>\n",
       "      <td>#ff0000</td>\n",
       "      <td>#ff0000</td>\n",
       "      <td>5px</td>\n",
       "      <td>5px</td>\n",
       "    </tr>\n",
       "    <tr>\n",
       "      <th>WEPPEY761</th>\n",
       "      <td>#ff0000</td>\n",
       "      <td>#ff0000</td>\n",
       "      <td>4px</td>\n",
       "      <td>4px</td>\n",
       "    </tr>\n",
       "    <tr>\n",
       "      <th>WEPPEY762</th>\n",
       "      <td>#ff0000</td>\n",
       "      <td>#ff0000</td>\n",
       "      <td>4px</td>\n",
       "      <td>4px</td>\n",
       "    </tr>\n",
       "    <tr>\n",
       "      <th>YAINVY642</th>\n",
       "      <td>gray</td>\n",
       "      <td>gray</td>\n",
       "      <td>1px</td>\n",
       "      <td>1px</td>\n",
       "    </tr>\n",
       "  </tbody>\n",
       "</table>\n",
       "<p>9406 rows × 4 columns</p>\n",
       "</div>"
      ]
     },
     "execution_count": 88,
     "metadata": {},
     "output_type": "execute_result"
    }
   ],
   "execution_count": 88
  },
  {
   "cell_type": "code",
   "id": "9599e349-07f6-497b-a27f-66416f3fc2b7",
   "metadata": {
    "ExecuteTime": {
     "end_time": "2025-09-09T22:14:54.436748Z",
     "start_time": "2025-09-09T22:14:54.417587Z"
    }
   },
   "source": [
    "metadata = pd.read_json('/home/dupuyflo/Documents/LFE_2025/france_metadata.json')\n",
    "fixed_positions = pd.DataFrame({\n",
    "    \"id\": metadata[\"equipmentId\"],\n",
    "    \"x\": metadata[\"x\"],\n",
    "    \"y\": metadata[\"y\"]\n",
    "})\n",
    "fixed_positions.set_index('id', drop=True, inplace=True)\n",
    "fixed_positions"
   ],
   "outputs": [
    {
     "data": {
      "text/plain": [
       "                      x          y\n",
       "id                                \n",
       ".CTLHP3        21643.45 -140477.91\n",
       ".CTLOP3        22073.05 -140487.02\n",
       ".G.ROP5         3716.32 -122101.20\n",
       ".G.ROP6         3723.98 -121206.74\n",
       ".NAVAP3        28524.29 -127163.51\n",
       "...                 ...        ...\n",
       ".ENSDL71VIGY   18020.45 -149029.21\n",
       ".ENSDL72VIGY   17480.23 -149366.71\n",
       ".VENAL71VLARO  19278.83 -132401.36\n",
       ".EICHL61VOGEL  24167.06 -144544.95\n",
       ".CAMPL61ZMENT  24097.45 -125158.24\n",
       "\n",
       "[5828 rows x 2 columns]"
      ],
      "text/html": [
       "<div>\n",
       "<style scoped>\n",
       "    .dataframe tbody tr th:only-of-type {\n",
       "        vertical-align: middle;\n",
       "    }\n",
       "\n",
       "    .dataframe tbody tr th {\n",
       "        vertical-align: top;\n",
       "    }\n",
       "\n",
       "    .dataframe thead th {\n",
       "        text-align: right;\n",
       "    }\n",
       "</style>\n",
       "<table border=\"1\" class=\"dataframe\">\n",
       "  <thead>\n",
       "    <tr style=\"text-align: right;\">\n",
       "      <th></th>\n",
       "      <th>x</th>\n",
       "      <th>y</th>\n",
       "    </tr>\n",
       "    <tr>\n",
       "      <th>id</th>\n",
       "      <th></th>\n",
       "      <th></th>\n",
       "    </tr>\n",
       "  </thead>\n",
       "  <tbody>\n",
       "    <tr>\n",
       "      <th>.CTLHP3</th>\n",
       "      <td>21643.45</td>\n",
       "      <td>-140477.91</td>\n",
       "    </tr>\n",
       "    <tr>\n",
       "      <th>.CTLOP3</th>\n",
       "      <td>22073.05</td>\n",
       "      <td>-140487.02</td>\n",
       "    </tr>\n",
       "    <tr>\n",
       "      <th>.G.ROP5</th>\n",
       "      <td>3716.32</td>\n",
       "      <td>-122101.20</td>\n",
       "    </tr>\n",
       "    <tr>\n",
       "      <th>.G.ROP6</th>\n",
       "      <td>3723.98</td>\n",
       "      <td>-121206.74</td>\n",
       "    </tr>\n",
       "    <tr>\n",
       "      <th>.NAVAP3</th>\n",
       "      <td>28524.29</td>\n",
       "      <td>-127163.51</td>\n",
       "    </tr>\n",
       "    <tr>\n",
       "      <th>...</th>\n",
       "      <td>...</td>\n",
       "      <td>...</td>\n",
       "    </tr>\n",
       "    <tr>\n",
       "      <th>.ENSDL71VIGY</th>\n",
       "      <td>18020.45</td>\n",
       "      <td>-149029.21</td>\n",
       "    </tr>\n",
       "    <tr>\n",
       "      <th>.ENSDL72VIGY</th>\n",
       "      <td>17480.23</td>\n",
       "      <td>-149366.71</td>\n",
       "    </tr>\n",
       "    <tr>\n",
       "      <th>.VENAL71VLARO</th>\n",
       "      <td>19278.83</td>\n",
       "      <td>-132401.36</td>\n",
       "    </tr>\n",
       "    <tr>\n",
       "      <th>.EICHL61VOGEL</th>\n",
       "      <td>24167.06</td>\n",
       "      <td>-144544.95</td>\n",
       "    </tr>\n",
       "    <tr>\n",
       "      <th>.CAMPL61ZMENT</th>\n",
       "      <td>24097.45</td>\n",
       "      <td>-125158.24</td>\n",
       "    </tr>\n",
       "  </tbody>\n",
       "</table>\n",
       "<p>5828 rows × 2 columns</p>\n",
       "</div>"
      ]
     },
     "execution_count": 89,
     "metadata": {},
     "output_type": "execute_result"
    }
   ],
   "execution_count": 89
  },
  {
   "cell_type": "code",
   "id": "434b252ab414e95d",
   "metadata": {
    "ExecuteTime": {
     "end_time": "2025-09-09T22:14:55.088458Z",
     "start_time": "2025-09-09T22:14:54.730643Z"
    }
   },
   "source": [
    "default_pf = network1.get_default_nad_profile()\n",
    "vl_descriptions_df = default_pf.vl_descriptions[default_pf.vl_descriptions['type'] != 'FOOTER']\n",
    "labels_df = pd.DataFrame({\n",
    "    'side1': delta_p['delta_p1'].map(lambda x: f\"{x:.1f}\"),\n",
    "    'side2': delta_p['delta_p2'].map(lambda x: f\"{x:.1f}\")\n",
    "})\n",
    "\n",
    "diagram_profile=pn.NadProfile(branch_labels=labels_df, vl_descriptions=vl_descriptions_df, bus_descriptions=default_pf.bus_descriptions,\n",
    "                                      bus_node_styles=default_pf.bus_node_styles, edge_styles=edges_styles_df)"
   ],
   "outputs": [],
   "execution_count": 90
  },
  {
   "cell_type": "code",
   "id": "8124e1a1-fc12-4355-b394-50a4439b77a8",
   "metadata": {
    "ExecuteTime": {
     "end_time": "2025-09-09T22:14:56.007892Z",
     "start_time": "2025-09-09T22:14:55.111998Z"
    }
   },
   "source": [
    "\n",
    "\n",
    "network_explorer(network1, depth=2, vl_id='STRASP3', nad_profile=diagram_profile, fixed_nad_positions=fixed_positions)"
   ],
   "outputs": [
    {
     "data": {
      "text/plain": [
       "HBox(children=(VBox(children=(Label(value='Voltage levels'), VBox(children=(Text(value='', description='Filter…"
      ],
      "application/vnd.jupyter.widget-view+json": {
       "version_major": 2,
       "version_minor": 0,
       "model_id": "43e84bcd97b645228cdd21dc2967b188"
      }
     },
     "execution_count": 91,
     "metadata": {},
     "output_type": "execute_result"
    }
   ],
   "execution_count": 91
  },
  {
   "cell_type": "code",
   "id": "d0cd400a-c4f0-406c-a8a2-7e0b7bd1876c",
   "metadata": {},
   "source": [],
   "outputs": [],
   "execution_count": null
  },
  {
   "cell_type": "code",
   "execution_count": null,
   "id": "8517e30c-2847-4bd0-a0d7-cebf3ea1b4b2",
   "metadata": {},
   "outputs": [],
   "source": []
  }
 ],
 "metadata": {
  "kernelspec": {
   "display_name": "Python 3 (ipykernel)",
   "language": "python",
   "name": "python3"
  },
  "language_info": {
   "codemirror_mode": {
    "name": "ipython",
    "version": 3
   },
   "file_extension": ".py",
   "mimetype": "text/x-python",
   "name": "python",
   "nbconvert_exporter": "python",
   "pygments_lexer": "ipython3",
   "version": "3.10.12"
  }
 },
 "nbformat": 4,
 "nbformat_minor": 5
}
