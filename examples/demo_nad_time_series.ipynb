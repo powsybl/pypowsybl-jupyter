{
 "cells": [
  {
   "cell_type": "code",
   "execution_count": 1,
   "id": "f42abf42-4718-4f92-a542-68ae289906a6",
   "metadata": {
    "ExecuteTime": {
     "end_time": "2025-05-19T08:24:55.277076Z",
     "start_time": "2025-05-19T08:24:54.421813Z"
    }
   },
   "outputs": [],
   "source": [
    "import pypowsybl.network as pn\n",
    "import pypowsybl.loadflow as lf\n",
    "from pypowsybl_jupyter import nad_explorer\n",
    "from datetime import datetime, timedelta\n",
    "import pandas as pd\n",
    "import random"
   ]
  },
  {
   "cell_type": "code",
   "execution_count": 2,
   "id": "ce646543-5d2d-4933-8106-dfb7a281124e",
   "metadata": {
    "ExecuteTime": {
     "end_time": "2025-05-19T08:24:55.577321Z",
     "start_time": "2025-05-19T08:24:55.286926Z"
    }
   },
   "outputs": [],
   "source": [
    "network = pn.create_ieee118()"
   ]
  },
  {
   "cell_type": "code",
   "execution_count": 3,
   "id": "3c2ec122-3ee8-491e-83ad-a9268faa4264",
   "metadata": {},
   "outputs": [],
   "source": [
    "#let's run a LF so that active powers are included in the diagram\n",
    "lfres=lf.run_ac(network, parameters=lf.Parameters(distributed_slack=False))"
   ]
  },
  {
   "cell_type": "code",
   "execution_count": 4,
   "id": "46b5e17b-fda0-4293-8ab1-70462ef5ccae",
   "metadata": {},
   "outputs": [
    {
     "data": {
      "text/html": [
       "<div>\n",
       "<style scoped>\n",
       "    .dataframe tbody tr th:only-of-type {\n",
       "        vertical-align: middle;\n",
       "    }\n",
       "\n",
       "    .dataframe tbody tr th {\n",
       "        vertical-align: top;\n",
       "    }\n",
       "\n",
       "    .dataframe thead th {\n",
       "        text-align: right;\n",
       "    }\n",
       "</style>\n",
       "<table border=\"1\" class=\"dataframe\">\n",
       "  <thead>\n",
       "    <tr style=\"text-align: right;\">\n",
       "      <th></th>\n",
       "      <th>timestamp</th>\n",
       "      <th>branch_id</th>\n",
       "      <th>value1</th>\n",
       "      <th>value2</th>\n",
       "      <th>connected1</th>\n",
       "      <th>connected2</th>\n",
       "    </tr>\n",
       "  </thead>\n",
       "  <tbody>\n",
       "    <tr>\n",
       "      <th>0</th>\n",
       "      <td>2025/09/04 11:48</td>\n",
       "      <td>L1-2-1</td>\n",
       "      <td>59.066685</td>\n",
       "      <td>-94.773748</td>\n",
       "      <td>True</td>\n",
       "      <td>True</td>\n",
       "    </tr>\n",
       "    <tr>\n",
       "      <th>1</th>\n",
       "      <td>2025/09/04 11:48</td>\n",
       "      <td>L1-3-1</td>\n",
       "      <td>69.341963</td>\n",
       "      <td>-69.800973</td>\n",
       "      <td>True</td>\n",
       "      <td>True</td>\n",
       "    </tr>\n",
       "    <tr>\n",
       "      <th>2</th>\n",
       "      <td>2025/09/04 11:48</td>\n",
       "      <td>L4-5-1</td>\n",
       "      <td>72.648446</td>\n",
       "      <td>-56.746991</td>\n",
       "      <td>True</td>\n",
       "      <td>True</td>\n",
       "    </tr>\n",
       "    <tr>\n",
       "      <th>3</th>\n",
       "      <td>2025/09/04 11:48</td>\n",
       "      <td>L3-5-1</td>\n",
       "      <td>70.101538</td>\n",
       "      <td>-77.842015</td>\n",
       "      <td>True</td>\n",
       "      <td>True</td>\n",
       "    </tr>\n",
       "    <tr>\n",
       "      <th>4</th>\n",
       "      <td>2025/09/04 11:48</td>\n",
       "      <td>L5-6-1</td>\n",
       "      <td>75.256347</td>\n",
       "      <td>-98.874258</td>\n",
       "      <td>True</td>\n",
       "      <td>True</td>\n",
       "    </tr>\n",
       "  </tbody>\n",
       "</table>\n",
       "</div>"
      ],
      "text/plain": [
       "          timestamp branch_id     value1     value2  connected1  connected2\n",
       "0  2025/09/04 11:48    L1-2-1  59.066685 -94.773748        True        True\n",
       "1  2025/09/04 11:48    L1-3-1  69.341963 -69.800973        True        True\n",
       "2  2025/09/04 11:48    L4-5-1  72.648446 -56.746991        True        True\n",
       "3  2025/09/04 11:48    L3-5-1  70.101538 -77.842015        True        True\n",
       "4  2025/09/04 11:48    L5-6-1  75.256347 -98.874258        True        True"
      ]
     },
     "execution_count": 4,
     "metadata": {},
     "output_type": "execute_result"
    }
   ],
   "source": [
    "# Get some line IDs from the network to use in our time series data\n",
    "lines = network.get_lines()\n",
    "all_branch_ids = list(lines.index)\n",
    "\n",
    "# Create a simple time series DataFrame\n",
    "# This needs to have a 'timestamp' column at minimum\n",
    "start_time = datetime.now()\n",
    "timestamps = [start_time + timedelta(hours=i) for i in range(24)]  # 24 hours of data\n",
    "\n",
    "# Create branch data with varying values for each timestamp\n",
    "branch_data = []\n",
    "for ts in timestamps:\n",
    "    for branch_id in all_branch_ids:\n",
    "        branch_data.append({\n",
    "            'timestamp': ts.strftime(\"%Y/%m/%d %H:%M\"),\n",
    "            'branch_id': branch_id,\n",
    "            'value1': random.uniform(50, 100),  \n",
    "            'value2': random.uniform(-100, -50), \n",
    "            'connected1' : True,\n",
    "            'connected2' : True\n",
    "        })\n",
    "# Create a DataFrame with the branch data\n",
    "time_series = pd.DataFrame(branch_data)\n",
    "\n",
    "# Display the first few rows to see the structure\n",
    "time_series.head()"
   ]
  },
  {
   "cell_type": "code",
   "execution_count": 1,
   "id": "98db64b2-0490-4380-be32-16cc5f367ad1",
   "metadata": {},
   "outputs": [
    {
     "ename": "NameError",
     "evalue": "name 'nad_explorer' is not defined",
     "output_type": "error",
     "traceback": [
      "\u001b[0;31m---------------------------------------------------------------------------\u001b[0m",
      "\u001b[0;31mNameError\u001b[0m                                 Traceback (most recent call last)",
      "Cell \u001b[0;32mIn[1], line 3\u001b[0m\n\u001b[1;32m      1\u001b[0m \u001b[38;5;66;03m# Display the diagram\u001b[39;00m\n\u001b[1;32m      2\u001b[0m \u001b[38;5;66;03m# The diagram will update when you move the time slider\u001b[39;00m\n\u001b[0;32m----> 3\u001b[0m \u001b[43mnad_explorer\u001b[49m(network,voltage_level_ids\u001b[38;5;241m=\u001b[39m [\u001b[38;5;124m'\u001b[39m\u001b[38;5;124mHESDIP4\u001b[39m\u001b[38;5;124m'\u001b[39m], depth\u001b[38;5;241m=\u001b[39m\u001b[38;5;241m1\u001b[39m, time_series_data\u001b[38;5;241m=\u001b[39mtime_series)\n",
      "\u001b[0;31mNameError\u001b[0m: name 'nad_explorer' is not defined"
     ]
    }
   ],
   "source": [
    "# Display the diagram\n",
    "# The diagram will update when you move the time slider\n",
    "nad_explorer(network,voltage_level_ids= ['VL2'], depth=1, time_series_data=time_series)"
   ]
  },
  {
   "cell_type": "code",
   "execution_count": null,
   "id": "34e4215171008e30",
   "metadata": {},
   "outputs": [],
   "source": []
  },
  {
   "cell_type": "code",
   "execution_count": null,
   "id": "75cab7f3c6f8a63e",
   "metadata": {},
   "outputs": [],
   "source": []
  },
  {
   "cell_type": "code",
   "execution_count": null,
   "id": "c03be88d-55ad-425f-8bbf-e4eefe7ea2fc",
   "metadata": {},
   "outputs": [],
   "source": []
  },
  {
   "cell_type": "code",
   "execution_count": null,
   "id": "835879a7-6c7c-4d72-aeea-4b38fcc6fdcf",
   "metadata": {},
   "outputs": [],
   "source": []
  },
  {
   "cell_type": "code",
   "execution_count": null,
   "id": "cb52b5f2-36c3-435c-a633-6d0415e5432d",
   "metadata": {},
   "outputs": [],
   "source": []
  },
  {
   "cell_type": "code",
   "execution_count": null,
   "id": "12f233ac-9381-4fa0-b3bf-bffa987761a7",
   "metadata": {},
   "outputs": [],
   "source": []
  }
 ],
 "metadata": {
  "kernelspec": {
   "display_name": "Python 3 (ipykernel)",
   "language": "python",
   "name": "python3"
  },
  "language_info": {
   "codemirror_mode": {
    "name": "ipython",
    "version": 3
   },
   "file_extension": ".py",
   "mimetype": "text/x-python",
   "name": "python",
   "nbconvert_exporter": "python",
   "pygments_lexer": "ipython3",
   "version": "3.10.12"
  }
 },
 "nbformat": 4,
 "nbformat_minor": 5
}
