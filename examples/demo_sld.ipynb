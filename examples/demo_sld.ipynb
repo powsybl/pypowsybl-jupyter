{
 "cells": [
  {
   "cell_type": "code",
   "execution_count": 1,
   "metadata": {},
   "outputs": [],
   "source": [
    "from pypowsybl_jupyter import display_sld_svg\n",
    "import ipywidgets as widgets\n",
    "import pypowsybl as pp"
   ]
  },
  {
   "cell_type": "code",
   "execution_count": 2,
   "metadata": {},
   "outputs": [],
   "source": [
    "network = pp.network.create_four_substations_node_breaker_network()"
   ]
  },
  {
   "cell_type": "code",
   "execution_count": 3,
   "metadata": {},
   "outputs": [],
   "source": [
    "#declare some example callbacks\n",
    "def handle_vl_change(change):\n",
    "    print('Clicked a VL arrow, next VL is: ' + change.new)\n",
    "def handle_switch_change(change):\n",
    "    print('Clicked a switch: ' + str(change.new))\n",
    "def handle_feeder_change(change):\n",
    "    print('Clicked a feeder: ' + str(change.new))\n",
    "def handle_bus_change(change):\n",
    "    print('Clicked a bus: ' + str(change.new))"
   ]
  },
  {
   "cell_type": "code",
   "execution_count": 4,
   "metadata": {},
   "outputs": [],
   "source": [
    "#define an SLD for a VL, using the display_sld_widget from pypowsybl_jupyter\n",
    "#and activate the callbacks on VL arrows, switches and feeders\n",
    "sld_widget=display_sld_svg(network.get_single_line_diagram(network.get_voltage_levels().index[1]), enable_callbacks=True)\n",
    "sld_widget.observe(handle_vl_change, names='clicked_nextvl')\n",
    "sld_widget.observe(handle_switch_change, names='clicked_switch')\n",
    "sld_widget.observe(handle_feeder_change, names='clicked_feeder')\n",
    "sld_widget.observe(handle_bus_change, names='clicked_bus')"
   ]
  },
  {
   "cell_type": "code",
   "execution_count": 5,
   "metadata": {},
   "outputs": [
    {
     "data": {
      "application/vnd.jupyter.widget-view+json": {
       "model_id": "d65272054c154779aef273363a2bab72",
       "version_major": 2,
       "version_minor": 0
      },
      "text/plain": [
       "VBox(children=(HBox(children=(Label(value='Voltage Level:'), Text(value=''))), SvgSldWidget(value='<?xml versi…"
      ]
     },
     "execution_count": 5,
     "metadata": {},
     "output_type": "execute_result"
    }
   ],
   "source": [
    "#define a text box, using one of the standard ipywidgets\n",
    "sld_nextvl_text = widgets.Text()\n",
    "\n",
    "#link the text box content to the widget's clicked_nextvl value, so that its content is automatically updated\n",
    "#when a VL arrow is clicked\n",
    "mylink = widgets.jslink((sld_widget, 'clicked_nextvl'), (sld_nextvl_text, 'value'))\n",
    "\n",
    "#finally, display the two widgets\n",
    "widgets.VBox([widgets.HBox([widgets.Label(value='Voltage Level:'), sld_nextvl_text]), sld_widget])"
   ]
  }
 ],
 "metadata": {
  "kernelspec": {
   "display_name": "Python 3 (ipykernel)",
   "language": "python",
   "name": "python3"
  },
  "language_info": {
   "codemirror_mode": {
    "name": "ipython",
    "version": 3
   },
   "file_extension": ".py",
   "mimetype": "text/x-python",
   "name": "python",
   "nbconvert_exporter": "python",
   "pygments_lexer": "ipython3",
   "version": "3.12.1"
  }
 },
 "nbformat": 4,
 "nbformat_minor": 4
}
