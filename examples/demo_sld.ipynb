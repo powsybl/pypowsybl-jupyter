{
 "cells": [
  {
   "cell_type": "code",
   "execution_count": null,
   "id": "b6d17e9b-2a42-481b-903c-a8761f1fe829",
   "metadata": {
    "tags": []
   },
   "outputs": [],
   "source": [
    "from pypowsybl_jupyter import display_sld_svg\n",
    "import ipywidgets as widgets\n",
    "import pypowsybl as pp"
   ]
  },
  {
   "cell_type": "code",
   "execution_count": null,
   "id": "a41c8d0d-1340-400b-ab05-5e33657c4bf0",
   "metadata": {
    "tags": []
   },
   "outputs": [],
   "source": [
    "network = pp.network.create_four_substations_node_breaker_network()"
   ]
  },
  {
   "cell_type": "code",
   "execution_count": null,
   "id": "4aeb5de0-94a1-464e-b561-fe0a90fc27f4",
   "metadata": {},
   "outputs": [],
   "source": [
    "#declare some example callbacks\n",
    "def test_nextvl_callback(event):\n",
    "    print('Clicked a VL arrow, next VL is: ' + event.clicked_nextvl)\n",
    "def test_switch_callback(event):\n",
    "    print('Clicked a switch: ' + str(event.clicked_switch))\n",
    "def test_feeder_callback(event):\n",
    "    print('Clicked a feeder: ' + str(event.clicked_feeder))  \n",
    "def test_bus_callback(event):\n",
    "    print('Clicked a bus: ' + str(event.clicked_bus))     "
   ]
  },
  {
   "cell_type": "code",
   "execution_count": null,
   "id": "4ed51a20-f1d5-4792-9625-c3fccf5e2f0f",
   "metadata": {},
   "outputs": [],
   "source": [
    "#define an SLD for a VL, using the display_sld_widget from pypowsybl_jupyter\n",
    "#and activate the callbacks on VL arrows, switches and feeders\n",
    "sld_widget=display_sld_svg(network.get_single_line_diagram(network.get_voltage_levels().index[1]), enable_callbacks=True)\n",
    "sld_widget.on_nextvl(test_nextvl_callback)\n",
    "sld_widget.on_switch(test_switch_callback)\n",
    "sld_widget.on_feeder(test_feeder_callback)\n",
    "sld_widget.on_bus(test_bus_callback)\n",
    "\n",
    "\n",
    "#define a text box, using one of the standard ipywidgets\n",
    "sld_nextvl_text = widgets.Label()\n",
    "\n",
    "#link the text box content to the widget's clicked_nextvl value, so that its content is automatically updated\n",
    "#when a VL arrow is clicked\n",
    "mylink = widgets.jslink((sld_widget, 'clicked_nextvl'), (sld_nextvl_text, 'value'))\n",
    "\n",
    "#finally, display the two widgets\n",
    "widgets.VBox([widgets.HBox([widgets.Label(value='Next Voltage Level:'), sld_nextvl_text]), sld_widget])"
   ]
  }
 ],
 "metadata": {
  "kernelspec": {
   "display_name": "Python 3 (ipykernel)",
   "language": "python",
   "name": "python3"
  },
  "language_info": {
   "codemirror_mode": {
    "name": "ipython",
    "version": 3
   },
   "file_extension": ".py",
   "mimetype": "text/x-python",
   "name": "python",
   "nbconvert_exporter": "python",
   "pygments_lexer": "ipython3",
   "version": "3.12.1"
  }
 },
 "nbformat": 4,
 "nbformat_minor": 5
}
