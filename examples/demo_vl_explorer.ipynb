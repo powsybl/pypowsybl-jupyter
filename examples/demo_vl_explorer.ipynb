{
 "cells": [
  {
   "cell_type": "code",
   "execution_count": null,
   "id": "f42abf42-4718-4f92-a542-68ae289906a6",
   "metadata": {},
   "outputs": [],
   "source": [
    "import pypowsybl.network as pn\n",
    "import pypowsybl.loadflow as lf\n",
    "from pypowsybl_jupyter import vl_explorer"
   ]
  },
  {
   "cell_type": "code",
   "execution_count": null,
   "id": "ce646543-5d2d-4933-8106-dfb7a281124e",
   "metadata": {},
   "outputs": [],
   "source": [
    "network=pn.create_four_substations_node_breaker_network()"
   ]
  },
  {
   "cell_type": "code",
   "execution_count": null,
   "id": "74dd5af0-167d-41a2-a9a3-3ca3c701fe5d",
   "metadata": {},
   "outputs": [],
   "source": [
    "vl_explorer(network, depth=4)"
   ]
  }
 ],
 "metadata": {
  "kernelspec": {
   "display_name": "Python 3 (ipykernel)",
   "language": "python",
   "name": "python3"
  },
  "language_info": {
   "codemirror_mode": {
    "name": "ipython",
    "version": 3
   },
   "file_extension": ".py",
   "mimetype": "text/x-python",
   "name": "python",
   "nbconvert_exporter": "python",
   "pygments_lexer": "ipython3",
   "version": "3.12.3"
  }
 },
 "nbformat": 4,
 "nbformat_minor": 5
}
